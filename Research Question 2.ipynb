{
 "cells": [
  {
   "cell_type": "markdown",
   "id": "abe22cb2",
   "metadata": {},
   "source": [
    "# Research Question 2"
   ]
  },
  {
   "cell_type": "markdown",
   "id": "9962b32e",
   "metadata": {},
   "source": [
    "Part 1: Latitude vs c"
   ]
  },
  {
   "cell_type": "code",
   "execution_count": 1,
   "id": "f085ff65",
   "metadata": {},
   "outputs": [],
   "source": [
    "# This is a list of all c parameters taken from the RQ1.csv,\n",
    "# calculated from the tokunaga_fns.py.\n",
    "c = [0, 0, 1.16, 0.82, 2.51, 2.4, 1.15, 1.52, 0.59,\n",
    "     0, 0.71, 1.11, 0, 1.84, 1.17, 3, 2, 0, 1.71, \n",
    "     0.73, 0.8, 0, 0.48, 1.85, 0, 1.32, 1.17, 1.48, \n",
    "     0.33, 2.59, 0.98, 0, 1.67, 1.91, 1.5]"
   ]
  },
  {
   "cell_type": "code",
   "execution_count": 2,
   "id": "8905fa69",
   "metadata": {},
   "outputs": [
    {
     "name": "stdout",
     "output_type": "stream",
     "text": [
      "[0, 0, 1.16, 0.82, 2.51, 2.4, 1.15, 1.52, 0.59, 0, 0.71, 1.11, 0, 1.84, 1.17, 3, 2, 0, 1.71, 0.73, 0.8, 0, 0.48, 1.85, 0, 1.32, 1.17, 1.48, 0.33, 2.59, 0.98, 0, 1.67, 1.91, 1.5]\n"
     ]
    }
   ],
   "source": [
    "# Checks that all values have been entered into the list correctly.\n",
    "print(c)"
   ]
  },
  {
   "cell_type": "code",
   "execution_count": 2,
   "id": "515547fb",
   "metadata": {},
   "outputs": [],
   "source": [
    "# Based on the Example Tokunaga Analysis-**, any networks which:\n",
    "# a) lacked a line of best fit, or b) had a negative correlation,\n",
    "# were filtered out (not TSS).\n",
    "c_filt = [1.16, 2.51, 1.15, 1.52, 1.11, 1.84, 1.07, 3, 2, 1.71, 0.48, 1.85, 1.32, 1.17, 1.48, 2.59, 1.67, 1.91, 1.5]"
   ]
  },
  {
   "cell_type": "code",
   "execution_count": 4,
   "id": "3cfb23b6",
   "metadata": {},
   "outputs": [
    {
     "name": "stdout",
     "output_type": "stream",
     "text": [
      "[1.16, 2.51, 1.15, 1.52, 1.11, 1.84, 1.07, 3, 2, 1.71, 0.48, 1.85, 1.32, 1.17, 1.48, 2.59, 1.67, 1.91, 1.5]\n"
     ]
    }
   ],
   "source": [
    "# Checks that all values have been entered into the list correctly.\n",
    "print(c_filt)"
   ]
  },
  {
   "cell_type": "code",
   "execution_count": 1,
   "id": "8c8e416e",
   "metadata": {},
   "outputs": [],
   "source": [
    "# Now for each network which was filtered,\n",
    "# a corresponding latitude coordinate had \n",
    "# to be found to georeference the networks location.\n",
    "\n",
    "# Latitude sampling was collected at the river head/geometric centre\n",
    "# to act as a represenative sample of the whole network.\n",
    "lat = [-53, -51, -54, -53, -31, -28, -25, -9, -11, -9, -12, -8, -10, -8, -9, -14, 19, 15, 7]"
   ]
  },
  {
   "cell_type": "code",
   "execution_count": 6,
   "id": "d7cac008",
   "metadata": {},
   "outputs": [
    {
     "name": "stdout",
     "output_type": "stream",
     "text": [
      "[-53, -51, -54, -53, -31, -28, -25, -9, -11, -9, -12, -8, -10, -8, -9, -14, 19, 15, 7]\n"
     ]
    }
   ],
   "source": [
    "print(lat)"
   ]
  },
  {
   "cell_type": "code",
   "execution_count": 5,
   "id": "f941c196",
   "metadata": {},
   "outputs": [
    {
     "data": {
      "image/png": "[encoded data removed]",
      "text/plain": [
       "<Figure size 432x288 with 1 Axes>"
      ]
     },
     "metadata": {
      "needs_background": "light"
     },
     "output_type": "display_data"
    }
   ],
   "source": [
    "# Defining the libraries\n",
    "import numpy as np #A libary used for working with arrays.\n",
    "import matplotlib.pyplot as plt # A libary used for plotting graphs.\n",
    "import pandas as pd # A libary used for faster data analysis, works in conjunction with the numpy libary.\n",
    "from matplotlib.patches import Patch # Used to customise legend.\n",
    "from matplotlib.lines import Line2D # Used to customise legend.\n",
    "# The following command allows for the storing of created plots in the notebook document for the readers convenience.\n",
    "%matplotlib inline\n",
    "\n",
    "# Creates scatter plot of c values in relation to latitude.\n",
    "plt.scatter(x = c_filt, y = lat, marker = '.', color = 'black', label = 'TSS Network', zorder = 1)\n",
    "plt.ylabel('Latitude')\n",
    "plt.xlabel('c', style = 'italic')\n",
    "plt.ylim(-60, 60)\n",
    "plt.xlim(0, 3.5)\n",
    "plt.title('LATITUDES EFFECT ON C PARAMETER')\n",
    "plt.legend(markerfirst = True, frameon = True, loc='upper right')\n",
    "plt.tight_layout()\n",
    "plt.savefig('Lat,c.png')"
   ]
  },
  {
   "cell_type": "markdown",
   "id": "98ed4094",
   "metadata": {},
   "source": [
    "Part 2: Regression Statistical Test"
   ]
  },
  {
   "cell_type": "code",
   "execution_count": null,
   "id": "c7cfd159",
   "metadata": {},
   "outputs": [],
   "source": []
  },
  {
   "cell_type": "code",
   "execution_count": 1,
   "id": "8db94fc4",
   "metadata": {},
   "outputs": [],
   "source": [
    "test_c_filt = [1.16, 2.51, 1.15, 1.52, 1.11, 1.84, 1.07, 3, 2, 1.71, 0.48, 1.85, 1.32, 1.17, 1.48, 2.59]\n",
    "test_lat = [-53, -51, -54, -53, -31, -28, -25, -9, -11, -9, -12, -8, -10, -8, -9, -14]"
   ]
  },
  {
   "cell_type": "code",
   "execution_count": null,
   "id": "91c0b600",
   "metadata": {},
   "outputs": [],
   "source": []
  },
  {
   "cell_type": "code",
   "execution_count": 17,
   "id": "e99ee10b",
   "metadata": {},
   "outputs": [
    {
     "ename": "NameError",
     "evalue": "name 'sns' is not defined",
     "output_type": "error",
     "traceback": [
      "\u001b[1;31m---------------------------------------------------------------------------\u001b[0m",
      "\u001b[1;31mNameError\u001b[0m                                 Traceback (most recent call last)",
      "\u001b[1;32m<ipython-input-17-e1a184cf9980>\u001b[0m in \u001b[0;36m<module>\u001b[1;34m\u001b[0m\n\u001b[0;32m     13\u001b[0m \u001b[1;32mfrom\u001b[0m \u001b[0mscipy\u001b[0m\u001b[1;33m.\u001b[0m\u001b[0mstats\u001b[0m \u001b[1;32mimport\u001b[0m \u001b[0mlinregress\u001b[0m\u001b[1;33m\u001b[0m\u001b[1;33m\u001b[0m\u001b[0m\n\u001b[0;32m     14\u001b[0m \u001b[0mlinregress\u001b[0m\u001b[1;33m(\u001b[0m\u001b[0ma\u001b[0m\u001b[1;33m,\u001b[0m \u001b[0mb\u001b[0m\u001b[1;33m)\u001b[0m\u001b[1;33m\u001b[0m\u001b[1;33m\u001b[0m\u001b[0m\n\u001b[1;32m---> 15\u001b[1;33m \u001b[0msns\u001b[0m\u001b[1;33m.\u001b[0m\u001b[0mregplot\u001b[0m\u001b[1;33m(\u001b[0m\u001b[0mx\u001b[0m\u001b[1;33m,\u001b[0m \u001b[0my\u001b[0m\u001b[1;33m,\u001b[0m \u001b[0mci\u001b[0m\u001b[1;33m=\u001b[0m\u001b[1;32mNone\u001b[0m\u001b[1;33m)\u001b[0m\u001b[1;33m\u001b[0m\u001b[1;33m\u001b[0m\u001b[0m\n\u001b[0m\u001b[0;32m     16\u001b[0m \u001b[1;33m\u001b[0m\u001b[0m\n\u001b[0;32m     17\u001b[0m \u001b[1;31m# Creates scatter plot of c values in relation to latitude.\u001b[0m\u001b[1;33m\u001b[0m\u001b[1;33m\u001b[0m\u001b[1;33m\u001b[0m\u001b[0m\n",
      "\u001b[1;31mNameError\u001b[0m: name 'sns' is not defined"
     ]
    }
   ],
   "source": [
    "# Defining the libraries\n",
    "import numpy as np #A libary used for working with arrays.\n",
    "import matplotlib.pyplot as plt # A libary used for plotting graphs.\n",
    "import pandas as pd # A libary used for faster data analysis, works in conjunction with the numpy libary.\n",
    "from matplotlib.patches import Patch # Used to customise legend.\n",
    "from matplotlib.lines import Line2D # Used to customise legend.\n",
    "# The following command allows for the storing of created plots in the notebook document for the readers convenience.\n",
    "%matplotlib inline\n",
    "\n",
    "# Pearsons correlation coefficent calculation\n",
    "a = [1.16, 2.51, 1.15, 1.52, 1.11, 1.84, 1.07, 3, 2, 1.71, 0.48, 1.85, 1.32, 1.17, 1.48, 2.59]\n",
    "b = [-53, -51, -54, -53, -31, -28, -25, -9, -11, -9, -12, -8, -10, -8, -9, -14]\n",
    "from scipy.stats import linregress\n",
    "linregress(a, b)\n",
    "sns.regplot(x, y, ci=None)\n",
    "\n",
    "# Creates scatter plot of c values in relation to latitude.\n",
    "plt.scatter(x = test_c_filt, y = test_lat, marker = '.', color = 'black', label = 'TSS Network')\n",
    "plt.ylabel('Latitude')\n",
    "plt.xlabel('c', style = 'italic')\n",
    "plt.ylim(-60, 0)\n",
    "plt.xlim(0, 3.5)\n",
    "plt.title('LATITUDES EFFECT ON C PARAMETER')\n",
    "plt.legend(markerfirst = True, frameon = True, loc='upper right')\n",
    "plt.tight_layout()\n",
    "plt.savefig('Lat,c.png')"
   ]
  },
  {
   "cell_type": "code",
   "execution_count": null,
   "id": "47f63b02",
   "metadata": {},
   "outputs": [],
   "source": []
  },
  {
   "cell_type": "code",
   "execution_count": 2,
   "id": "4f885d80",
   "metadata": {},
   "outputs": [
    {
     "name": "stderr",
     "output_type": "stream",
     "text": [
      "C:\\Users\\Alexz\\anaconda3\\lib\\site-packages\\seaborn\\_decorators.py:36: FutureWarning: Pass the following variables as keyword args: x, y. From version 0.12, the only valid positional argument will be `data`, and passing other arguments without an explicit keyword will result in an error or misinterpretation.\n",
      "  warnings.warn(\n"
     ]
    },
    {
     "data": {
      "image/png": "[encoded data removed]",
      "text/plain": [
       "<Figure size 432x288 with 1 Axes>"
      ]
     },
     "metadata": {
      "needs_background": "light"
     },
     "output_type": "display_data"
    }
   ],
   "source": [
    "# Defining the libraries\n",
    "import numpy as np #A libary used for working with arrays.\n",
    "import matplotlib.pyplot as plt # A libary used for plotting graphs.\n",
    "import pandas as pd # A libary used for faster data analysis, works in conjunction with the numpy libary.\n",
    "import seaborn as sns\n",
    "from matplotlib.patches import Patch # Used to customise legend.\n",
    "from matplotlib.lines import Line2D # Used to customise legend.\n",
    "from sklearn.linear_model import LinearRegression # A pre-defined linear regression model.\n",
    "from scipy import stats #Importing a statistic libary.\n",
    "# The following command allows for the storing of created plots in the notebook document for the readers convenience.\n",
    "%matplotlib inline\n",
    "\n",
    "# Creates Linear Regression\n",
    "\n",
    "x = np.array([-53, -51, -54, -53, -31, -28, -25, -9, -11, -9, \n",
    "              -12, -8, -10, -8, -9, -14])\n",
    "y = np.array([1.16, 2.51, 1.15, 1.52, 1.11, 1.84, 1.07, 3, 2, \n",
    "              1.71, 0.48, 1.85, 1.32, 1.17, 1.48, 2.59])\n",
    "\n",
    "sns.regplot(x, y, color = 'black', marker = '.', line_kws = {'color': 'green', 'ls': '--'})\n",
    "plt.xlabel('Latitude')\n",
    "plt.ylabel('c', style = 'italic')\n",
    "plt.xlim(-60, 0)\n",
    "plt.ylim(0, 3.5)\n",
    "plt.title('LATITUDES EFFECT ON C PARAMETER')\n",
    "plt.tight_layout()\n",
    "plt.savefig('linregress.png')\n"
   ]
  },
  {
   "cell_type": "code",
   "execution_count": 5,
   "id": "98152f0b",
   "metadata": {},
   "outputs": [
    {
     "data": {
      "text/plain": [
       "LinregressResult(slope=0.0043964381939661954, intercept=1.7282892940423116, rvalue=0.1239507480980553, pvalue=0.6474157071120499, stderr=0.009406448973068894, intercept_stderr=0.28255577682987354)"
      ]
     },
     "execution_count": 5,
     "metadata": {},
     "output_type": "execute_result"
    }
   ],
   "source": [
    "# Pearsons correlation coefficent calculation\n",
    "b = [1.16, 2.51, 1.15, 1.52, 1.11, 1.84, 1.07, 3, 2, 1.71, 0.48, 1.85, 1.32, 1.17, 1.48, 2.59]\n",
    "a = [-53, -51, -54, -53, -31, -28, -25, -9, -11, -9, -12, -8, -10, -8, -9, -14]\n",
    "from scipy.stats import linregress\n",
    "linregress(a, b)"
   ]
  },
  {
   "cell_type": "code",
   "execution_count": null,
   "id": "2b944253",
   "metadata": {},
   "outputs": [],
   "source": [
    "# Creates scatter plot of c values in relation to latitude.\n",
    "plt.scatter(x = test_c_filt, y = test_lat, marker = '.', color = 'black', label = 'TSS Network')\n",
    "plt.plot(test_c_filt, mymodel, linestyle = '', color = 'green')\n",
    "plt.ylabel('Latitude')\n",
    "plt.xlabel('c', style = 'italic')\n",
    "plt.ylim(-60, 0)\n",
    "plt.xlim(0, 3.5)\n",
    "plt.title('LATITUDES EFFECT ON C PARAMETER')\n",
    "plt.legend(markerfirst = True, frameon = True, loc='upper right')\n",
    "plt.tight_layout()\n",
    "plt.savefig('linregress.png')"
   ]
  },
  {
   "cell_type": "code",
   "execution_count": null,
   "id": "e634dc12",
   "metadata": {},
   "outputs": [],
   "source": []
  },
  {
   "cell_type": "code",
   "execution_count": null,
   "id": "6779972a",
   "metadata": {},
   "outputs": [],
   "source": []
  },
  {
   "cell_type": "code",
   "execution_count": null,
   "id": "7ec1fbcc",
   "metadata": {},
   "outputs": [],
   "source": []
  },
  {
   "cell_type": "code",
   "execution_count": null,
   "id": "d8039898",
   "metadata": {},
   "outputs": [],
   "source": []
  },
  {
   "cell_type": "code",
   "execution_count": null,
   "id": "6923e274",
   "metadata": {},
   "outputs": [],
   "source": []
  },
  {
   "cell_type": "code",
   "execution_count": null,
   "id": "19dee370",
   "metadata": {},
   "outputs": [],
   "source": []
  }
 ],
 "metadata": {
  "kernelspec": {
   "display_name": "Python 3",
   "language": "python",
   "name": "python3"
  },
  "language_info": {
   "codemirror_mode": {
    "name": "ipython",
    "version": 3
   },
   "file_extension": ".py",
   "mimetype": "text/x-python",
   "name": "python",
   "nbconvert_exporter": "python",
   "pygments_lexer": "ipython3",
   "version": "3.8.8"
  }
 },
 "nbformat": 4,
 "nbformat_minor": 5
}
