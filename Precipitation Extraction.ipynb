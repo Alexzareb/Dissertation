{
 "cells": [
  {
   "cell_type": "markdown",
   "id": "9c02e442",
   "metadata": {},
   "source": [
    "# Precipitation Extraction and correlation with c Parameter"
   ]
  },
  {
   "cell_type": "code",
   "execution_count": 1,
   "id": "1e6bb50c",
   "metadata": {},
   "outputs": [],
   "source": [
    "from netCDF4 import Dataset\n",
    "from scipy.io import netcdf\n",
    "import numpy as np\n",
    "import cartopy\n",
    "import cartopy.feature as cfeature\n",
    "import cartopy.crs as ccrs\n",
    "import matplotlib.pyplot as plt\n",
    "import xarray as xr\n",
    "from metpy.cbook import get_test_data"
   ]
  },
  {
   "cell_type": "markdown",
   "id": "895d3f52",
   "metadata": {},
   "source": [
    "Here the dataset files are being opened, in both cases the precipation ('precip') variable is being isolated."
   ]
  },
  {
   "cell_type": "code",
   "execution_count": 2,
   "id": "49b3f0bf",
   "metadata": {},
   "outputs": [
    {
     "data": {
      "text/html": [
       "<div><svg style=\"position: absolute; width: 0; height: 0; overflow: hidden\">\n",
       "<defs>\n",
       "<symbol id=\"icon-database\" viewBox=\"0 0 32 32\">\n",
       "<path d=\"M16 0c-8.837 0-16 2.239-16 5v4c0 2.761 7.163 5 16 5s16-2.239 16-5v-4c0-2.761-7.163-5-16-5z\"></path>\n",
       "<path d=\"M16 17c-8.837 0-16-2.239-16-5v6c0 2.761 7.163 5 16 5s16-2.239 16-5v-6c0 2.761-7.163 5-16 5z\"></path>\n",
       "<path d=\"M16 26c-8.837 0-16-2.239-16-5v6c0 2.761 7.163 5 16 5s16-2.239 16-5v-6c0 2.761-7.163 5-16 5z\"></path>\n",
       "</symbol>\n",
       "<symbol id=\"icon-file-text2\" viewBox=\"0 0 32 32\">\n",
       "<path d=\"M28.681 7.159c-0.694-0.947-1.662-2.053-2.724-3.116s-2.169-2.030-3.116-2.724c-1.612-1.182-2.393-1.319-2.841-1.319h-15.5c-1.378 0-2.5 1.121-2.5 2.5v27c0 1.378 1.122 2.5 2.5 2.5h23c1.378 0 2.5-1.122 2.5-2.5v-19.5c0-0.448-0.137-1.23-1.319-2.841zM24.543 5.457c0.959 0.959 1.712 1.825 2.268 2.543h-4.811v-4.811c0.718 0.556 1.584 1.309 2.543 2.268zM28 29.5c0 0.271-0.229 0.5-0.5 0.5h-23c-0.271 0-0.5-0.229-0.5-0.5v-27c0-0.271 0.229-0.5 0.5-0.5 0 0 15.499-0 15.5 0v7c0 0.552 0.448 1 1 1h7v19.5z\"></path>\n",
       "<path d=\"M23 26h-14c-0.552 0-1-0.448-1-1s0.448-1 1-1h14c0.552 0 1 0.448 1 1s-0.448 1-1 1z\"></path>\n",
       "<path d=\"M23 22h-14c-0.552 0-1-0.448-1-1s0.448-1 1-1h14c0.552 0 1 0.448 1 1s-0.448 1-1 1z\"></path>\n",
       "<path d=\"M23 18h-14c-0.552 0-1-0.448-1-1s0.448-1 1-1h14c0.552 0 1 0.448 1 1s-0.448 1-1 1z\"></path>\n",
       "</symbol>\n",
       "</defs>\n",
       "</svg>\n",
       "<style>/* CSS stylesheet for displaying xarray objects in jupyterlab.\n",
       " *\n",
       " */\n",
       "\n",
       ":root {\n",
       "  --xr-font-color0: var(--jp-content-font-color0, rgba(0, 0, 0, 1));\n",
       "  --xr-font-color2: var(--jp-content-font-color2, rgba(0, 0, 0, 0.54));\n",
       "  --xr-font-color3: var(--jp-content-font-color3, rgba(0, 0, 0, 0.38));\n",
       "  --xr-border-color: var(--jp-border-color2, #e0e0e0);\n",
       "  --xr-disabled-color: var(--jp-layout-color3, #bdbdbd);\n",
       "  --xr-background-color: var(--jp-layout-color0, white);\n",
       "  --xr-background-color-row-even: var(--jp-layout-color1, white);\n",
       "  --xr-background-color-row-odd: var(--jp-layout-color2, #eeeeee);\n",
       "}\n",
       "\n",
       "html[theme=dark],\n",
       "body.vscode-dark {\n",
       "  --xr-font-color0: rgba(255, 255, 255, 1);\n",
       "  --xr-font-color2: rgba(255, 255, 255, 0.54);\n",
       "  --xr-font-color3: rgba(255, 255, 255, 0.38);\n",
       "  --xr-border-color: #1F1F1F;\n",
       "  --xr-disabled-color: #515151;\n",
       "  --xr-background-color: #111111;\n",
       "  --xr-background-color-row-even: #111111;\n",
       "  --xr-background-color-row-odd: #313131;\n",
       "}\n",
       "\n",
       ".xr-wrap {\n",
       "  display: block !important;\n",
       "  min-width: 300px;\n",
       "  max-width: 700px;\n",
       "}\n",
       "\n",
       ".xr-text-repr-fallback {\n",
       "  /* fallback to plain text repr when CSS is not injected (untrusted notebook) */\n",
       "  display: none;\n",
       "}\n",
       "\n",
       ".xr-header {\n",
       "  padding-top: 6px;\n",
       "  padding-bottom: 6px;\n",
       "  margin-bottom: 4px;\n",
       "  border-bottom: solid 1px var(--xr-border-color);\n",
       "}\n",
       "\n",
       ".xr-header > div,\n",
       ".xr-header > ul {\n",
       "  display: inline;\n",
       "  margin-top: 0;\n",
       "  margin-bottom: 0;\n",
       "}\n",
       "\n",
       ".xr-obj-type,\n",
       ".xr-array-name {\n",
       "  margin-left: 2px;\n",
       "  margin-right: 10px;\n",
       "}\n",
       "\n",
       ".xr-obj-type {\n",
       "  color: var(--xr-font-color2);\n",
       "}\n",
       "\n",
       ".xr-sections {\n",
       "  padding-left: 0 !important;\n",
       "  display: grid;\n",
       "  grid-template-columns: 150px auto auto 1fr 20px 20px;\n",
       "}\n",
       "\n",
       ".xr-section-item {\n",
       "  display: contents;\n",
       "}\n",
       "\n",
       ".xr-section-item input {\n",
       "  display: none;\n",
       "}\n",
       "\n",
       ".xr-section-item input + label {\n",
       "  color: var(--xr-disabled-color);\n",
       "}\n",
       "\n",
       ".xr-section-item input:enabled + label {\n",
       "  cursor: pointer;\n",
       "  color: var(--xr-font-color2);\n",
       "}\n",
       "\n",
       ".xr-section-item input:enabled + label:hover {\n",
       "  color: var(--xr-font-color0);\n",
       "}\n",
       "\n",
       ".xr-section-summary {\n",
       "  grid-column: 1;\n",
       "  color: var(--xr-font-color2);\n",
       "  font-weight: 500;\n",
       "}\n",
       "\n",
       ".xr-section-summary > span {\n",
       "  display: inline-block;\n",
       "  padding-left: 0.5em;\n",
       "}\n",
       "\n",
       ".xr-section-summary-in:disabled + label {\n",
       "  color: var(--xr-font-color2);\n",
       "}\n",
       "\n",
       ".xr-section-summary-in + label:before {\n",
       "  display: inline-block;\n",
       "  content: '►';\n",
       "  font-size: 11px;\n",
       "  width: 15px;\n",
       "  text-align: center;\n",
       "}\n",
       "\n",
       ".xr-section-summary-in:disabled + label:before {\n",
       "  color: var(--xr-disabled-color);\n",
       "}\n",
       "\n",
       ".xr-section-summary-in:checked + label:before {\n",
       "  content: '▼';\n",
       "}\n",
       "\n",
       ".xr-section-summary-in:checked + label > span {\n",
       "  display: none;\n",
       "}\n",
       "\n",
       ".xr-section-summary,\n",
       ".xr-section-inline-details {\n",
       "  padding-top: 4px;\n",
       "  padding-bottom: 4px;\n",
       "}\n",
       "\n",
       ".xr-section-inline-details {\n",
       "  grid-column: 2 / -1;\n",
       "}\n",
       "\n",
       ".xr-section-details {\n",
       "  display: none;\n",
       "  grid-column: 1 / -1;\n",
       "  margin-bottom: 5px;\n",
       "}\n",
       "\n",
       ".xr-section-summary-in:checked ~ .xr-section-details {\n",
       "  display: contents;\n",
       "}\n",
       "\n",
       ".xr-array-wrap {\n",
       "  grid-column: 1 / -1;\n",
       "  display: grid;\n",
       "  grid-template-columns: 20px auto;\n",
       "}\n",
       "\n",
       ".xr-array-wrap > label {\n",
       "  grid-column: 1;\n",
       "  vertical-align: top;\n",
       "}\n",
       "\n",
       ".xr-preview {\n",
       "  color: var(--xr-font-color3);\n",
       "}\n",
       "\n",
       ".xr-array-preview,\n",
       ".xr-array-data {\n",
       "  padding: 0 5px !important;\n",
       "  grid-column: 2;\n",
       "}\n",
       "\n",
       ".xr-array-data,\n",
       ".xr-array-in:checked ~ .xr-array-preview {\n",
       "  display: none;\n",
       "}\n",
       "\n",
       ".xr-array-in:checked ~ .xr-array-data,\n",
       ".xr-array-preview {\n",
       "  display: inline-block;\n",
       "}\n",
       "\n",
       ".xr-dim-list {\n",
       "  display: inline-block !important;\n",
       "  list-style: none;\n",
       "  padding: 0 !important;\n",
       "  margin: 0;\n",
       "}\n",
       "\n",
       ".xr-dim-list li {\n",
       "  display: inline-block;\n",
       "  padding: 0;\n",
       "  margin: 0;\n",
       "}\n",
       "\n",
       ".xr-dim-list:before {\n",
       "  content: '(';\n",
       "}\n",
       "\n",
       ".xr-dim-list:after {\n",
       "  content: ')';\n",
       "}\n",
       "\n",
       ".xr-dim-list li:not(:last-child):after {\n",
       "  content: ',';\n",
       "  padding-right: 5px;\n",
       "}\n",
       "\n",
       ".xr-has-index {\n",
       "  font-weight: bold;\n",
       "}\n",
       "\n",
       ".xr-var-list,\n",
       ".xr-var-item {\n",
       "  display: contents;\n",
       "}\n",
       "\n",
       ".xr-var-item > div,\n",
       ".xr-var-item label,\n",
       ".xr-var-item > .xr-var-name span {\n",
       "  background-color: var(--xr-background-color-row-even);\n",
       "  margin-bottom: 0;\n",
       "}\n",
       "\n",
       ".xr-var-item > .xr-var-name:hover span {\n",
       "  padding-right: 5px;\n",
       "}\n",
       "\n",
       ".xr-var-list > li:nth-child(odd) > div,\n",
       ".xr-var-list > li:nth-child(odd) > label,\n",
       ".xr-var-list > li:nth-child(odd) > .xr-var-name span {\n",
       "  background-color: var(--xr-background-color-row-odd);\n",
       "}\n",
       "\n",
       ".xr-var-name {\n",
       "  grid-column: 1;\n",
       "}\n",
       "\n",
       ".xr-var-dims {\n",
       "  grid-column: 2;\n",
       "}\n",
       "\n",
       ".xr-var-dtype {\n",
       "  grid-column: 3;\n",
       "  text-align: right;\n",
       "  color: var(--xr-font-color2);\n",
       "}\n",
       "\n",
       ".xr-var-preview {\n",
       "  grid-column: 4;\n",
       "}\n",
       "\n",
       ".xr-var-name,\n",
       ".xr-var-dims,\n",
       ".xr-var-dtype,\n",
       ".xr-preview,\n",
       ".xr-attrs dt {\n",
       "  white-space: nowrap;\n",
       "  overflow: hidden;\n",
       "  text-overflow: ellipsis;\n",
       "  padding-right: 10px;\n",
       "}\n",
       "\n",
       ".xr-var-name:hover,\n",
       ".xr-var-dims:hover,\n",
       ".xr-var-dtype:hover,\n",
       ".xr-attrs dt:hover {\n",
       "  overflow: visible;\n",
       "  width: auto;\n",
       "  z-index: 1;\n",
       "}\n",
       "\n",
       ".xr-var-attrs,\n",
       ".xr-var-data {\n",
       "  display: none;\n",
       "  background-color: var(--xr-background-color) !important;\n",
       "  padding-bottom: 5px !important;\n",
       "}\n",
       "\n",
       ".xr-var-attrs-in:checked ~ .xr-var-attrs,\n",
       ".xr-var-data-in:checked ~ .xr-var-data {\n",
       "  display: block;\n",
       "}\n",
       "\n",
       ".xr-var-data > table {\n",
       "  float: right;\n",
       "}\n",
       "\n",
       ".xr-var-name span,\n",
       ".xr-var-data,\n",
       ".xr-attrs {\n",
       "  padding-left: 25px !important;\n",
       "}\n",
       "\n",
       ".xr-attrs,\n",
       ".xr-var-attrs,\n",
       ".xr-var-data {\n",
       "  grid-column: 1 / -1;\n",
       "}\n",
       "\n",
       "dl.xr-attrs {\n",
       "  padding: 0;\n",
       "  margin: 0;\n",
       "  display: grid;\n",
       "  grid-template-columns: 125px auto;\n",
       "}\n",
       "\n",
       ".xr-attrs dt,\n",
       ".xr-attrs dd {\n",
       "  padding: 0;\n",
       "  margin: 0;\n",
       "  float: left;\n",
       "  padding-right: 10px;\n",
       "  width: auto;\n",
       "}\n",
       "\n",
       ".xr-attrs dt {\n",
       "  font-weight: normal;\n",
       "  grid-column: 1;\n",
       "}\n",
       "\n",
       ".xr-attrs dt:hover span {\n",
       "  display: inline-block;\n",
       "  background: var(--xr-background-color);\n",
       "  padding-right: 10px;\n",
       "}\n",
       "\n",
       ".xr-attrs dd {\n",
       "  grid-column: 2;\n",
       "  white-space: pre-wrap;\n",
       "  word-break: break-all;\n",
       "}\n",
       "\n",
       ".xr-icon-database,\n",
       ".xr-icon-file-text2 {\n",
       "  display: inline-block;\n",
       "  vertical-align: middle;\n",
       "  width: 1em;\n",
       "  height: 1.5em !important;\n",
       "  stroke-width: 0;\n",
       "  stroke: currentColor;\n",
       "  fill: currentColor;\n",
       "}\n",
       "</style><pre class='xr-text-repr-fallback'>&lt;xarray.Dataset&gt;\n",
       "Dimensions:      (lon: 64, lonb: 65, lat: 32, latb: 33, time: 2029, nv: 2,\n",
       "                  scalar_axis: 1)\n",
       "Coordinates:\n",
       "  * lon          (lon) float32 0.0 5.625 11.25 16.88 ... 337.5 343.1 348.8 354.4\n",
       "  * lonb         (lonb) float32 -2.812 2.812 8.438 14.06 ... 345.9 351.6 357.2\n",
       "  * lat          (lat) float32 -85.76 -80.27 -74.74 -69.21 ... 74.74 80.27 85.76\n",
       "  * latb         (latb) float32 -90.0 -83.21 -77.61 -72.05 ... 77.61 83.21 90.0\n",
       "  * time         (time) float64 26.5 79.5 132.5 ... 1.075e+05 1.075e+05\n",
       "  * nv           (nv) float32 1.0 2.0\n",
       "  * scalar_axis  (scalar_axis) float32 0.0\n",
       "Data variables: (12/22)\n",
       "    tsurf        (time, lat, lon) float32 ...\n",
       "    qsurf        (time, lat, lon) float32 ...\n",
       "    dtd          (lat, lon) float32 727.2 718.7 712.0 ... 685.1 678.3 671.8\n",
       "    infil        (time, lat, lon) float32 ...\n",
       "    run          (time, lat, lon) float32 ...\n",
       "    sub          (time, lat, lon) float32 ...\n",
       "    ...           ...\n",
       "    tot_surf     (time, scalar_axis) float32 1.055e+16 1.054e+16 ... 8.527e+15\n",
       "    tot_sub      (time, scalar_axis) float32 1.934e+19 1.934e+19 ... 1.934e+19\n",
       "    average_T1   (time) float64 0.0 53.0 106.0 ... 1.074e+05 1.074e+05 1.075e+05\n",
       "    average_T2   (time) float64 53.0 106.0 159.0 ... 1.075e+05 1.075e+05\n",
       "    average_DT   (time) float64 53.0 53.0 53.0 53.0 53.0 ... 53.0 53.0 53.0 53.0\n",
       "    time_bounds  (time, nv) float64 0.0 53.0 53.0 ... 1.075e+05 1.075e+05\n",
       "Attributes:\n",
       "    filename:  atmos.nc\n",
       "    title:     Titan GCM with spectral core</pre><div class='xr-wrap' style='display:none'><div class='xr-header'><div class='xr-obj-type'>xarray.Dataset</div></div><ul class='xr-sections'><li class='xr-section-item'><input id='section-c7e118da-b67d-4d7b-92c9-16a5f38c51d6' class='xr-section-summary-in' type='checkbox' disabled ><label for='section-c7e118da-b67d-4d7b-92c9-16a5f38c51d6' class='xr-section-summary'  title='Expand/collapse section'>Dimensions:</label><div class='xr-section-inline-details'><ul class='xr-dim-list'><li><span class='xr-has-index'>lon</span>: 64</li><li><span class='xr-has-index'>lonb</span>: 65</li><li><span class='xr-has-index'>lat</span>: 32</li><li><span class='xr-has-index'>latb</span>: 33</li><li><span class='xr-has-index'>time</span>: 2029</li><li><span class='xr-has-index'>nv</span>: 2</li><li><span class='xr-has-index'>scalar_axis</span>: 1</li></ul></div><div class='xr-section-details'></div></li><li class='xr-section-item'><input id='section-773db27b-1a50-4ebf-922d-3c803e9cc254' class='xr-section-summary-in' type='checkbox'  checked><label for='section-773db27b-1a50-4ebf-922d-3c803e9cc254' class='xr-section-summary' >Coordinates: <span>(7)</span></label><div class='xr-section-inline-details'></div><div class='xr-section-details'><ul class='xr-var-list'><li class='xr-var-item'><div class='xr-var-name'><span class='xr-has-index'>lon</span></div><div class='xr-var-dims'>(lon)</div><div class='xr-var-dtype'>float32</div><div class='xr-var-preview xr-preview'>0.0 5.625 11.25 ... 348.8 354.4</div><input id='attrs-274632b7-5f9c-455a-9ae0-65889cdeac5b' class='xr-var-attrs-in' type='checkbox' ><label for='attrs-274632b7-5f9c-455a-9ae0-65889cdeac5b' title='Show/Hide attributes'><svg class='icon xr-icon-file-text2'><use xlink:href='#icon-file-text2'></use></svg></label><input id='data-7e4396b0-c4a7-4d7c-a381-1b46a2a828e8' class='xr-var-data-in' type='checkbox'><label for='data-7e4396b0-c4a7-4d7c-a381-1b46a2a828e8' title='Show/Hide data repr'><svg class='icon xr-icon-database'><use xlink:href='#icon-database'></use></svg></label><div class='xr-var-attrs'><dl class='xr-attrs'><dt><span>long_name :</span></dt><dd>longitude</dd><dt><span>units :</span></dt><dd>degrees_E</dd><dt><span>cartesian_axis :</span></dt><dd>X</dd><dt><span>edges :</span></dt><dd>lonb</dd></dl></div><div class='xr-var-data'><pre>array([  0.   ,   5.625,  11.25 ,  16.875,  22.5  ,  28.125,  33.75 ,  39.375,\n",
       "        45.   ,  50.625,  56.25 ,  61.875,  67.5  ,  73.125,  78.75 ,  84.375,\n",
       "        90.   ,  95.625, 101.25 , 106.875, 112.5  , 118.125, 123.75 , 129.375,\n",
       "       135.   , 140.625, 146.25 , 151.875, 157.5  , 163.125, 168.75 , 174.375,\n",
       "       180.   , 185.625, 191.25 , 196.875, 202.5  , 208.125, 213.75 , 219.375,\n",
       "       225.   , 230.625, 236.25 , 241.875, 247.5  , 253.125, 258.75 , 264.375,\n",
       "       270.   , 275.625, 281.25 , 286.875, 292.5  , 298.125, 303.75 , 309.375,\n",
       "       315.   , 320.625, 326.25 , 331.875, 337.5  , 343.125, 348.75 , 354.375],\n",
       "      dtype=float32)</pre></div></li><li class='xr-var-item'><div class='xr-var-name'><span class='xr-has-index'>lonb</span></div><div class='xr-var-dims'>(lonb)</div><div class='xr-var-dtype'>float32</div><div class='xr-var-preview xr-preview'>-2.812 2.812 8.438 ... 351.6 357.2</div><input id='attrs-190aff8d-8e51-4847-a508-7f2c95f32bb5' class='xr-var-attrs-in' type='checkbox' ><label for='attrs-190aff8d-8e51-4847-a508-7f2c95f32bb5' title='Show/Hide attributes'><svg class='icon xr-icon-file-text2'><use xlink:href='#icon-file-text2'></use></svg></label><input id='data-033b6088-d6d2-467c-9075-e4b8d3529856' class='xr-var-data-in' type='checkbox'><label for='data-033b6088-d6d2-467c-9075-e4b8d3529856' title='Show/Hide data repr'><svg class='icon xr-icon-database'><use xlink:href='#icon-database'></use></svg></label><div class='xr-var-attrs'><dl class='xr-attrs'><dt><span>long_name :</span></dt><dd>longitude edges</dd><dt><span>units :</span></dt><dd>degrees_E</dd><dt><span>cartesian_axis :</span></dt><dd>X</dd></dl></div><div class='xr-var-data'><pre>array([ -2.8125,   2.8125,   8.4375,  14.0625,  19.6875,  25.3125,  30.9375,\n",
       "        36.5625,  42.1875,  47.8125,  53.4375,  59.0625,  64.6875,  70.3125,\n",
       "        75.9375,  81.5625,  87.1875,  92.8125,  98.4375, 104.0625, 109.6875,\n",
       "       115.3125, 120.9375, 126.5625, 132.1875, 137.8125, 143.4375, 149.0625,\n",
       "       154.6875, 160.3125, 165.9375, 171.5625, 177.1875, 182.8125, 188.4375,\n",
       "       194.0625, 199.6875, 205.3125, 210.9375, 216.5625, 222.1875, 227.8125,\n",
       "       233.4375, 239.0625, 244.6875, 250.3125, 255.9375, 261.5625, 267.1875,\n",
       "       272.8125, 278.4375, 284.0625, 289.6875, 295.3125, 300.9375, 306.5625,\n",
       "       312.1875, 317.8125, 323.4375, 329.0625, 334.6875, 340.3125, 345.9375,\n",
       "       351.5625, 357.1875], dtype=float32)</pre></div></li><li class='xr-var-item'><div class='xr-var-name'><span class='xr-has-index'>lat</span></div><div class='xr-var-dims'>(lat)</div><div class='xr-var-dtype'>float32</div><div class='xr-var-preview xr-preview'>-85.76 -80.27 ... 80.27 85.76</div><input id='attrs-71fda81c-6fdb-4f16-9cba-d04d7a520770' class='xr-var-attrs-in' type='checkbox' ><label for='attrs-71fda81c-6fdb-4f16-9cba-d04d7a520770' title='Show/Hide attributes'><svg class='icon xr-icon-file-text2'><use xlink:href='#icon-file-text2'></use></svg></label><input id='data-081b2078-8397-4f32-b955-a91cabbf8ac8' class='xr-var-data-in' type='checkbox'><label for='data-081b2078-8397-4f32-b955-a91cabbf8ac8' title='Show/Hide data repr'><svg class='icon xr-icon-database'><use xlink:href='#icon-database'></use></svg></label><div class='xr-var-attrs'><dl class='xr-attrs'><dt><span>long_name :</span></dt><dd>latitude</dd><dt><span>units :</span></dt><dd>degrees_N</dd><dt><span>cartesian_axis :</span></dt><dd>Y</dd><dt><span>edges :</span></dt><dd>latb</dd></dl></div><div class='xr-var-data'><pre>array([-85.76059 , -80.268776, -74.74454 , -69.212975, -63.678635, -58.142956,\n",
       "       -52.606525, -47.06964 , -41.532463, -35.99508 , -30.457554, -24.91993 ,\n",
       "       -19.38223 , -13.844483,  -8.306703,  -2.768903,   2.768903,   8.306703,\n",
       "        13.844483,  19.38223 ,  24.91993 ,  30.457554,  35.99508 ,  41.532463,\n",
       "        47.06964 ,  52.606525,  58.142956,  63.678635,  69.212975,  74.74454 ,\n",
       "        80.268776,  85.76059 ], dtype=float32)</pre></div></li><li class='xr-var-item'><div class='xr-var-name'><span class='xr-has-index'>latb</span></div><div class='xr-var-dims'>(latb)</div><div class='xr-var-dtype'>float32</div><div class='xr-var-preview xr-preview'>-90.0 -83.21 -77.61 ... 83.21 90.0</div><input id='attrs-c1eb06f1-75a9-4a17-85c1-f58df3d9f1a4' class='xr-var-attrs-in' type='checkbox' ><label for='attrs-c1eb06f1-75a9-4a17-85c1-f58df3d9f1a4' title='Show/Hide attributes'><svg class='icon xr-icon-file-text2'><use xlink:href='#icon-file-text2'></use></svg></label><input id='data-765f735b-e110-4be8-a6f2-4a79d7c567b0' class='xr-var-data-in' type='checkbox'><label for='data-765f735b-e110-4be8-a6f2-4a79d7c567b0' title='Show/Hide data repr'><svg class='icon xr-icon-database'><use xlink:href='#icon-database'></use></svg></label><div class='xr-var-attrs'><dl class='xr-attrs'><dt><span>long_name :</span></dt><dd>latitude edges</dd><dt><span>units :</span></dt><dd>degrees_N</dd><dt><span>cartesian_axis :</span></dt><dd>Y</dd></dl></div><div class='xr-var-data'><pre>array([-9.000000e+01, -8.320769e+01, -7.760927e+01, -7.204797e+01,\n",
       "       -6.649727e+01, -6.095105e+01, -5.540714e+01, -4.986457e+01,\n",
       "       -4.432286e+01, -3.878171e+01, -3.324095e+01, -2.770046e+01,\n",
       "       -2.216017e+01, -1.662002e+01, -1.107996e+01, -5.539968e+00,\n",
       "       -6.361110e-14,  5.539968e+00,  1.107996e+01,  1.662002e+01,\n",
       "        2.216017e+01,  2.770046e+01,  3.324095e+01,  3.878171e+01,\n",
       "        4.432286e+01,  4.986457e+01,  5.540714e+01,  6.095105e+01,\n",
       "        6.649727e+01,  7.204797e+01,  7.760927e+01,  8.320769e+01,\n",
       "        9.000000e+01], dtype=float32)</pre></div></li><li class='xr-var-item'><div class='xr-var-name'><span class='xr-has-index'>time</span></div><div class='xr-var-dims'>(time)</div><div class='xr-var-dtype'>float64</div><div class='xr-var-preview xr-preview'>26.5 79.5 ... 1.075e+05 1.075e+05</div><input id='attrs-fd4ad545-57d5-4807-9a95-c223acd2a27b' class='xr-var-attrs-in' type='checkbox' ><label for='attrs-fd4ad545-57d5-4807-9a95-c223acd2a27b' title='Show/Hide attributes'><svg class='icon xr-icon-file-text2'><use xlink:href='#icon-file-text2'></use></svg></label><input id='data-538e3d47-ec19-47e1-9323-9925dc88bbdb' class='xr-var-data-in' type='checkbox'><label for='data-538e3d47-ec19-47e1-9323-9925dc88bbdb' title='Show/Hide data repr'><svg class='icon xr-icon-database'><use xlink:href='#icon-database'></use></svg></label><div class='xr-var-attrs'><dl class='xr-attrs'><dt><span>long_name :</span></dt><dd>time</dd><dt><span>units :</span></dt><dd>days since 0000-00-00 00:00:00</dd><dt><span>cartesian_axis :</span></dt><dd>T</dd><dt><span>calendar_type :</span></dt><dd>NO_CALENDAR</dd><dt><span>calendar :</span></dt><dd>NO_CALENDAR</dd><dt><span>bounds :</span></dt><dd>time_bounds</dd></dl></div><div class='xr-var-data'><pre>array([2.650000e+01, 7.950000e+01, 1.325000e+02, ..., 1.074045e+05,\n",
       "       1.074575e+05, 1.075105e+05])</pre></div></li><li class='xr-var-item'><div class='xr-var-name'><span class='xr-has-index'>nv</span></div><div class='xr-var-dims'>(nv)</div><div class='xr-var-dtype'>float32</div><div class='xr-var-preview xr-preview'>1.0 2.0</div><input id='attrs-b1b1d460-93b6-4f59-824f-3b02fd294906' class='xr-var-attrs-in' type='checkbox' ><label for='attrs-b1b1d460-93b6-4f59-824f-3b02fd294906' title='Show/Hide attributes'><svg class='icon xr-icon-file-text2'><use xlink:href='#icon-file-text2'></use></svg></label><input id='data-9c531f3a-a03b-4b5e-8dc6-59fc89f95e3e' class='xr-var-data-in' type='checkbox'><label for='data-9c531f3a-a03b-4b5e-8dc6-59fc89f95e3e' title='Show/Hide data repr'><svg class='icon xr-icon-database'><use xlink:href='#icon-database'></use></svg></label><div class='xr-var-attrs'><dl class='xr-attrs'><dt><span>long_name :</span></dt><dd>vertex number</dd><dt><span>units :</span></dt><dd>none</dd><dt><span>cartesian_axis :</span></dt><dd>N</dd></dl></div><div class='xr-var-data'><pre>array([1., 2.], dtype=float32)</pre></div></li><li class='xr-var-item'><div class='xr-var-name'><span class='xr-has-index'>scalar_axis</span></div><div class='xr-var-dims'>(scalar_axis)</div><div class='xr-var-dtype'>float32</div><div class='xr-var-preview xr-preview'>0.0</div><input id='attrs-1077dd08-6aee-417f-a4e2-764cd9c0796f' class='xr-var-attrs-in' type='checkbox' ><label for='attrs-1077dd08-6aee-417f-a4e2-764cd9c0796f' title='Show/Hide attributes'><svg class='icon xr-icon-file-text2'><use xlink:href='#icon-file-text2'></use></svg></label><input id='data-cc583e11-4ff6-4eb3-891f-a40323bf6633' class='xr-var-data-in' type='checkbox'><label for='data-cc583e11-4ff6-4eb3-891f-a40323bf6633' title='Show/Hide data repr'><svg class='icon xr-icon-database'><use xlink:href='#icon-database'></use></svg></label><div class='xr-var-attrs'><dl class='xr-attrs'><dt><span>long_name :</span></dt><dd>none</dd><dt><span>units :</span></dt><dd>none</dd><dt><span>cartesian_axis :</span></dt><dd>X</dd></dl></div><div class='xr-var-data'><pre>array([0.], dtype=float32)</pre></div></li></ul></div></li><li class='xr-section-item'><input id='section-97652373-0e77-4a9b-bd19-e89fd2665b6c' class='xr-section-summary-in' type='checkbox'  ><label for='section-97652373-0e77-4a9b-bd19-e89fd2665b6c' class='xr-section-summary' >Data variables: <span>(22)</span></label><div class='xr-section-inline-details'></div><div class='xr-section-details'><ul class='xr-var-list'><li class='xr-var-item'><div class='xr-var-name'><span>tsurf</span></div><div class='xr-var-dims'>(time, lat, lon)</div><div class='xr-var-dtype'>float32</div><div class='xr-var-preview xr-preview'>...</div><input id='attrs-7deca2cc-4745-4291-9f47-10bad92ccc4b' class='xr-var-attrs-in' type='checkbox' ><label for='attrs-7deca2cc-4745-4291-9f47-10bad92ccc4b' title='Show/Hide attributes'><svg class='icon xr-icon-file-text2'><use xlink:href='#icon-file-text2'></use></svg></label><input id='data-76d9fa1d-b100-4a23-b842-15ec4dddf0c7' class='xr-var-data-in' type='checkbox'><label for='data-76d9fa1d-b100-4a23-b842-15ec4dddf0c7' title='Show/Hide data repr'><svg class='icon xr-icon-database'><use xlink:href='#icon-database'></use></svg></label><div class='xr-var-attrs'><dl class='xr-attrs'><dt><span>long_name :</span></dt><dd>Surface temperature</dd><dt><span>units :</span></dt><dd>degrees K</dd><dt><span>cell_methods :</span></dt><dd>time: mean</dd><dt><span>time_avg_info :</span></dt><dd>average_T1,average_T2,average_DT</dd></dl></div><div class='xr-var-data'><pre>[4155392 values with dtype=float32]</pre></div></li><li class='xr-var-item'><div class='xr-var-name'><span>qsurf</span></div><div class='xr-var-dims'>(time, lat, lon)</div><div class='xr-var-dtype'>float32</div><div class='xr-var-preview xr-preview'>...</div><input id='attrs-219e95cd-fb07-415c-a936-655c653ed5a9' class='xr-var-attrs-in' type='checkbox' ><label for='attrs-219e95cd-fb07-415c-a936-655c653ed5a9' title='Show/Hide attributes'><svg class='icon xr-icon-file-text2'><use xlink:href='#icon-file-text2'></use></svg></label><input id='data-4635f316-c2f1-4655-92a5-7b417dd5cc22' class='xr-var-data-in' type='checkbox'><label for='data-4635f316-c2f1-4655-92a5-7b417dd5cc22' title='Show/Hide data repr'><svg class='icon xr-icon-database'><use xlink:href='#icon-database'></use></svg></label><div class='xr-var-attrs'><dl class='xr-attrs'><dt><span>long_name :</span></dt><dd>Surface liquid</dd><dt><span>units :</span></dt><dd>m</dd><dt><span>cell_methods :</span></dt><dd>time: mean</dd><dt><span>time_avg_info :</span></dt><dd>average_T1,average_T2,average_DT</dd></dl></div><div class='xr-var-data'><pre>[4155392 values with dtype=float32]</pre></div></li><li class='xr-var-item'><div class='xr-var-name'><span>dtd</span></div><div class='xr-var-dims'>(lat, lon)</div><div class='xr-var-dtype'>float32</div><div class='xr-var-preview xr-preview'>...</div><input id='attrs-11f87d61-d515-42f2-a13d-eb5e34bf94a2' class='xr-var-attrs-in' type='checkbox' ><label for='attrs-11f87d61-d515-42f2-a13d-eb5e34bf94a2' title='Show/Hide attributes'><svg class='icon xr-icon-file-text2'><use xlink:href='#icon-file-text2'></use></svg></label><input id='data-b1c5f3ff-40a6-4dbd-9f19-f54e73ccf8fe' class='xr-var-data-in' type='checkbox'><label for='data-b1c5f3ff-40a6-4dbd-9f19-f54e73ccf8fe' title='Show/Hide data repr'><svg class='icon xr-icon-database'><use xlink:href='#icon-database'></use></svg></label><div class='xr-var-attrs'><dl class='xr-attrs'><dt><span>long_name :</span></dt><dd>Topography used for runoff</dd><dt><span>units :</span></dt><dd>m</dd><dt><span>cell_methods :</span></dt><dd>time: point</dd></dl></div><div class='xr-var-data'><pre>array([[727.1954 , 718.6611 , 712.0082 , ..., 761.67944, 748.9822 , 737.3909 ],\n",
       "       [559.5163 , 532.27527, 512.3572 , ..., 662.3815 , 626.82806, 591.8268 ],\n",
       "       [507.44382, 457.14072, 422.8111 , ..., 680.3019 , 625.53925, 566.1008 ],\n",
       "       ...,\n",
       "       [703.2523 , 654.64276, 613.30316, ..., 832.6819 , 799.7684 , 754.1065 ],\n",
       "       [623.6364 , 602.2721 , 580.2737 , ..., 671.7371 , 659.3601 , 643.0626 ],\n",
       "       [665.5491 , 659.4957 , 653.69714, ..., 685.05023, 678.3139 , 671.8233 ]],\n",
       "      dtype=float32)</pre></div></li><li class='xr-var-item'><div class='xr-var-name'><span>infil</span></div><div class='xr-var-dims'>(time, lat, lon)</div><div class='xr-var-dtype'>float32</div><div class='xr-var-preview xr-preview'>...</div><input id='attrs-b0622cec-ace4-4e70-968e-56a139d0939f' class='xr-var-attrs-in' type='checkbox' ><label for='attrs-b0622cec-ace4-4e70-968e-56a139d0939f' title='Show/Hide attributes'><svg class='icon xr-icon-file-text2'><use xlink:href='#icon-file-text2'></use></svg></label><input id='data-829551fe-d639-41a8-8ab8-09f07378e3c7' class='xr-var-data-in' type='checkbox'><label for='data-829551fe-d639-41a8-8ab8-09f07378e3c7' title='Show/Hide data repr'><svg class='icon xr-icon-database'><use xlink:href='#icon-database'></use></svg></label><div class='xr-var-attrs'><dl class='xr-attrs'><dt><span>long_name :</span></dt><dd>Infiltration</dd><dt><span>units :</span></dt><dd>kg/m2/s</dd><dt><span>cell_methods :</span></dt><dd>time: mean</dd><dt><span>time_avg_info :</span></dt><dd>average_T1,average_T2,average_DT</dd></dl></div><div class='xr-var-data'><pre>[4155392 values with dtype=float32]</pre></div></li><li class='xr-var-item'><div class='xr-var-name'><span>run</span></div><div class='xr-var-dims'>(time, lat, lon)</div><div class='xr-var-dtype'>float32</div><div class='xr-var-preview xr-preview'>...</div><input id='attrs-09cf77c4-4e1c-46bc-86e5-4ddc134b91a9' class='xr-var-attrs-in' type='checkbox' ><label for='attrs-09cf77c4-4e1c-46bc-86e5-4ddc134b91a9' title='Show/Hide attributes'><svg class='icon xr-icon-file-text2'><use xlink:href='#icon-file-text2'></use></svg></label><input id='data-6e97e75e-182d-45d5-9c1e-841e70eb5e62' class='xr-var-data-in' type='checkbox'><label for='data-6e97e75e-182d-45d5-9c1e-841e70eb5e62' title='Show/Hide data repr'><svg class='icon xr-icon-database'><use xlink:href='#icon-database'></use></svg></label><div class='xr-var-attrs'><dl class='xr-attrs'><dt><span>long_name :</span></dt><dd>Surface runoff into reservoir</dd><dt><span>units :</span></dt><dd>kg/m2/s</dd><dt><span>cell_methods :</span></dt><dd>time: mean</dd><dt><span>time_avg_info :</span></dt><dd>average_T1,average_T2,average_DT</dd></dl></div><div class='xr-var-data'><pre>[4155392 values with dtype=float32]</pre></div></li><li class='xr-var-item'><div class='xr-var-name'><span>sub</span></div><div class='xr-var-dims'>(time, lat, lon)</div><div class='xr-var-dtype'>float32</div><div class='xr-var-preview xr-preview'>...</div><input id='attrs-ee47c414-c64a-4581-90e7-82ac4c5a9b81' class='xr-var-attrs-in' type='checkbox' ><label for='attrs-ee47c414-c64a-4581-90e7-82ac4c5a9b81' title='Show/Hide attributes'><svg class='icon xr-icon-file-text2'><use xlink:href='#icon-file-text2'></use></svg></label><input id='data-ac5a21c6-82ac-491f-b1ce-3233c3209f05' class='xr-var-data-in' type='checkbox'><label for='data-ac5a21c6-82ac-491f-b1ce-3233c3209f05' title='Show/Hide data repr'><svg class='icon xr-icon-database'><use xlink:href='#icon-database'></use></svg></label><div class='xr-var-attrs'><dl class='xr-attrs'><dt><span>long_name :</span></dt><dd>Subsurface flow</dd><dt><span>units :</span></dt><dd>kg/m2/s</dd><dt><span>cell_methods :</span></dt><dd>time: mean</dd><dt><span>time_avg_info :</span></dt><dd>average_T1,average_T2,average_DT</dd></dl></div><div class='xr-var-data'><pre>[4155392 values with dtype=float32]</pre></div></li><li class='xr-var-item'><div class='xr-var-name'><span>res</span></div><div class='xr-var-dims'>(time, lat, lon)</div><div class='xr-var-dtype'>float32</div><div class='xr-var-preview xr-preview'>...</div><input id='attrs-c54b61b9-00c2-4d50-b121-44197b1c3177' class='xr-var-attrs-in' type='checkbox' ><label for='attrs-c54b61b9-00c2-4d50-b121-44197b1c3177' title='Show/Hide attributes'><svg class='icon xr-icon-file-text2'><use xlink:href='#icon-file-text2'></use></svg></label><input id='data-9cb1ff71-88ab-4db7-8a9b-f754082d8d77' class='xr-var-data-in' type='checkbox'><label for='data-9cb1ff71-88ab-4db7-8a9b-f754082d8d77' title='Show/Hide data repr'><svg class='icon xr-icon-database'><use xlink:href='#icon-database'></use></svg></label><div class='xr-var-attrs'><dl class='xr-attrs'><dt><span>long_name :</span></dt><dd>Runoff reservoir</dd><dt><span>units :</span></dt><dd>m</dd><dt><span>cell_methods :</span></dt><dd>time: mean</dd><dt><span>time_avg_info :</span></dt><dd>average_T1,average_T2,average_DT</dd></dl></div><div class='xr-var-data'><pre>[4155392 values with dtype=float32]</pre></div></li><li class='xr-var-item'><div class='xr-var-name'><span>gwe</span></div><div class='xr-var-dims'>(time, lat, lon)</div><div class='xr-var-dtype'>float32</div><div class='xr-var-preview xr-preview'>...</div><input id='attrs-91d54d1e-5da5-4478-872e-8c70d6b1ff00' class='xr-var-attrs-in' type='checkbox' ><label for='attrs-91d54d1e-5da5-4478-872e-8c70d6b1ff00' title='Show/Hide attributes'><svg class='icon xr-icon-file-text2'><use xlink:href='#icon-file-text2'></use></svg></label><input id='data-0e729aba-2d06-423b-b3e6-e69374eeeb69' class='xr-var-data-in' type='checkbox'><label for='data-0e729aba-2d06-423b-b3e6-e69374eeeb69' title='Show/Hide data repr'><svg class='icon xr-icon-database'><use xlink:href='#icon-database'></use></svg></label><div class='xr-var-attrs'><dl class='xr-attrs'><dt><span>long_name :</span></dt><dd>Groundwater evap from table</dd><dt><span>units :</span></dt><dd>kg/m2/s</dd><dt><span>cell_methods :</span></dt><dd>time: mean</dd><dt><span>time_avg_info :</span></dt><dd>average_T1,average_T2,average_DT</dd></dl></div><div class='xr-var-data'><pre>[4155392 values with dtype=float32]</pre></div></li><li class='xr-var-item'><div class='xr-var-name'><span>dis</span></div><div class='xr-var-dims'>(time, lat, lon)</div><div class='xr-var-dtype'>float32</div><div class='xr-var-preview xr-preview'>...</div><input id='attrs-d468f900-e641-4085-be22-d60fe0483763' class='xr-var-attrs-in' type='checkbox' ><label for='attrs-d468f900-e641-4085-be22-d60fe0483763' title='Show/Hide attributes'><svg class='icon xr-icon-file-text2'><use xlink:href='#icon-file-text2'></use></svg></label><input id='data-1dceb35d-92c1-4c0e-b7fc-836c724178e7' class='xr-var-data-in' type='checkbox'><label for='data-1dceb35d-92c1-4c0e-b7fc-836c724178e7' title='Show/Hide data repr'><svg class='icon xr-icon-database'><use xlink:href='#icon-database'></use></svg></label><div class='xr-var-attrs'><dl class='xr-attrs'><dt><span>long_name :</span></dt><dd>Discharge</dd><dt><span>units :</span></dt><dd>kg/m2/s</dd><dt><span>cell_methods :</span></dt><dd>time: mean</dd><dt><span>time_avg_info :</span></dt><dd>average_T1,average_T2,average_DT</dd></dl></div><div class='xr-var-data'><pre>[4155392 values with dtype=float32]</pre></div></li><li class='xr-var-item'><div class='xr-var-name'><span>recharge</span></div><div class='xr-var-dims'>(time, lat, lon)</div><div class='xr-var-dtype'>float32</div><div class='xr-var-preview xr-preview'>...</div><input id='attrs-e9f9c60f-866b-43c1-b5ae-542d55b955b7' class='xr-var-attrs-in' type='checkbox' ><label for='attrs-e9f9c60f-866b-43c1-b5ae-542d55b955b7' title='Show/Hide attributes'><svg class='icon xr-icon-file-text2'><use xlink:href='#icon-file-text2'></use></svg></label><input id='data-df7c721c-a671-4a53-9aaf-275849584043' class='xr-var-data-in' type='checkbox'><label for='data-df7c721c-a671-4a53-9aaf-275849584043' title='Show/Hide data repr'><svg class='icon xr-icon-database'><use xlink:href='#icon-database'></use></svg></label><div class='xr-var-attrs'><dl class='xr-attrs'><dt><span>long_name :</span></dt><dd>Recharge of surface from table</dd><dt><span>units :</span></dt><dd>kg/m2/s</dd><dt><span>cell_methods :</span></dt><dd>time: mean</dd><dt><span>time_avg_info :</span></dt><dd>average_T1,average_T2,average_DT</dd></dl></div><div class='xr-var-data'><pre>[4155392 values with dtype=float32]</pre></div></li><li class='xr-var-item'><div class='xr-var-name'><span>table</span></div><div class='xr-var-dims'>(time, lat, lon)</div><div class='xr-var-dtype'>float32</div><div class='xr-var-preview xr-preview'>...</div><input id='attrs-641e6d5b-6aca-4df5-9d83-cbe5dc3d7c16' class='xr-var-attrs-in' type='checkbox' ><label for='attrs-641e6d5b-6aca-4df5-9d83-cbe5dc3d7c16' title='Show/Hide attributes'><svg class='icon xr-icon-file-text2'><use xlink:href='#icon-file-text2'></use></svg></label><input id='data-9d6aef2a-7d5d-4aa2-9ac3-468bf291e970' class='xr-var-data-in' type='checkbox'><label for='data-9d6aef2a-7d5d-4aa2-9ac3-468bf291e970' title='Show/Hide data repr'><svg class='icon xr-icon-database'><use xlink:href='#icon-database'></use></svg></label><div class='xr-var-attrs'><dl class='xr-attrs'><dt><span>long_name :</span></dt><dd>Methane table</dd><dt><span>units :</span></dt><dd>m</dd><dt><span>cell_methods :</span></dt><dd>time: mean</dd><dt><span>time_avg_info :</span></dt><dd>average_T1,average_T2,average_DT</dd></dl></div><div class='xr-var-data'><pre>[4155392 values with dtype=float32]</pre></div></li><li class='xr-var-item'><div class='xr-var-name'><span>height</span></div><div class='xr-var-dims'>(time, lat, lon)</div><div class='xr-var-dtype'>float32</div><div class='xr-var-preview xr-preview'>...</div><input id='attrs-7b54a228-e433-40e9-8968-c9e06d78a796' class='xr-var-attrs-in' type='checkbox' ><label for='attrs-7b54a228-e433-40e9-8968-c9e06d78a796' title='Show/Hide attributes'><svg class='icon xr-icon-file-text2'><use xlink:href='#icon-file-text2'></use></svg></label><input id='data-e61c9b49-46d6-4ed6-8b0d-dd5b63e04715' class='xr-var-data-in' type='checkbox'><label for='data-e61c9b49-46d6-4ed6-8b0d-dd5b63e04715' title='Show/Hide data repr'><svg class='icon xr-icon-database'><use xlink:href='#icon-database'></use></svg></label><div class='xr-var-attrs'><dl class='xr-attrs'><dt><span>long_name :</span></dt><dd>Combined liquid height</dd><dt><span>units :</span></dt><dd>m</dd><dt><span>cell_methods :</span></dt><dd>time: mean</dd><dt><span>time_avg_info :</span></dt><dd>average_T1,average_T2,average_DT</dd></dl></div><div class='xr-var-data'><pre>[4155392 values with dtype=float32]</pre></div></li><li class='xr-var-item'><div class='xr-var-name'><span>evap</span></div><div class='xr-var-dims'>(time, lat, lon)</div><div class='xr-var-dtype'>float32</div><div class='xr-var-preview xr-preview'>...</div><input id='attrs-ceedaa34-9743-48fa-8c93-25988ad44c25' class='xr-var-attrs-in' type='checkbox' ><label for='attrs-ceedaa34-9743-48fa-8c93-25988ad44c25' title='Show/Hide attributes'><svg class='icon xr-icon-file-text2'><use xlink:href='#icon-file-text2'></use></svg></label><input id='data-f4bf0a65-63bc-462f-9f3d-8dff2563e60a' class='xr-var-data-in' type='checkbox'><label for='data-f4bf0a65-63bc-462f-9f3d-8dff2563e60a' title='Show/Hide data repr'><svg class='icon xr-icon-database'><use xlink:href='#icon-database'></use></svg></label><div class='xr-var-attrs'><dl class='xr-attrs'><dt><span>long_name :</span></dt><dd>Surface evaporation</dd><dt><span>units :</span></dt><dd>kg/m2/s</dd><dt><span>cell_methods :</span></dt><dd>time: mean</dd><dt><span>time_avg_info :</span></dt><dd>average_T1,average_T2,average_DT</dd></dl></div><div class='xr-var-data'><pre>[4155392 values with dtype=float32]</pre></div></li><li class='xr-var-item'><div class='xr-var-name'><span>sens</span></div><div class='xr-var-dims'>(time, lat, lon)</div><div class='xr-var-dtype'>float32</div><div class='xr-var-preview xr-preview'>...</div><input id='attrs-40b8438b-430e-4e5c-ad80-5ae6bcf12afc' class='xr-var-attrs-in' type='checkbox' ><label for='attrs-40b8438b-430e-4e5c-ad80-5ae6bcf12afc' title='Show/Hide attributes'><svg class='icon xr-icon-file-text2'><use xlink:href='#icon-file-text2'></use></svg></label><input id='data-3f0ccdc2-3252-4469-80c4-1bc748e235f7' class='xr-var-data-in' type='checkbox'><label for='data-3f0ccdc2-3252-4469-80c4-1bc748e235f7' title='Show/Hide data repr'><svg class='icon xr-icon-database'><use xlink:href='#icon-database'></use></svg></label><div class='xr-var-attrs'><dl class='xr-attrs'><dt><span>long_name :</span></dt><dd>Sensible heat flux</dd><dt><span>units :</span></dt><dd>W/m2</dd><dt><span>cell_methods :</span></dt><dd>time: mean</dd><dt><span>time_avg_info :</span></dt><dd>average_T1,average_T2,average_DT</dd></dl></div><div class='xr-var-data'><pre>[4155392 values with dtype=float32]</pre></div></li><li class='xr-var-item'><div class='xr-var-name'><span>precip</span></div><div class='xr-var-dims'>(time, lat, lon)</div><div class='xr-var-dtype'>float32</div><div class='xr-var-preview xr-preview'>...</div><input id='attrs-5c56be4d-f893-44d9-91f4-b356dea3293b' class='xr-var-attrs-in' type='checkbox' ><label for='attrs-5c56be4d-f893-44d9-91f4-b356dea3293b' title='Show/Hide attributes'><svg class='icon xr-icon-file-text2'><use xlink:href='#icon-file-text2'></use></svg></label><input id='data-4551328d-161c-4bf5-aac3-b905d151d63e' class='xr-var-data-in' type='checkbox'><label for='data-4551328d-161c-4bf5-aac3-b905d151d63e' title='Show/Hide data repr'><svg class='icon xr-icon-database'><use xlink:href='#icon-database'></use></svg></label><div class='xr-var-attrs'><dl class='xr-attrs'><dt><span>long_name :</span></dt><dd>Total precipitation</dd><dt><span>units :</span></dt><dd>kg/m2/s</dd><dt><span>cell_methods :</span></dt><dd>time: mean</dd><dt><span>time_avg_info :</span></dt><dd>average_T1,average_T2,average_DT</dd></dl></div><div class='xr-var-data'><pre>[4155392 values with dtype=float32]</pre></div></li><li class='xr-var-item'><div class='xr-var-name'><span>tot_atm</span></div><div class='xr-var-dims'>(time, scalar_axis)</div><div class='xr-var-dtype'>float32</div><div class='xr-var-preview xr-preview'>...</div><input id='attrs-f90ddf9f-8a1f-43c4-b5b3-4603eb2298e5' class='xr-var-attrs-in' type='checkbox' ><label for='attrs-f90ddf9f-8a1f-43c4-b5b3-4603eb2298e5' title='Show/Hide attributes'><svg class='icon xr-icon-file-text2'><use xlink:href='#icon-file-text2'></use></svg></label><input id='data-1d73e0f5-ce25-4c7a-8847-4b2cb4a883ca' class='xr-var-data-in' type='checkbox'><label for='data-1d73e0f5-ce25-4c7a-8847-4b2cb4a883ca' title='Show/Hide data repr'><svg class='icon xr-icon-database'><use xlink:href='#icon-database'></use></svg></label><div class='xr-var-attrs'><dl class='xr-attrs'><dt><span>long_name :</span></dt><dd>Total area-weighted atmospheric methane</dd><dt><span>units :</span></dt><dd>kg</dd><dt><span>cell_methods :</span></dt><dd>time: mean</dd><dt><span>time_avg_info :</span></dt><dd>average_T1,average_T2,average_DT</dd></dl></div><div class='xr-var-data'><pre>array([[1.628359e+17],\n",
       "       [1.628587e+17],\n",
       "       [1.628813e+17],\n",
       "       ...,\n",
       "       [1.673338e+17],\n",
       "       [1.673507e+17],\n",
       "       [1.673684e+17]], dtype=float32)</pre></div></li><li class='xr-var-item'><div class='xr-var-name'><span>tot_surf</span></div><div class='xr-var-dims'>(time, scalar_axis)</div><div class='xr-var-dtype'>float32</div><div class='xr-var-preview xr-preview'>...</div><input id='attrs-8c19c0cf-540b-4f6f-b329-8231515fa08d' class='xr-var-attrs-in' type='checkbox' ><label for='attrs-8c19c0cf-540b-4f6f-b329-8231515fa08d' title='Show/Hide attributes'><svg class='icon xr-icon-file-text2'><use xlink:href='#icon-file-text2'></use></svg></label><input id='data-56cfd304-6aa3-42a9-9725-db75bb04b41d' class='xr-var-data-in' type='checkbox'><label for='data-56cfd304-6aa3-42a9-9725-db75bb04b41d' title='Show/Hide data repr'><svg class='icon xr-icon-database'><use xlink:href='#icon-database'></use></svg></label><div class='xr-var-attrs'><dl class='xr-attrs'><dt><span>long_name :</span></dt><dd>Total area-weighted surface methane</dd><dt><span>units :</span></dt><dd>kg</dd><dt><span>cell_methods :</span></dt><dd>time: mean</dd><dt><span>time_avg_info :</span></dt><dd>average_T1,average_T2,average_DT</dd></dl></div><div class='xr-var-data'><pre>array([[1.054547e+16],\n",
       "       [1.054118e+16],\n",
       "       [1.053723e+16],\n",
       "       ...,\n",
       "       [8.532046e+15],\n",
       "       [8.529425e+15],\n",
       "       [8.526549e+15]], dtype=float32)</pre></div></li><li class='xr-var-item'><div class='xr-var-name'><span>tot_sub</span></div><div class='xr-var-dims'>(time, scalar_axis)</div><div class='xr-var-dtype'>float32</div><div class='xr-var-preview xr-preview'>...</div><input id='attrs-6c74a72b-c225-4466-b110-4a3359ac8fdd' class='xr-var-attrs-in' type='checkbox' ><label for='attrs-6c74a72b-c225-4466-b110-4a3359ac8fdd' title='Show/Hide attributes'><svg class='icon xr-icon-file-text2'><use xlink:href='#icon-file-text2'></use></svg></label><input id='data-cf0d4f95-4e12-4247-845f-a13ef6aa527e' class='xr-var-data-in' type='checkbox'><label for='data-cf0d4f95-4e12-4247-845f-a13ef6aa527e' title='Show/Hide data repr'><svg class='icon xr-icon-database'><use xlink:href='#icon-database'></use></svg></label><div class='xr-var-attrs'><dl class='xr-attrs'><dt><span>long_name :</span></dt><dd>Total area-weighted subsurface methane</dd><dt><span>units :</span></dt><dd>kg</dd><dt><span>cell_methods :</span></dt><dd>time: mean</dd><dt><span>time_avg_info :</span></dt><dd>average_T1,average_T2,average_DT</dd></dl></div><div class='xr-var-data'><pre>array([[1.934063e+19],\n",
       "       [1.934061e+19],\n",
       "       [1.934059e+19],\n",
       "       ...,\n",
       "       [1.933748e+19],\n",
       "       [1.933746e+19],\n",
       "       [1.933745e+19]], dtype=float32)</pre></div></li><li class='xr-var-item'><div class='xr-var-name'><span>average_T1</span></div><div class='xr-var-dims'>(time)</div><div class='xr-var-dtype'>float64</div><div class='xr-var-preview xr-preview'>...</div><input id='attrs-bdc540bc-22d3-43c1-8c7d-4d7d5642310b' class='xr-var-attrs-in' type='checkbox' ><label for='attrs-bdc540bc-22d3-43c1-8c7d-4d7d5642310b' title='Show/Hide attributes'><svg class='icon xr-icon-file-text2'><use xlink:href='#icon-file-text2'></use></svg></label><input id='data-8ea89d0d-8179-436c-b9b5-230432ebd08e' class='xr-var-data-in' type='checkbox'><label for='data-8ea89d0d-8179-436c-b9b5-230432ebd08e' title='Show/Hide data repr'><svg class='icon xr-icon-database'><use xlink:href='#icon-database'></use></svg></label><div class='xr-var-attrs'><dl class='xr-attrs'><dt><span>long_name :</span></dt><dd>Start time for average period</dd><dt><span>units :</span></dt><dd>days since 0000-00-00 00:00:00</dd></dl></div><div class='xr-var-data'><pre>array([0.00000e+00, 5.30000e+01, 1.06000e+02, ..., 1.07378e+05, 1.07431e+05,\n",
       "       1.07484e+05])</pre></div></li><li class='xr-var-item'><div class='xr-var-name'><span>average_T2</span></div><div class='xr-var-dims'>(time)</div><div class='xr-var-dtype'>float64</div><div class='xr-var-preview xr-preview'>...</div><input id='attrs-bbd94c35-1387-4767-a538-814692738f5f' class='xr-var-attrs-in' type='checkbox' ><label for='attrs-bbd94c35-1387-4767-a538-814692738f5f' title='Show/Hide attributes'><svg class='icon xr-icon-file-text2'><use xlink:href='#icon-file-text2'></use></svg></label><input id='data-e1481987-5e5d-4562-a725-e55d59c965e7' class='xr-var-data-in' type='checkbox'><label for='data-e1481987-5e5d-4562-a725-e55d59c965e7' title='Show/Hide data repr'><svg class='icon xr-icon-database'><use xlink:href='#icon-database'></use></svg></label><div class='xr-var-attrs'><dl class='xr-attrs'><dt><span>long_name :</span></dt><dd>End time for average period</dd><dt><span>units :</span></dt><dd>days since 0000-00-00 00:00:00</dd></dl></div><div class='xr-var-data'><pre>array([5.30000e+01, 1.06000e+02, 1.59000e+02, ..., 1.07431e+05, 1.07484e+05,\n",
       "       1.07537e+05])</pre></div></li><li class='xr-var-item'><div class='xr-var-name'><span>average_DT</span></div><div class='xr-var-dims'>(time)</div><div class='xr-var-dtype'>float64</div><div class='xr-var-preview xr-preview'>...</div><input id='attrs-e93d9642-d02a-43e6-9e9f-983f22cff57f' class='xr-var-attrs-in' type='checkbox' ><label for='attrs-e93d9642-d02a-43e6-9e9f-983f22cff57f' title='Show/Hide attributes'><svg class='icon xr-icon-file-text2'><use xlink:href='#icon-file-text2'></use></svg></label><input id='data-8350b8bf-ad14-4f2e-bf83-fa3ba3d77ecb' class='xr-var-data-in' type='checkbox'><label for='data-8350b8bf-ad14-4f2e-bf83-fa3ba3d77ecb' title='Show/Hide data repr'><svg class='icon xr-icon-database'><use xlink:href='#icon-database'></use></svg></label><div class='xr-var-attrs'><dl class='xr-attrs'><dt><span>long_name :</span></dt><dd>Length of average period</dd><dt><span>units :</span></dt><dd>days</dd></dl></div><div class='xr-var-data'><pre>array([53., 53., 53., ..., 53., 53., 53.])</pre></div></li><li class='xr-var-item'><div class='xr-var-name'><span>time_bounds</span></div><div class='xr-var-dims'>(time, nv)</div><div class='xr-var-dtype'>float64</div><div class='xr-var-preview xr-preview'>...</div><input id='attrs-e8944ed5-f5bd-4dc7-a01d-f440cfe2866a' class='xr-var-attrs-in' type='checkbox' ><label for='attrs-e8944ed5-f5bd-4dc7-a01d-f440cfe2866a' title='Show/Hide attributes'><svg class='icon xr-icon-file-text2'><use xlink:href='#icon-file-text2'></use></svg></label><input id='data-c109d237-a024-41e2-b585-83743a12c1fd' class='xr-var-data-in' type='checkbox'><label for='data-c109d237-a024-41e2-b585-83743a12c1fd' title='Show/Hide data repr'><svg class='icon xr-icon-database'><use xlink:href='#icon-database'></use></svg></label><div class='xr-var-attrs'><dl class='xr-attrs'><dt><span>long_name :</span></dt><dd>time axis boundaries</dd><dt><span>units :</span></dt><dd>days</dd></dl></div><div class='xr-var-data'><pre>array([[0.00000e+00, 5.30000e+01],\n",
       "       [5.30000e+01, 1.06000e+02],\n",
       "       [1.06000e+02, 1.59000e+02],\n",
       "       ...,\n",
       "       [1.07378e+05, 1.07431e+05],\n",
       "       [1.07431e+05, 1.07484e+05],\n",
       "       [1.07484e+05, 1.07537e+05]])</pre></div></li></ul></div></li><li class='xr-section-item'><input id='section-fd9e6350-2c73-4d53-96d5-134827dbf8d4' class='xr-section-summary-in' type='checkbox'  checked><label for='section-fd9e6350-2c73-4d53-96d5-134827dbf8d4' class='xr-section-summary' >Attributes: <span>(2)</span></label><div class='xr-section-inline-details'></div><div class='xr-section-details'><dl class='xr-attrs'><dt><span>filename :</span></dt><dd>atmos.nc</dd><dt><span>title :</span></dt><dd>Titan GCM with spectral core</dd></dl></div></li></ul></div></div>"
      ],
      "text/plain": [
       "<xarray.Dataset>\n",
       "Dimensions:      (lon: 64, lonb: 65, lat: 32, latb: 33, time: 2029, nv: 2,\n",
       "                  scalar_axis: 1)\n",
       "Coordinates:\n",
       "  * lon          (lon) float32 0.0 5.625 11.25 16.88 ... 337.5 343.1 348.8 354.4\n",
       "  * lonb         (lonb) float32 -2.812 2.812 8.438 14.06 ... 345.9 351.6 357.2\n",
       "  * lat          (lat) float32 -85.76 -80.27 -74.74 -69.21 ... 74.74 80.27 85.76\n",
       "  * latb         (latb) float32 -90.0 -83.21 -77.61 -72.05 ... 77.61 83.21 90.0\n",
       "  * time         (time) float64 26.5 79.5 132.5 ... 1.075e+05 1.075e+05\n",
       "  * nv           (nv) float32 1.0 2.0\n",
       "  * scalar_axis  (scalar_axis) float32 0.0\n",
       "Data variables: (12/22)\n",
       "    tsurf        (time, lat, lon) float32 ...\n",
       "    qsurf        (time, lat, lon) float32 ...\n",
       "    dtd          (lat, lon) float32 ...\n",
       "    infil        (time, lat, lon) float32 ...\n",
       "    run          (time, lat, lon) float32 ...\n",
       "    sub          (time, lat, lon) float32 ...\n",
       "    ...           ...\n",
       "    tot_surf     (time, scalar_axis) float32 ...\n",
       "    tot_sub      (time, scalar_axis) float32 ...\n",
       "    average_T1   (time) float64 ...\n",
       "    average_T2   (time) float64 ...\n",
       "    average_DT   (time) float64 ...\n",
       "    time_bounds  (time, nv) float64 ...\n",
       "Attributes:\n",
       "    filename:  atmos.nc\n",
       "    title:     Titan GCM with spectral core"
      ]
     },
     "execution_count": 2,
     "metadata": {},
     "output_type": "execute_result"
    }
   ],
   "source": [
    "data1 = Dataset(r'Precipitation Data/full_phys.hydro.k5e-5.y231-240.nc')\n",
    "ds1 = xr.open_dataset('Precipitation Data/full_phys.hydro.k5e-5.y231-240.nc', decode_times=False)\n",
    "ds1"
   ]
  },
  {
   "cell_type": "code",
   "execution_count": 3,
   "id": "63755a05",
   "metadata": {},
   "outputs": [
    {
     "data": {
      "text/html": [
       "<div><svg style=\"position: absolute; width: 0; height: 0; overflow: hidden\">\n",
       "<defs>\n",
       "<symbol id=\"icon-database\" viewBox=\"0 0 32 32\">\n",
       "<path d=\"M16 0c-8.837 0-16 2.239-16 5v4c0 2.761 7.163 5 16 5s16-2.239 16-5v-4c0-2.761-7.163-5-16-5z\"></path>\n",
       "<path d=\"M16 17c-8.837 0-16-2.239-16-5v6c0 2.761 7.163 5 16 5s16-2.239 16-5v-6c0 2.761-7.163 5-16 5z\"></path>\n",
       "<path d=\"M16 26c-8.837 0-16-2.239-16-5v6c0 2.761 7.163 5 16 5s16-2.239 16-5v-6c0 2.761-7.163 5-16 5z\"></path>\n",
       "</symbol>\n",
       "<symbol id=\"icon-file-text2\" viewBox=\"0 0 32 32\">\n",
       "<path d=\"M28.681 7.159c-0.694-0.947-1.662-2.053-2.724-3.116s-2.169-2.030-3.116-2.724c-1.612-1.182-2.393-1.319-2.841-1.319h-15.5c-1.378 0-2.5 1.121-2.5 2.5v27c0 1.378 1.122 2.5 2.5 2.5h23c1.378 0 2.5-1.122 2.5-2.5v-19.5c0-0.448-0.137-1.23-1.319-2.841zM24.543 5.457c0.959 0.959 1.712 1.825 2.268 2.543h-4.811v-4.811c0.718 0.556 1.584 1.309 2.543 2.268zM28 29.5c0 0.271-0.229 0.5-0.5 0.5h-23c-0.271 0-0.5-0.229-0.5-0.5v-27c0-0.271 0.229-0.5 0.5-0.5 0 0 15.499-0 15.5 0v7c0 0.552 0.448 1 1 1h7v19.5z\"></path>\n",
       "<path d=\"M23 26h-14c-0.552 0-1-0.448-1-1s0.448-1 1-1h14c0.552 0 1 0.448 1 1s-0.448 1-1 1z\"></path>\n",
       "<path d=\"M23 22h-14c-0.552 0-1-0.448-1-1s0.448-1 1-1h14c0.552 0 1 0.448 1 1s-0.448 1-1 1z\"></path>\n",
       "<path d=\"M23 18h-14c-0.552 0-1-0.448-1-1s0.448-1 1-1h14c0.552 0 1 0.448 1 1s-0.448 1-1 1z\"></path>\n",
       "</symbol>\n",
       "</defs>\n",
       "</svg>\n",
       "<style>/* CSS stylesheet for displaying xarray objects in jupyterlab.\n",
       " *\n",
       " */\n",
       "\n",
       ":root {\n",
       "  --xr-font-color0: var(--jp-content-font-color0, rgba(0, 0, 0, 1));\n",
       "  --xr-font-color2: var(--jp-content-font-color2, rgba(0, 0, 0, 0.54));\n",
       "  --xr-font-color3: var(--jp-content-font-color3, rgba(0, 0, 0, 0.38));\n",
       "  --xr-border-color: var(--jp-border-color2, #e0e0e0);\n",
       "  --xr-disabled-color: var(--jp-layout-color3, #bdbdbd);\n",
       "  --xr-background-color: var(--jp-layout-color0, white);\n",
       "  --xr-background-color-row-even: var(--jp-layout-color1, white);\n",
       "  --xr-background-color-row-odd: var(--jp-layout-color2, #eeeeee);\n",
       "}\n",
       "\n",
       "html[theme=dark],\n",
       "body.vscode-dark {\n",
       "  --xr-font-color0: rgba(255, 255, 255, 1);\n",
       "  --xr-font-color2: rgba(255, 255, 255, 0.54);\n",
       "  --xr-font-color3: rgba(255, 255, 255, 0.38);\n",
       "  --xr-border-color: #1F1F1F;\n",
       "  --xr-disabled-color: #515151;\n",
       "  --xr-background-color: #111111;\n",
       "  --xr-background-color-row-even: #111111;\n",
       "  --xr-background-color-row-odd: #313131;\n",
       "}\n",
       "\n",
       ".xr-wrap {\n",
       "  display: block !important;\n",
       "  min-width: 300px;\n",
       "  max-width: 700px;\n",
       "}\n",
       "\n",
       ".xr-text-repr-fallback {\n",
       "  /* fallback to plain text repr when CSS is not injected (untrusted notebook) */\n",
       "  display: none;\n",
       "}\n",
       "\n",
       ".xr-header {\n",
       "  padding-top: 6px;\n",
       "  padding-bottom: 6px;\n",
       "  margin-bottom: 4px;\n",
       "  border-bottom: solid 1px var(--xr-border-color);\n",
       "}\n",
       "\n",
       ".xr-header > div,\n",
       ".xr-header > ul {\n",
       "  display: inline;\n",
       "  margin-top: 0;\n",
       "  margin-bottom: 0;\n",
       "}\n",
       "\n",
       ".xr-obj-type,\n",
       ".xr-array-name {\n",
       "  margin-left: 2px;\n",
       "  margin-right: 10px;\n",
       "}\n",
       "\n",
       ".xr-obj-type {\n",
       "  color: var(--xr-font-color2);\n",
       "}\n",
       "\n",
       ".xr-sections {\n",
       "  padding-left: 0 !important;\n",
       "  display: grid;\n",
       "  grid-template-columns: 150px auto auto 1fr 20px 20px;\n",
       "}\n",
       "\n",
       ".xr-section-item {\n",
       "  display: contents;\n",
       "}\n",
       "\n",
       ".xr-section-item input {\n",
       "  display: none;\n",
       "}\n",
       "\n",
       ".xr-section-item input + label {\n",
       "  color: var(--xr-disabled-color);\n",
       "}\n",
       "\n",
       ".xr-section-item input:enabled + label {\n",
       "  cursor: pointer;\n",
       "  color: var(--xr-font-color2);\n",
       "}\n",
       "\n",
       ".xr-section-item input:enabled + label:hover {\n",
       "  color: var(--xr-font-color0);\n",
       "}\n",
       "\n",
       ".xr-section-summary {\n",
       "  grid-column: 1;\n",
       "  color: var(--xr-font-color2);\n",
       "  font-weight: 500;\n",
       "}\n",
       "\n",
       ".xr-section-summary > span {\n",
       "  display: inline-block;\n",
       "  padding-left: 0.5em;\n",
       "}\n",
       "\n",
       ".xr-section-summary-in:disabled + label {\n",
       "  color: var(--xr-font-color2);\n",
       "}\n",
       "\n",
       ".xr-section-summary-in + label:before {\n",
       "  display: inline-block;\n",
       "  content: '►';\n",
       "  font-size: 11px;\n",
       "  width: 15px;\n",
       "  text-align: center;\n",
       "}\n",
       "\n",
       ".xr-section-summary-in:disabled + label:before {\n",
       "  color: var(--xr-disabled-color);\n",
       "}\n",
       "\n",
       ".xr-section-summary-in:checked + label:before {\n",
       "  content: '▼';\n",
       "}\n",
       "\n",
       ".xr-section-summary-in:checked + label > span {\n",
       "  display: none;\n",
       "}\n",
       "\n",
       ".xr-section-summary,\n",
       ".xr-section-inline-details {\n",
       "  padding-top: 4px;\n",
       "  padding-bottom: 4px;\n",
       "}\n",
       "\n",
       ".xr-section-inline-details {\n",
       "  grid-column: 2 / -1;\n",
       "}\n",
       "\n",
       ".xr-section-details {\n",
       "  display: none;\n",
       "  grid-column: 1 / -1;\n",
       "  margin-bottom: 5px;\n",
       "}\n",
       "\n",
       ".xr-section-summary-in:checked ~ .xr-section-details {\n",
       "  display: contents;\n",
       "}\n",
       "\n",
       ".xr-array-wrap {\n",
       "  grid-column: 1 / -1;\n",
       "  display: grid;\n",
       "  grid-template-columns: 20px auto;\n",
       "}\n",
       "\n",
       ".xr-array-wrap > label {\n",
       "  grid-column: 1;\n",
       "  vertical-align: top;\n",
       "}\n",
       "\n",
       ".xr-preview {\n",
       "  color: var(--xr-font-color3);\n",
       "}\n",
       "\n",
       ".xr-array-preview,\n",
       ".xr-array-data {\n",
       "  padding: 0 5px !important;\n",
       "  grid-column: 2;\n",
       "}\n",
       "\n",
       ".xr-array-data,\n",
       ".xr-array-in:checked ~ .xr-array-preview {\n",
       "  display: none;\n",
       "}\n",
       "\n",
       ".xr-array-in:checked ~ .xr-array-data,\n",
       ".xr-array-preview {\n",
       "  display: inline-block;\n",
       "}\n",
       "\n",
       ".xr-dim-list {\n",
       "  display: inline-block !important;\n",
       "  list-style: none;\n",
       "  padding: 0 !important;\n",
       "  margin: 0;\n",
       "}\n",
       "\n",
       ".xr-dim-list li {\n",
       "  display: inline-block;\n",
       "  padding: 0;\n",
       "  margin: 0;\n",
       "}\n",
       "\n",
       ".xr-dim-list:before {\n",
       "  content: '(';\n",
       "}\n",
       "\n",
       ".xr-dim-list:after {\n",
       "  content: ')';\n",
       "}\n",
       "\n",
       ".xr-dim-list li:not(:last-child):after {\n",
       "  content: ',';\n",
       "  padding-right: 5px;\n",
       "}\n",
       "\n",
       ".xr-has-index {\n",
       "  font-weight: bold;\n",
       "}\n",
       "\n",
       ".xr-var-list,\n",
       ".xr-var-item {\n",
       "  display: contents;\n",
       "}\n",
       "\n",
       ".xr-var-item > div,\n",
       ".xr-var-item label,\n",
       ".xr-var-item > .xr-var-name span {\n",
       "  background-color: var(--xr-background-color-row-even);\n",
       "  margin-bottom: 0;\n",
       "}\n",
       "\n",
       ".xr-var-item > .xr-var-name:hover span {\n",
       "  padding-right: 5px;\n",
       "}\n",
       "\n",
       ".xr-var-list > li:nth-child(odd) > div,\n",
       ".xr-var-list > li:nth-child(odd) > label,\n",
       ".xr-var-list > li:nth-child(odd) > .xr-var-name span {\n",
       "  background-color: var(--xr-background-color-row-odd);\n",
       "}\n",
       "\n",
       ".xr-var-name {\n",
       "  grid-column: 1;\n",
       "}\n",
       "\n",
       ".xr-var-dims {\n",
       "  grid-column: 2;\n",
       "}\n",
       "\n",
       ".xr-var-dtype {\n",
       "  grid-column: 3;\n",
       "  text-align: right;\n",
       "  color: var(--xr-font-color2);\n",
       "}\n",
       "\n",
       ".xr-var-preview {\n",
       "  grid-column: 4;\n",
       "}\n",
       "\n",
       ".xr-var-name,\n",
       ".xr-var-dims,\n",
       ".xr-var-dtype,\n",
       ".xr-preview,\n",
       ".xr-attrs dt {\n",
       "  white-space: nowrap;\n",
       "  overflow: hidden;\n",
       "  text-overflow: ellipsis;\n",
       "  padding-right: 10px;\n",
       "}\n",
       "\n",
       ".xr-var-name:hover,\n",
       ".xr-var-dims:hover,\n",
       ".xr-var-dtype:hover,\n",
       ".xr-attrs dt:hover {\n",
       "  overflow: visible;\n",
       "  width: auto;\n",
       "  z-index: 1;\n",
       "}\n",
       "\n",
       ".xr-var-attrs,\n",
       ".xr-var-data {\n",
       "  display: none;\n",
       "  background-color: var(--xr-background-color) !important;\n",
       "  padding-bottom: 5px !important;\n",
       "}\n",
       "\n",
       ".xr-var-attrs-in:checked ~ .xr-var-attrs,\n",
       ".xr-var-data-in:checked ~ .xr-var-data {\n",
       "  display: block;\n",
       "}\n",
       "\n",
       ".xr-var-data > table {\n",
       "  float: right;\n",
       "}\n",
       "\n",
       ".xr-var-name span,\n",
       ".xr-var-data,\n",
       ".xr-attrs {\n",
       "  padding-left: 25px !important;\n",
       "}\n",
       "\n",
       ".xr-attrs,\n",
       ".xr-var-attrs,\n",
       ".xr-var-data {\n",
       "  grid-column: 1 / -1;\n",
       "}\n",
       "\n",
       "dl.xr-attrs {\n",
       "  padding: 0;\n",
       "  margin: 0;\n",
       "  display: grid;\n",
       "  grid-template-columns: 125px auto;\n",
       "}\n",
       "\n",
       ".xr-attrs dt,\n",
       ".xr-attrs dd {\n",
       "  padding: 0;\n",
       "  margin: 0;\n",
       "  float: left;\n",
       "  padding-right: 10px;\n",
       "  width: auto;\n",
       "}\n",
       "\n",
       ".xr-attrs dt {\n",
       "  font-weight: normal;\n",
       "  grid-column: 1;\n",
       "}\n",
       "\n",
       ".xr-attrs dt:hover span {\n",
       "  display: inline-block;\n",
       "  background: var(--xr-background-color);\n",
       "  padding-right: 10px;\n",
       "}\n",
       "\n",
       ".xr-attrs dd {\n",
       "  grid-column: 2;\n",
       "  white-space: pre-wrap;\n",
       "  word-break: break-all;\n",
       "}\n",
       "\n",
       ".xr-icon-database,\n",
       ".xr-icon-file-text2 {\n",
       "  display: inline-block;\n",
       "  vertical-align: middle;\n",
       "  width: 1em;\n",
       "  height: 1.5em !important;\n",
       "  stroke-width: 0;\n",
       "  stroke: currentColor;\n",
       "  fill: currentColor;\n",
       "}\n",
       "</style><pre class='xr-text-repr-fallback'>&lt;xarray.Dataset&gt;\n",
       "Dimensions:      (lon: 64, lonb: 65, lat: 32, latb: 33, time: 2029, nv: 2,\n",
       "                  scalar_axis: 1)\n",
       "Coordinates:\n",
       "  * lon          (lon) float32 0.0 5.625 11.25 16.88 ... 337.5 343.1 348.8 354.4\n",
       "  * lonb         (lonb) float32 -2.812 2.812 8.438 14.06 ... 345.9 351.6 357.2\n",
       "  * lat          (lat) float32 -85.76 -80.27 -74.74 -69.21 ... 74.74 80.27 85.76\n",
       "  * latb         (latb) float32 -90.0 -83.21 -77.61 -72.05 ... 77.61 83.21 90.0\n",
       "  * time         (time) float64 26.5 79.5 132.5 ... 1.075e+05 1.075e+05\n",
       "  * nv           (nv) float32 1.0 2.0\n",
       "  * scalar_axis  (scalar_axis) float32 0.0\n",
       "Data variables: (12/22)\n",
       "    tsurf        (time, lat, lon) float32 ...\n",
       "    qsurf        (time, lat, lon) float32 ...\n",
       "    dtd          (lat, lon) float32 727.2 718.7 712.0 ... 685.1 678.3 671.8\n",
       "    infil        (time, lat, lon) float32 ...\n",
       "    run          (time, lat, lon) float32 ...\n",
       "    sub          (time, lat, lon) float32 ...\n",
       "    ...           ...\n",
       "    tot_surf     (time, scalar_axis) float32 8.523e+15 8.52e+15 ... 1.037e+16\n",
       "    tot_sub      (time, scalar_axis) float32 1.934e+19 1.934e+19 ... 1.934e+19\n",
       "    average_T1   (time) float64 0.0 53.0 106.0 ... 1.074e+05 1.074e+05 1.075e+05\n",
       "    average_T2   (time) float64 53.0 106.0 159.0 ... 1.075e+05 1.075e+05\n",
       "    average_DT   (time) float64 53.0 53.0 53.0 53.0 53.0 ... 53.0 53.0 53.0 53.0\n",
       "    time_bounds  (time, nv) float64 0.0 53.0 53.0 ... 1.075e+05 1.075e+05\n",
       "Attributes:\n",
       "    filename:  atmos.nc\n",
       "    title:     Titan GCM with spectral core</pre><div class='xr-wrap' style='display:none'><div class='xr-header'><div class='xr-obj-type'>xarray.Dataset</div></div><ul class='xr-sections'><li class='xr-section-item'><input id='section-fa2deee4-914a-4725-8d9c-d16447eaba18' class='xr-section-summary-in' type='checkbox' disabled ><label for='section-fa2deee4-914a-4725-8d9c-d16447eaba18' class='xr-section-summary'  title='Expand/collapse section'>Dimensions:</label><div class='xr-section-inline-details'><ul class='xr-dim-list'><li><span class='xr-has-index'>lon</span>: 64</li><li><span class='xr-has-index'>lonb</span>: 65</li><li><span class='xr-has-index'>lat</span>: 32</li><li><span class='xr-has-index'>latb</span>: 33</li><li><span class='xr-has-index'>time</span>: 2029</li><li><span class='xr-has-index'>nv</span>: 2</li><li><span class='xr-has-index'>scalar_axis</span>: 1</li></ul></div><div class='xr-section-details'></div></li><li class='xr-section-item'><input id='section-ebfbbe97-bd30-49e6-b897-66fa9b21b3ba' class='xr-section-summary-in' type='checkbox'  checked><label for='section-ebfbbe97-bd30-49e6-b897-66fa9b21b3ba' class='xr-section-summary' >Coordinates: <span>(7)</span></label><div class='xr-section-inline-details'></div><div class='xr-section-details'><ul class='xr-var-list'><li class='xr-var-item'><div class='xr-var-name'><span class='xr-has-index'>lon</span></div><div class='xr-var-dims'>(lon)</div><div class='xr-var-dtype'>float32</div><div class='xr-var-preview xr-preview'>0.0 5.625 11.25 ... 348.8 354.4</div><input id='attrs-15498f1f-bde0-4738-b9d1-f66ad0a012f4' class='xr-var-attrs-in' type='checkbox' ><label for='attrs-15498f1f-bde0-4738-b9d1-f66ad0a012f4' title='Show/Hide attributes'><svg class='icon xr-icon-file-text2'><use xlink:href='#icon-file-text2'></use></svg></label><input id='data-5a1bb037-8e43-4c7c-93a7-e2ef01632b23' class='xr-var-data-in' type='checkbox'><label for='data-5a1bb037-8e43-4c7c-93a7-e2ef01632b23' title='Show/Hide data repr'><svg class='icon xr-icon-database'><use xlink:href='#icon-database'></use></svg></label><div class='xr-var-attrs'><dl class='xr-attrs'><dt><span>long_name :</span></dt><dd>longitude</dd><dt><span>units :</span></dt><dd>degrees_E</dd><dt><span>cartesian_axis :</span></dt><dd>X</dd><dt><span>edges :</span></dt><dd>lonb</dd></dl></div><div class='xr-var-data'><pre>array([  0.   ,   5.625,  11.25 ,  16.875,  22.5  ,  28.125,  33.75 ,  39.375,\n",
       "        45.   ,  50.625,  56.25 ,  61.875,  67.5  ,  73.125,  78.75 ,  84.375,\n",
       "        90.   ,  95.625, 101.25 , 106.875, 112.5  , 118.125, 123.75 , 129.375,\n",
       "       135.   , 140.625, 146.25 , 151.875, 157.5  , 163.125, 168.75 , 174.375,\n",
       "       180.   , 185.625, 191.25 , 196.875, 202.5  , 208.125, 213.75 , 219.375,\n",
       "       225.   , 230.625, 236.25 , 241.875, 247.5  , 253.125, 258.75 , 264.375,\n",
       "       270.   , 275.625, 281.25 , 286.875, 292.5  , 298.125, 303.75 , 309.375,\n",
       "       315.   , 320.625, 326.25 , 331.875, 337.5  , 343.125, 348.75 , 354.375],\n",
       "      dtype=float32)</pre></div></li><li class='xr-var-item'><div class='xr-var-name'><span class='xr-has-index'>lonb</span></div><div class='xr-var-dims'>(lonb)</div><div class='xr-var-dtype'>float32</div><div class='xr-var-preview xr-preview'>-2.812 2.812 8.438 ... 351.6 357.2</div><input id='attrs-0e5deb91-1424-41bb-b283-4ad1733c7f92' class='xr-var-attrs-in' type='checkbox' ><label for='attrs-0e5deb91-1424-41bb-b283-4ad1733c7f92' title='Show/Hide attributes'><svg class='icon xr-icon-file-text2'><use xlink:href='#icon-file-text2'></use></svg></label><input id='data-3a8f41c3-9343-4cbd-8292-a8eb50d415e7' class='xr-var-data-in' type='checkbox'><label for='data-3a8f41c3-9343-4cbd-8292-a8eb50d415e7' title='Show/Hide data repr'><svg class='icon xr-icon-database'><use xlink:href='#icon-database'></use></svg></label><div class='xr-var-attrs'><dl class='xr-attrs'><dt><span>long_name :</span></dt><dd>longitude edges</dd><dt><span>units :</span></dt><dd>degrees_E</dd><dt><span>cartesian_axis :</span></dt><dd>X</dd></dl></div><div class='xr-var-data'><pre>array([ -2.8125,   2.8125,   8.4375,  14.0625,  19.6875,  25.3125,  30.9375,\n",
       "        36.5625,  42.1875,  47.8125,  53.4375,  59.0625,  64.6875,  70.3125,\n",
       "        75.9375,  81.5625,  87.1875,  92.8125,  98.4375, 104.0625, 109.6875,\n",
       "       115.3125, 120.9375, 126.5625, 132.1875, 137.8125, 143.4375, 149.0625,\n",
       "       154.6875, 160.3125, 165.9375, 171.5625, 177.1875, 182.8125, 188.4375,\n",
       "       194.0625, 199.6875, 205.3125, 210.9375, 216.5625, 222.1875, 227.8125,\n",
       "       233.4375, 239.0625, 244.6875, 250.3125, 255.9375, 261.5625, 267.1875,\n",
       "       272.8125, 278.4375, 284.0625, 289.6875, 295.3125, 300.9375, 306.5625,\n",
       "       312.1875, 317.8125, 323.4375, 329.0625, 334.6875, 340.3125, 345.9375,\n",
       "       351.5625, 357.1875], dtype=float32)</pre></div></li><li class='xr-var-item'><div class='xr-var-name'><span class='xr-has-index'>lat</span></div><div class='xr-var-dims'>(lat)</div><div class='xr-var-dtype'>float32</div><div class='xr-var-preview xr-preview'>-85.76 -80.27 ... 80.27 85.76</div><input id='attrs-3eaac4af-b74a-4c0b-a01d-afc58f21bbfc' class='xr-var-attrs-in' type='checkbox' ><label for='attrs-3eaac4af-b74a-4c0b-a01d-afc58f21bbfc' title='Show/Hide attributes'><svg class='icon xr-icon-file-text2'><use xlink:href='#icon-file-text2'></use></svg></label><input id='data-d2f6a362-c7ff-484a-9d47-016332076acb' class='xr-var-data-in' type='checkbox'><label for='data-d2f6a362-c7ff-484a-9d47-016332076acb' title='Show/Hide data repr'><svg class='icon xr-icon-database'><use xlink:href='#icon-database'></use></svg></label><div class='xr-var-attrs'><dl class='xr-attrs'><dt><span>long_name :</span></dt><dd>latitude</dd><dt><span>units :</span></dt><dd>degrees_N</dd><dt><span>cartesian_axis :</span></dt><dd>Y</dd><dt><span>edges :</span></dt><dd>latb</dd></dl></div><div class='xr-var-data'><pre>array([-85.76059 , -80.268776, -74.74454 , -69.212975, -63.678635, -58.142956,\n",
       "       -52.606525, -47.06964 , -41.532463, -35.99508 , -30.457554, -24.91993 ,\n",
       "       -19.38223 , -13.844483,  -8.306703,  -2.768903,   2.768903,   8.306703,\n",
       "        13.844483,  19.38223 ,  24.91993 ,  30.457554,  35.99508 ,  41.532463,\n",
       "        47.06964 ,  52.606525,  58.142956,  63.678635,  69.212975,  74.74454 ,\n",
       "        80.268776,  85.76059 ], dtype=float32)</pre></div></li><li class='xr-var-item'><div class='xr-var-name'><span class='xr-has-index'>latb</span></div><div class='xr-var-dims'>(latb)</div><div class='xr-var-dtype'>float32</div><div class='xr-var-preview xr-preview'>-90.0 -83.21 -77.61 ... 83.21 90.0</div><input id='attrs-0ebdbf1c-6439-4977-b838-04f8ba3b23fd' class='xr-var-attrs-in' type='checkbox' ><label for='attrs-0ebdbf1c-6439-4977-b838-04f8ba3b23fd' title='Show/Hide attributes'><svg class='icon xr-icon-file-text2'><use xlink:href='#icon-file-text2'></use></svg></label><input id='data-1eeb1962-5f86-4430-a6b5-608835b7ab93' class='xr-var-data-in' type='checkbox'><label for='data-1eeb1962-5f86-4430-a6b5-608835b7ab93' title='Show/Hide data repr'><svg class='icon xr-icon-database'><use xlink:href='#icon-database'></use></svg></label><div class='xr-var-attrs'><dl class='xr-attrs'><dt><span>long_name :</span></dt><dd>latitude edges</dd><dt><span>units :</span></dt><dd>degrees_N</dd><dt><span>cartesian_axis :</span></dt><dd>Y</dd></dl></div><div class='xr-var-data'><pre>array([-9.000000e+01, -8.320769e+01, -7.760927e+01, -7.204797e+01,\n",
       "       -6.649727e+01, -6.095105e+01, -5.540714e+01, -4.986457e+01,\n",
       "       -4.432286e+01, -3.878171e+01, -3.324095e+01, -2.770046e+01,\n",
       "       -2.216017e+01, -1.662002e+01, -1.107996e+01, -5.539968e+00,\n",
       "       -6.361110e-14,  5.539968e+00,  1.107996e+01,  1.662002e+01,\n",
       "        2.216017e+01,  2.770046e+01,  3.324095e+01,  3.878171e+01,\n",
       "        4.432286e+01,  4.986457e+01,  5.540714e+01,  6.095105e+01,\n",
       "        6.649727e+01,  7.204797e+01,  7.760927e+01,  8.320769e+01,\n",
       "        9.000000e+01], dtype=float32)</pre></div></li><li class='xr-var-item'><div class='xr-var-name'><span class='xr-has-index'>time</span></div><div class='xr-var-dims'>(time)</div><div class='xr-var-dtype'>float64</div><div class='xr-var-preview xr-preview'>26.5 79.5 ... 1.075e+05 1.075e+05</div><input id='attrs-0d3c3dfb-ea98-494b-833e-69d1101d9423' class='xr-var-attrs-in' type='checkbox' ><label for='attrs-0d3c3dfb-ea98-494b-833e-69d1101d9423' title='Show/Hide attributes'><svg class='icon xr-icon-file-text2'><use xlink:href='#icon-file-text2'></use></svg></label><input id='data-f97420c0-0c19-4566-b72c-2c3469b5f1b4' class='xr-var-data-in' type='checkbox'><label for='data-f97420c0-0c19-4566-b72c-2c3469b5f1b4' title='Show/Hide data repr'><svg class='icon xr-icon-database'><use xlink:href='#icon-database'></use></svg></label><div class='xr-var-attrs'><dl class='xr-attrs'><dt><span>long_name :</span></dt><dd>time</dd><dt><span>units :</span></dt><dd>days since 0000-00-00 00:00:00</dd><dt><span>cartesian_axis :</span></dt><dd>T</dd><dt><span>calendar_type :</span></dt><dd>NO_CALENDAR</dd><dt><span>calendar :</span></dt><dd>NO_CALENDAR</dd><dt><span>bounds :</span></dt><dd>time_bounds</dd></dl></div><div class='xr-var-data'><pre>array([2.650000e+01, 7.950000e+01, 1.325000e+02, ..., 1.074045e+05,\n",
       "       1.074575e+05, 1.075105e+05])</pre></div></li><li class='xr-var-item'><div class='xr-var-name'><span class='xr-has-index'>nv</span></div><div class='xr-var-dims'>(nv)</div><div class='xr-var-dtype'>float32</div><div class='xr-var-preview xr-preview'>1.0 2.0</div><input id='attrs-ed2d990f-542b-45dc-86cf-8c825f437a51' class='xr-var-attrs-in' type='checkbox' ><label for='attrs-ed2d990f-542b-45dc-86cf-8c825f437a51' title='Show/Hide attributes'><svg class='icon xr-icon-file-text2'><use xlink:href='#icon-file-text2'></use></svg></label><input id='data-6258e715-4b87-40c2-9ce4-be51585c57e8' class='xr-var-data-in' type='checkbox'><label for='data-6258e715-4b87-40c2-9ce4-be51585c57e8' title='Show/Hide data repr'><svg class='icon xr-icon-database'><use xlink:href='#icon-database'></use></svg></label><div class='xr-var-attrs'><dl class='xr-attrs'><dt><span>long_name :</span></dt><dd>vertex number</dd><dt><span>units :</span></dt><dd>none</dd><dt><span>cartesian_axis :</span></dt><dd>N</dd></dl></div><div class='xr-var-data'><pre>array([1., 2.], dtype=float32)</pre></div></li><li class='xr-var-item'><div class='xr-var-name'><span class='xr-has-index'>scalar_axis</span></div><div class='xr-var-dims'>(scalar_axis)</div><div class='xr-var-dtype'>float32</div><div class='xr-var-preview xr-preview'>0.0</div><input id='attrs-24566fdf-8906-4f63-8f86-4800766d6b43' class='xr-var-attrs-in' type='checkbox' ><label for='attrs-24566fdf-8906-4f63-8f86-4800766d6b43' title='Show/Hide attributes'><svg class='icon xr-icon-file-text2'><use xlink:href='#icon-file-text2'></use></svg></label><input id='data-a974a2a7-fc0f-4df1-9c55-00e4e8b5790c' class='xr-var-data-in' type='checkbox'><label for='data-a974a2a7-fc0f-4df1-9c55-00e4e8b5790c' title='Show/Hide data repr'><svg class='icon xr-icon-database'><use xlink:href='#icon-database'></use></svg></label><div class='xr-var-attrs'><dl class='xr-attrs'><dt><span>long_name :</span></dt><dd>none</dd><dt><span>units :</span></dt><dd>none</dd><dt><span>cartesian_axis :</span></dt><dd>X</dd></dl></div><div class='xr-var-data'><pre>array([0.], dtype=float32)</pre></div></li></ul></div></li><li class='xr-section-item'><input id='section-41b62a1f-07a1-4861-b73a-b1f558d9cedb' class='xr-section-summary-in' type='checkbox'  ><label for='section-41b62a1f-07a1-4861-b73a-b1f558d9cedb' class='xr-section-summary' >Data variables: <span>(22)</span></label><div class='xr-section-inline-details'></div><div class='xr-section-details'><ul class='xr-var-list'><li class='xr-var-item'><div class='xr-var-name'><span>tsurf</span></div><div class='xr-var-dims'>(time, lat, lon)</div><div class='xr-var-dtype'>float32</div><div class='xr-var-preview xr-preview'>...</div><input id='attrs-d28daf63-3573-40a7-98f4-b00120012f47' class='xr-var-attrs-in' type='checkbox' ><label for='attrs-d28daf63-3573-40a7-98f4-b00120012f47' title='Show/Hide attributes'><svg class='icon xr-icon-file-text2'><use xlink:href='#icon-file-text2'></use></svg></label><input id='data-9ac8e6d5-104e-4fbf-95bf-16a1af98f876' class='xr-var-data-in' type='checkbox'><label for='data-9ac8e6d5-104e-4fbf-95bf-16a1af98f876' title='Show/Hide data repr'><svg class='icon xr-icon-database'><use xlink:href='#icon-database'></use></svg></label><div class='xr-var-attrs'><dl class='xr-attrs'><dt><span>long_name :</span></dt><dd>Surface temperature</dd><dt><span>units :</span></dt><dd>degrees K</dd><dt><span>cell_methods :</span></dt><dd>time: mean</dd><dt><span>time_avg_info :</span></dt><dd>average_T1,average_T2,average_DT</dd></dl></div><div class='xr-var-data'><pre>[4155392 values with dtype=float32]</pre></div></li><li class='xr-var-item'><div class='xr-var-name'><span>qsurf</span></div><div class='xr-var-dims'>(time, lat, lon)</div><div class='xr-var-dtype'>float32</div><div class='xr-var-preview xr-preview'>...</div><input id='attrs-95018832-8476-419d-b51d-2c469b25547c' class='xr-var-attrs-in' type='checkbox' ><label for='attrs-95018832-8476-419d-b51d-2c469b25547c' title='Show/Hide attributes'><svg class='icon xr-icon-file-text2'><use xlink:href='#icon-file-text2'></use></svg></label><input id='data-51db5fd5-425e-45d1-9f35-a53da3099d0f' class='xr-var-data-in' type='checkbox'><label for='data-51db5fd5-425e-45d1-9f35-a53da3099d0f' title='Show/Hide data repr'><svg class='icon xr-icon-database'><use xlink:href='#icon-database'></use></svg></label><div class='xr-var-attrs'><dl class='xr-attrs'><dt><span>long_name :</span></dt><dd>Surface liquid</dd><dt><span>units :</span></dt><dd>m</dd><dt><span>cell_methods :</span></dt><dd>time: mean</dd><dt><span>time_avg_info :</span></dt><dd>average_T1,average_T2,average_DT</dd></dl></div><div class='xr-var-data'><pre>[4155392 values with dtype=float32]</pre></div></li><li class='xr-var-item'><div class='xr-var-name'><span>dtd</span></div><div class='xr-var-dims'>(lat, lon)</div><div class='xr-var-dtype'>float32</div><div class='xr-var-preview xr-preview'>...</div><input id='attrs-8909f4bc-8474-45f9-be82-4fee782c99a3' class='xr-var-attrs-in' type='checkbox' ><label for='attrs-8909f4bc-8474-45f9-be82-4fee782c99a3' title='Show/Hide attributes'><svg class='icon xr-icon-file-text2'><use xlink:href='#icon-file-text2'></use></svg></label><input id='data-a4397de4-02c8-4880-8c1b-777cb551ee4f' class='xr-var-data-in' type='checkbox'><label for='data-a4397de4-02c8-4880-8c1b-777cb551ee4f' title='Show/Hide data repr'><svg class='icon xr-icon-database'><use xlink:href='#icon-database'></use></svg></label><div class='xr-var-attrs'><dl class='xr-attrs'><dt><span>long_name :</span></dt><dd>Topography used for runoff</dd><dt><span>units :</span></dt><dd>m</dd><dt><span>cell_methods :</span></dt><dd>time: point</dd></dl></div><div class='xr-var-data'><pre>array([[727.1954 , 718.6611 , 712.0082 , ..., 761.67944, 748.9822 , 737.3909 ],\n",
       "       [559.5163 , 532.27527, 512.3572 , ..., 662.3815 , 626.82806, 591.8268 ],\n",
       "       [507.44382, 457.14072, 422.8111 , ..., 680.3019 , 625.53925, 566.1008 ],\n",
       "       ...,\n",
       "       [703.2523 , 654.64276, 613.30316, ..., 832.6819 , 799.7684 , 754.1065 ],\n",
       "       [623.6364 , 602.2721 , 580.2737 , ..., 671.7371 , 659.3601 , 643.0626 ],\n",
       "       [665.5491 , 659.4957 , 653.69714, ..., 685.05023, 678.3139 , 671.8233 ]],\n",
       "      dtype=float32)</pre></div></li><li class='xr-var-item'><div class='xr-var-name'><span>infil</span></div><div class='xr-var-dims'>(time, lat, lon)</div><div class='xr-var-dtype'>float32</div><div class='xr-var-preview xr-preview'>...</div><input id='attrs-ef3187ea-2df0-41f2-b4b7-dd389bc8f569' class='xr-var-attrs-in' type='checkbox' ><label for='attrs-ef3187ea-2df0-41f2-b4b7-dd389bc8f569' title='Show/Hide attributes'><svg class='icon xr-icon-file-text2'><use xlink:href='#icon-file-text2'></use></svg></label><input id='data-684c4260-e82d-43d3-8605-d44d73f8ac3e' class='xr-var-data-in' type='checkbox'><label for='data-684c4260-e82d-43d3-8605-d44d73f8ac3e' title='Show/Hide data repr'><svg class='icon xr-icon-database'><use xlink:href='#icon-database'></use></svg></label><div class='xr-var-attrs'><dl class='xr-attrs'><dt><span>long_name :</span></dt><dd>Infiltration</dd><dt><span>units :</span></dt><dd>kg/m2/s</dd><dt><span>cell_methods :</span></dt><dd>time: mean</dd><dt><span>time_avg_info :</span></dt><dd>average_T1,average_T2,average_DT</dd></dl></div><div class='xr-var-data'><pre>[4155392 values with dtype=float32]</pre></div></li><li class='xr-var-item'><div class='xr-var-name'><span>run</span></div><div class='xr-var-dims'>(time, lat, lon)</div><div class='xr-var-dtype'>float32</div><div class='xr-var-preview xr-preview'>...</div><input id='attrs-71808172-b76c-46ce-8451-063725219960' class='xr-var-attrs-in' type='checkbox' ><label for='attrs-71808172-b76c-46ce-8451-063725219960' title='Show/Hide attributes'><svg class='icon xr-icon-file-text2'><use xlink:href='#icon-file-text2'></use></svg></label><input id='data-4ddaf405-ad4b-428c-a78d-e072a4aafc0e' class='xr-var-data-in' type='checkbox'><label for='data-4ddaf405-ad4b-428c-a78d-e072a4aafc0e' title='Show/Hide data repr'><svg class='icon xr-icon-database'><use xlink:href='#icon-database'></use></svg></label><div class='xr-var-attrs'><dl class='xr-attrs'><dt><span>long_name :</span></dt><dd>Surface runoff into reservoir</dd><dt><span>units :</span></dt><dd>kg/m2/s</dd><dt><span>cell_methods :</span></dt><dd>time: mean</dd><dt><span>time_avg_info :</span></dt><dd>average_T1,average_T2,average_DT</dd></dl></div><div class='xr-var-data'><pre>[4155392 values with dtype=float32]</pre></div></li><li class='xr-var-item'><div class='xr-var-name'><span>sub</span></div><div class='xr-var-dims'>(time, lat, lon)</div><div class='xr-var-dtype'>float32</div><div class='xr-var-preview xr-preview'>...</div><input id='attrs-cee683fc-0de0-4741-98d4-60017298e74b' class='xr-var-attrs-in' type='checkbox' ><label for='attrs-cee683fc-0de0-4741-98d4-60017298e74b' title='Show/Hide attributes'><svg class='icon xr-icon-file-text2'><use xlink:href='#icon-file-text2'></use></svg></label><input id='data-ef0d4094-47c6-4f58-a438-bafb99b3ea48' class='xr-var-data-in' type='checkbox'><label for='data-ef0d4094-47c6-4f58-a438-bafb99b3ea48' title='Show/Hide data repr'><svg class='icon xr-icon-database'><use xlink:href='#icon-database'></use></svg></label><div class='xr-var-attrs'><dl class='xr-attrs'><dt><span>long_name :</span></dt><dd>Subsurface flow</dd><dt><span>units :</span></dt><dd>kg/m2/s</dd><dt><span>cell_methods :</span></dt><dd>time: mean</dd><dt><span>time_avg_info :</span></dt><dd>average_T1,average_T2,average_DT</dd></dl></div><div class='xr-var-data'><pre>[4155392 values with dtype=float32]</pre></div></li><li class='xr-var-item'><div class='xr-var-name'><span>res</span></div><div class='xr-var-dims'>(time, lat, lon)</div><div class='xr-var-dtype'>float32</div><div class='xr-var-preview xr-preview'>...</div><input id='attrs-978944be-c5b7-426b-9011-2c5d0e778977' class='xr-var-attrs-in' type='checkbox' ><label for='attrs-978944be-c5b7-426b-9011-2c5d0e778977' title='Show/Hide attributes'><svg class='icon xr-icon-file-text2'><use xlink:href='#icon-file-text2'></use></svg></label><input id='data-99647205-b1ea-441e-a02f-1db564fafe9d' class='xr-var-data-in' type='checkbox'><label for='data-99647205-b1ea-441e-a02f-1db564fafe9d' title='Show/Hide data repr'><svg class='icon xr-icon-database'><use xlink:href='#icon-database'></use></svg></label><div class='xr-var-attrs'><dl class='xr-attrs'><dt><span>long_name :</span></dt><dd>Runoff reservoir</dd><dt><span>units :</span></dt><dd>m</dd><dt><span>cell_methods :</span></dt><dd>time: mean</dd><dt><span>time_avg_info :</span></dt><dd>average_T1,average_T2,average_DT</dd></dl></div><div class='xr-var-data'><pre>[4155392 values with dtype=float32]</pre></div></li><li class='xr-var-item'><div class='xr-var-name'><span>gwe</span></div><div class='xr-var-dims'>(time, lat, lon)</div><div class='xr-var-dtype'>float32</div><div class='xr-var-preview xr-preview'>...</div><input id='attrs-fd1d2ede-1544-473d-a559-450a39374cf2' class='xr-var-attrs-in' type='checkbox' ><label for='attrs-fd1d2ede-1544-473d-a559-450a39374cf2' title='Show/Hide attributes'><svg class='icon xr-icon-file-text2'><use xlink:href='#icon-file-text2'></use></svg></label><input id='data-4b4eeef4-db64-4052-9e8d-0c9ad8d70ef4' class='xr-var-data-in' type='checkbox'><label for='data-4b4eeef4-db64-4052-9e8d-0c9ad8d70ef4' title='Show/Hide data repr'><svg class='icon xr-icon-database'><use xlink:href='#icon-database'></use></svg></label><div class='xr-var-attrs'><dl class='xr-attrs'><dt><span>long_name :</span></dt><dd>Groundwater evap from table</dd><dt><span>units :</span></dt><dd>kg/m2/s</dd><dt><span>cell_methods :</span></dt><dd>time: mean</dd><dt><span>time_avg_info :</span></dt><dd>average_T1,average_T2,average_DT</dd></dl></div><div class='xr-var-data'><pre>[4155392 values with dtype=float32]</pre></div></li><li class='xr-var-item'><div class='xr-var-name'><span>dis</span></div><div class='xr-var-dims'>(time, lat, lon)</div><div class='xr-var-dtype'>float32</div><div class='xr-var-preview xr-preview'>...</div><input id='attrs-0c3404f1-1831-4f7e-ba51-1eaca8e3b6fb' class='xr-var-attrs-in' type='checkbox' ><label for='attrs-0c3404f1-1831-4f7e-ba51-1eaca8e3b6fb' title='Show/Hide attributes'><svg class='icon xr-icon-file-text2'><use xlink:href='#icon-file-text2'></use></svg></label><input id='data-62344651-0f43-4d3a-8be6-15e4840c3257' class='xr-var-data-in' type='checkbox'><label for='data-62344651-0f43-4d3a-8be6-15e4840c3257' title='Show/Hide data repr'><svg class='icon xr-icon-database'><use xlink:href='#icon-database'></use></svg></label><div class='xr-var-attrs'><dl class='xr-attrs'><dt><span>long_name :</span></dt><dd>Discharge</dd><dt><span>units :</span></dt><dd>kg/m2/s</dd><dt><span>cell_methods :</span></dt><dd>time: mean</dd><dt><span>time_avg_info :</span></dt><dd>average_T1,average_T2,average_DT</dd></dl></div><div class='xr-var-data'><pre>[4155392 values with dtype=float32]</pre></div></li><li class='xr-var-item'><div class='xr-var-name'><span>recharge</span></div><div class='xr-var-dims'>(time, lat, lon)</div><div class='xr-var-dtype'>float32</div><div class='xr-var-preview xr-preview'>...</div><input id='attrs-c9d42aae-47e2-4f16-91b7-1d9e631de90c' class='xr-var-attrs-in' type='checkbox' ><label for='attrs-c9d42aae-47e2-4f16-91b7-1d9e631de90c' title='Show/Hide attributes'><svg class='icon xr-icon-file-text2'><use xlink:href='#icon-file-text2'></use></svg></label><input id='data-403ca69f-edce-4766-990b-3ce4df6f7636' class='xr-var-data-in' type='checkbox'><label for='data-403ca69f-edce-4766-990b-3ce4df6f7636' title='Show/Hide data repr'><svg class='icon xr-icon-database'><use xlink:href='#icon-database'></use></svg></label><div class='xr-var-attrs'><dl class='xr-attrs'><dt><span>long_name :</span></dt><dd>Recharge of surface from table</dd><dt><span>units :</span></dt><dd>kg/m2/s</dd><dt><span>cell_methods :</span></dt><dd>time: mean</dd><dt><span>time_avg_info :</span></dt><dd>average_T1,average_T2,average_DT</dd></dl></div><div class='xr-var-data'><pre>[4155392 values with dtype=float32]</pre></div></li><li class='xr-var-item'><div class='xr-var-name'><span>table</span></div><div class='xr-var-dims'>(time, lat, lon)</div><div class='xr-var-dtype'>float32</div><div class='xr-var-preview xr-preview'>...</div><input id='attrs-101e9d9c-807d-4043-891a-026d7a37d27e' class='xr-var-attrs-in' type='checkbox' ><label for='attrs-101e9d9c-807d-4043-891a-026d7a37d27e' title='Show/Hide attributes'><svg class='icon xr-icon-file-text2'><use xlink:href='#icon-file-text2'></use></svg></label><input id='data-d2dc7f08-d324-415d-8a1b-7134a0d732f2' class='xr-var-data-in' type='checkbox'><label for='data-d2dc7f08-d324-415d-8a1b-7134a0d732f2' title='Show/Hide data repr'><svg class='icon xr-icon-database'><use xlink:href='#icon-database'></use></svg></label><div class='xr-var-attrs'><dl class='xr-attrs'><dt><span>long_name :</span></dt><dd>Methane table</dd><dt><span>units :</span></dt><dd>m</dd><dt><span>cell_methods :</span></dt><dd>time: mean</dd><dt><span>time_avg_info :</span></dt><dd>average_T1,average_T2,average_DT</dd></dl></div><div class='xr-var-data'><pre>[4155392 values with dtype=float32]</pre></div></li><li class='xr-var-item'><div class='xr-var-name'><span>height</span></div><div class='xr-var-dims'>(time, lat, lon)</div><div class='xr-var-dtype'>float32</div><div class='xr-var-preview xr-preview'>...</div><input id='attrs-bf357173-5971-4a2a-ae1b-04970c6dddad' class='xr-var-attrs-in' type='checkbox' ><label for='attrs-bf357173-5971-4a2a-ae1b-04970c6dddad' title='Show/Hide attributes'><svg class='icon xr-icon-file-text2'><use xlink:href='#icon-file-text2'></use></svg></label><input id='data-8a7edffa-cb38-4fa9-b005-f71181d40748' class='xr-var-data-in' type='checkbox'><label for='data-8a7edffa-cb38-4fa9-b005-f71181d40748' title='Show/Hide data repr'><svg class='icon xr-icon-database'><use xlink:href='#icon-database'></use></svg></label><div class='xr-var-attrs'><dl class='xr-attrs'><dt><span>long_name :</span></dt><dd>Combined liquid height</dd><dt><span>units :</span></dt><dd>m</dd><dt><span>cell_methods :</span></dt><dd>time: mean</dd><dt><span>time_avg_info :</span></dt><dd>average_T1,average_T2,average_DT</dd></dl></div><div class='xr-var-data'><pre>[4155392 values with dtype=float32]</pre></div></li><li class='xr-var-item'><div class='xr-var-name'><span>evap</span></div><div class='xr-var-dims'>(time, lat, lon)</div><div class='xr-var-dtype'>float32</div><div class='xr-var-preview xr-preview'>...</div><input id='attrs-99d8ae06-e717-424d-9ba6-a0673357cff3' class='xr-var-attrs-in' type='checkbox' ><label for='attrs-99d8ae06-e717-424d-9ba6-a0673357cff3' title='Show/Hide attributes'><svg class='icon xr-icon-file-text2'><use xlink:href='#icon-file-text2'></use></svg></label><input id='data-7a793e36-6143-41af-8142-c55f0cebdf65' class='xr-var-data-in' type='checkbox'><label for='data-7a793e36-6143-41af-8142-c55f0cebdf65' title='Show/Hide data repr'><svg class='icon xr-icon-database'><use xlink:href='#icon-database'></use></svg></label><div class='xr-var-attrs'><dl class='xr-attrs'><dt><span>long_name :</span></dt><dd>Surface evaporation</dd><dt><span>units :</span></dt><dd>kg/m2/s</dd><dt><span>cell_methods :</span></dt><dd>time: mean</dd><dt><span>time_avg_info :</span></dt><dd>average_T1,average_T2,average_DT</dd></dl></div><div class='xr-var-data'><pre>[4155392 values with dtype=float32]</pre></div></li><li class='xr-var-item'><div class='xr-var-name'><span>sens</span></div><div class='xr-var-dims'>(time, lat, lon)</div><div class='xr-var-dtype'>float32</div><div class='xr-var-preview xr-preview'>...</div><input id='attrs-bedf9f0d-ca53-46c3-acc1-69724c5b31df' class='xr-var-attrs-in' type='checkbox' ><label for='attrs-bedf9f0d-ca53-46c3-acc1-69724c5b31df' title='Show/Hide attributes'><svg class='icon xr-icon-file-text2'><use xlink:href='#icon-file-text2'></use></svg></label><input id='data-106cb75a-cd54-4e61-8288-b92c270cb293' class='xr-var-data-in' type='checkbox'><label for='data-106cb75a-cd54-4e61-8288-b92c270cb293' title='Show/Hide data repr'><svg class='icon xr-icon-database'><use xlink:href='#icon-database'></use></svg></label><div class='xr-var-attrs'><dl class='xr-attrs'><dt><span>long_name :</span></dt><dd>Sensible heat flux</dd><dt><span>units :</span></dt><dd>W/m2</dd><dt><span>cell_methods :</span></dt><dd>time: mean</dd><dt><span>time_avg_info :</span></dt><dd>average_T1,average_T2,average_DT</dd></dl></div><div class='xr-var-data'><pre>[4155392 values with dtype=float32]</pre></div></li><li class='xr-var-item'><div class='xr-var-name'><span>precip</span></div><div class='xr-var-dims'>(time, lat, lon)</div><div class='xr-var-dtype'>float32</div><div class='xr-var-preview xr-preview'>...</div><input id='attrs-fb6df635-8ebf-4660-a193-fb96e83505bc' class='xr-var-attrs-in' type='checkbox' ><label for='attrs-fb6df635-8ebf-4660-a193-fb96e83505bc' title='Show/Hide attributes'><svg class='icon xr-icon-file-text2'><use xlink:href='#icon-file-text2'></use></svg></label><input id='data-7c750cc5-7501-4a56-b22d-36e387cdf957' class='xr-var-data-in' type='checkbox'><label for='data-7c750cc5-7501-4a56-b22d-36e387cdf957' title='Show/Hide data repr'><svg class='icon xr-icon-database'><use xlink:href='#icon-database'></use></svg></label><div class='xr-var-attrs'><dl class='xr-attrs'><dt><span>long_name :</span></dt><dd>Total precipitation</dd><dt><span>units :</span></dt><dd>kg/m2/s</dd><dt><span>cell_methods :</span></dt><dd>time: mean</dd><dt><span>time_avg_info :</span></dt><dd>average_T1,average_T2,average_DT</dd></dl></div><div class='xr-var-data'><pre>[4155392 values with dtype=float32]</pre></div></li><li class='xr-var-item'><div class='xr-var-name'><span>tot_atm</span></div><div class='xr-var-dims'>(time, scalar_axis)</div><div class='xr-var-dtype'>float32</div><div class='xr-var-preview xr-preview'>...</div><input id='attrs-4655a927-f14e-4a58-9c3f-3f5850bcd148' class='xr-var-attrs-in' type='checkbox' ><label for='attrs-4655a927-f14e-4a58-9c3f-3f5850bcd148' title='Show/Hide attributes'><svg class='icon xr-icon-file-text2'><use xlink:href='#icon-file-text2'></use></svg></label><input id='data-73401e7e-bb28-48a4-8d79-ba893f424d35' class='xr-var-data-in' type='checkbox'><label for='data-73401e7e-bb28-48a4-8d79-ba893f424d35' title='Show/Hide data repr'><svg class='icon xr-icon-database'><use xlink:href='#icon-database'></use></svg></label><div class='xr-var-attrs'><dl class='xr-attrs'><dt><span>long_name :</span></dt><dd>Total area-weighted atmospheric methane</dd><dt><span>units :</span></dt><dd>kg</dd><dt><span>cell_methods :</span></dt><dd>time: mean</dd><dt><span>time_avg_info :</span></dt><dd>average_T1,average_T2,average_DT</dd></dl></div><div class='xr-var-data'><pre>array([[1.673943e+17],\n",
       "       [1.674108e+17],\n",
       "       [1.674240e+17],\n",
       "       ...,\n",
       "       [1.667808e+17],\n",
       "       [1.667965e+17],\n",
       "       [1.668130e+17]], dtype=float32)</pre></div></li><li class='xr-var-item'><div class='xr-var-name'><span>tot_surf</span></div><div class='xr-var-dims'>(time, scalar_axis)</div><div class='xr-var-dtype'>float32</div><div class='xr-var-preview xr-preview'>...</div><input id='attrs-f2581c0b-1be3-4ad7-8974-b5d334a7a87e' class='xr-var-attrs-in' type='checkbox' ><label for='attrs-f2581c0b-1be3-4ad7-8974-b5d334a7a87e' title='Show/Hide attributes'><svg class='icon xr-icon-file-text2'><use xlink:href='#icon-file-text2'></use></svg></label><input id='data-205374bf-ad07-42f1-b1e7-83292bc764d0' class='xr-var-data-in' type='checkbox'><label for='data-205374bf-ad07-42f1-b1e7-83292bc764d0' title='Show/Hide data repr'><svg class='icon xr-icon-database'><use xlink:href='#icon-database'></use></svg></label><div class='xr-var-attrs'><dl class='xr-attrs'><dt><span>long_name :</span></dt><dd>Total area-weighted surface methane</dd><dt><span>units :</span></dt><dd>kg</dd><dt><span>cell_methods :</span></dt><dd>time: mean</dd><dt><span>time_avg_info :</span></dt><dd>average_T1,average_T2,average_DT</dd></dl></div><div class='xr-var-data'><pre>array([[8.522593e+15],\n",
       "       [8.520436e+15],\n",
       "       [8.519574e+15],\n",
       "       ...,\n",
       "       [1.037242e+16],\n",
       "       [1.036992e+16],\n",
       "       [1.036641e+16]], dtype=float32)</pre></div></li><li class='xr-var-item'><div class='xr-var-name'><span>tot_sub</span></div><div class='xr-var-dims'>(time, scalar_axis)</div><div class='xr-var-dtype'>float32</div><div class='xr-var-preview xr-preview'>...</div><input id='attrs-3439bcff-94a0-4b3b-85ba-f3dd17780737' class='xr-var-attrs-in' type='checkbox' ><label for='attrs-3439bcff-94a0-4b3b-85ba-f3dd17780737' title='Show/Hide attributes'><svg class='icon xr-icon-file-text2'><use xlink:href='#icon-file-text2'></use></svg></label><input id='data-b97e70b0-1934-4b9b-a608-1fd8b50fd89d' class='xr-var-data-in' type='checkbox'><label for='data-b97e70b0-1934-4b9b-a608-1fd8b50fd89d' title='Show/Hide data repr'><svg class='icon xr-icon-database'><use xlink:href='#icon-database'></use></svg></label><div class='xr-var-attrs'><dl class='xr-attrs'><dt><span>long_name :</span></dt><dd>Total area-weighted subsurface methane</dd><dt><span>units :</span></dt><dd>kg</dd><dt><span>cell_methods :</span></dt><dd>time: mean</dd><dt><span>time_avg_info :</span></dt><dd>average_T1,average_T2,average_DT</dd></dl></div><div class='xr-var-data'><pre>array([[1.933743e+19],\n",
       "       [1.933741e+19],\n",
       "       [1.933740e+19],\n",
       "       ...,\n",
       "       [1.933543e+19],\n",
       "       [1.933542e+19],\n",
       "       [1.933541e+19]], dtype=float32)</pre></div></li><li class='xr-var-item'><div class='xr-var-name'><span>average_T1</span></div><div class='xr-var-dims'>(time)</div><div class='xr-var-dtype'>float64</div><div class='xr-var-preview xr-preview'>...</div><input id='attrs-355dadbd-0ddb-4e4f-842b-fe05bfeb989c' class='xr-var-attrs-in' type='checkbox' ><label for='attrs-355dadbd-0ddb-4e4f-842b-fe05bfeb989c' title='Show/Hide attributes'><svg class='icon xr-icon-file-text2'><use xlink:href='#icon-file-text2'></use></svg></label><input id='data-bfb95cf4-90c4-4640-8bff-9a4a7cf533f5' class='xr-var-data-in' type='checkbox'><label for='data-bfb95cf4-90c4-4640-8bff-9a4a7cf533f5' title='Show/Hide data repr'><svg class='icon xr-icon-database'><use xlink:href='#icon-database'></use></svg></label><div class='xr-var-attrs'><dl class='xr-attrs'><dt><span>long_name :</span></dt><dd>Start time for average period</dd><dt><span>units :</span></dt><dd>days since 0000-00-00 00:00:00</dd></dl></div><div class='xr-var-data'><pre>array([0.00000e+00, 5.30000e+01, 1.06000e+02, ..., 1.07378e+05, 1.07431e+05,\n",
       "       1.07484e+05])</pre></div></li><li class='xr-var-item'><div class='xr-var-name'><span>average_T2</span></div><div class='xr-var-dims'>(time)</div><div class='xr-var-dtype'>float64</div><div class='xr-var-preview xr-preview'>...</div><input id='attrs-8e93557e-cd49-41c1-acb2-ab74448ea312' class='xr-var-attrs-in' type='checkbox' ><label for='attrs-8e93557e-cd49-41c1-acb2-ab74448ea312' title='Show/Hide attributes'><svg class='icon xr-icon-file-text2'><use xlink:href='#icon-file-text2'></use></svg></label><input id='data-348b206e-1259-46df-8cbc-5d74d5480672' class='xr-var-data-in' type='checkbox'><label for='data-348b206e-1259-46df-8cbc-5d74d5480672' title='Show/Hide data repr'><svg class='icon xr-icon-database'><use xlink:href='#icon-database'></use></svg></label><div class='xr-var-attrs'><dl class='xr-attrs'><dt><span>long_name :</span></dt><dd>End time for average period</dd><dt><span>units :</span></dt><dd>days since 0000-00-00 00:00:00</dd></dl></div><div class='xr-var-data'><pre>array([5.30000e+01, 1.06000e+02, 1.59000e+02, ..., 1.07431e+05, 1.07484e+05,\n",
       "       1.07537e+05])</pre></div></li><li class='xr-var-item'><div class='xr-var-name'><span>average_DT</span></div><div class='xr-var-dims'>(time)</div><div class='xr-var-dtype'>float64</div><div class='xr-var-preview xr-preview'>...</div><input id='attrs-fc66be1f-8399-4152-a33b-c8d69d7e0fbb' class='xr-var-attrs-in' type='checkbox' ><label for='attrs-fc66be1f-8399-4152-a33b-c8d69d7e0fbb' title='Show/Hide attributes'><svg class='icon xr-icon-file-text2'><use xlink:href='#icon-file-text2'></use></svg></label><input id='data-0a56e619-85b0-4fe3-b19c-dae34c38edc6' class='xr-var-data-in' type='checkbox'><label for='data-0a56e619-85b0-4fe3-b19c-dae34c38edc6' title='Show/Hide data repr'><svg class='icon xr-icon-database'><use xlink:href='#icon-database'></use></svg></label><div class='xr-var-attrs'><dl class='xr-attrs'><dt><span>long_name :</span></dt><dd>Length of average period</dd><dt><span>units :</span></dt><dd>days</dd></dl></div><div class='xr-var-data'><pre>array([53., 53., 53., ..., 53., 53., 53.])</pre></div></li><li class='xr-var-item'><div class='xr-var-name'><span>time_bounds</span></div><div class='xr-var-dims'>(time, nv)</div><div class='xr-var-dtype'>float64</div><div class='xr-var-preview xr-preview'>...</div><input id='attrs-2b94f51e-9780-4c52-b777-42e2c49bc190' class='xr-var-attrs-in' type='checkbox' ><label for='attrs-2b94f51e-9780-4c52-b777-42e2c49bc190' title='Show/Hide attributes'><svg class='icon xr-icon-file-text2'><use xlink:href='#icon-file-text2'></use></svg></label><input id='data-5d5a1206-66cd-49af-a061-ec9dddfe4fc7' class='xr-var-data-in' type='checkbox'><label for='data-5d5a1206-66cd-49af-a061-ec9dddfe4fc7' title='Show/Hide data repr'><svg class='icon xr-icon-database'><use xlink:href='#icon-database'></use></svg></label><div class='xr-var-attrs'><dl class='xr-attrs'><dt><span>long_name :</span></dt><dd>time axis boundaries</dd><dt><span>units :</span></dt><dd>days</dd></dl></div><div class='xr-var-data'><pre>array([[0.00000e+00, 5.30000e+01],\n",
       "       [5.30000e+01, 1.06000e+02],\n",
       "       [1.06000e+02, 1.59000e+02],\n",
       "       ...,\n",
       "       [1.07378e+05, 1.07431e+05],\n",
       "       [1.07431e+05, 1.07484e+05],\n",
       "       [1.07484e+05, 1.07537e+05]])</pre></div></li></ul></div></li><li class='xr-section-item'><input id='section-101a685b-f479-4bd7-b534-3bf84223473b' class='xr-section-summary-in' type='checkbox'  checked><label for='section-101a685b-f479-4bd7-b534-3bf84223473b' class='xr-section-summary' >Attributes: <span>(2)</span></label><div class='xr-section-inline-details'></div><div class='xr-section-details'><dl class='xr-attrs'><dt><span>filename :</span></dt><dd>atmos.nc</dd><dt><span>title :</span></dt><dd>Titan GCM with spectral core</dd></dl></div></li></ul></div></div>"
      ],
      "text/plain": [
       "<xarray.Dataset>\n",
       "Dimensions:      (lon: 64, lonb: 65, lat: 32, latb: 33, time: 2029, nv: 2,\n",
       "                  scalar_axis: 1)\n",
       "Coordinates:\n",
       "  * lon          (lon) float32 0.0 5.625 11.25 16.88 ... 337.5 343.1 348.8 354.4\n",
       "  * lonb         (lonb) float32 -2.812 2.812 8.438 14.06 ... 345.9 351.6 357.2\n",
       "  * lat          (lat) float32 -85.76 -80.27 -74.74 -69.21 ... 74.74 80.27 85.76\n",
       "  * latb         (latb) float32 -90.0 -83.21 -77.61 -72.05 ... 77.61 83.21 90.0\n",
       "  * time         (time) float64 26.5 79.5 132.5 ... 1.075e+05 1.075e+05\n",
       "  * nv           (nv) float32 1.0 2.0\n",
       "  * scalar_axis  (scalar_axis) float32 0.0\n",
       "Data variables: (12/22)\n",
       "    tsurf        (time, lat, lon) float32 ...\n",
       "    qsurf        (time, lat, lon) float32 ...\n",
       "    dtd          (lat, lon) float32 ...\n",
       "    infil        (time, lat, lon) float32 ...\n",
       "    run          (time, lat, lon) float32 ...\n",
       "    sub          (time, lat, lon) float32 ...\n",
       "    ...           ...\n",
       "    tot_surf     (time, scalar_axis) float32 ...\n",
       "    tot_sub      (time, scalar_axis) float32 ...\n",
       "    average_T1   (time) float64 ...\n",
       "    average_T2   (time) float64 ...\n",
       "    average_DT   (time) float64 ...\n",
       "    time_bounds  (time, nv) float64 ...\n",
       "Attributes:\n",
       "    filename:  atmos.nc\n",
       "    title:     Titan GCM with spectral core"
      ]
     },
     "execution_count": 3,
     "metadata": {},
     "output_type": "execute_result"
    }
   ],
   "source": [
    "data2 = Dataset(r'Precipitation Data/full_phys.hydro.k5e-5.y241-250.nc')\n",
    "ds2 = xr.open_dataset('Precipitation Data/full_phys.hydro.k5e-5.y241-250.nc', decode_times=False)\n",
    "ds2"
   ]
  },
  {
   "cell_type": "code",
   "execution_count": 4,
   "id": "6e987760",
   "metadata": {},
   "outputs": [
    {
     "data": {
      "text/html": [
       "<div><svg style=\"position: absolute; width: 0; height: 0; overflow: hidden\">\n",
       "<defs>\n",
       "<symbol id=\"icon-database\" viewBox=\"0 0 32 32\">\n",
       "<path d=\"M16 0c-8.837 0-16 2.239-16 5v4c0 2.761 7.163 5 16 5s16-2.239 16-5v-4c0-2.761-7.163-5-16-5z\"></path>\n",
       "<path d=\"M16 17c-8.837 0-16-2.239-16-5v6c0 2.761 7.163 5 16 5s16-2.239 16-5v-6c0 2.761-7.163 5-16 5z\"></path>\n",
       "<path d=\"M16 26c-8.837 0-16-2.239-16-5v6c0 2.761 7.163 5 16 5s16-2.239 16-5v-6c0 2.761-7.163 5-16 5z\"></path>\n",
       "</symbol>\n",
       "<symbol id=\"icon-file-text2\" viewBox=\"0 0 32 32\">\n",
       "<path d=\"M28.681 7.159c-0.694-0.947-1.662-2.053-2.724-3.116s-2.169-2.030-3.116-2.724c-1.612-1.182-2.393-1.319-2.841-1.319h-15.5c-1.378 0-2.5 1.121-2.5 2.5v27c0 1.378 1.122 2.5 2.5 2.5h23c1.378 0 2.5-1.122 2.5-2.5v-19.5c0-0.448-0.137-1.23-1.319-2.841zM24.543 5.457c0.959 0.959 1.712 1.825 2.268 2.543h-4.811v-4.811c0.718 0.556 1.584 1.309 2.543 2.268zM28 29.5c0 0.271-0.229 0.5-0.5 0.5h-23c-0.271 0-0.5-0.229-0.5-0.5v-27c0-0.271 0.229-0.5 0.5-0.5 0 0 15.499-0 15.5 0v7c0 0.552 0.448 1 1 1h7v19.5z\"></path>\n",
       "<path d=\"M23 26h-14c-0.552 0-1-0.448-1-1s0.448-1 1-1h14c0.552 0 1 0.448 1 1s-0.448 1-1 1z\"></path>\n",
       "<path d=\"M23 22h-14c-0.552 0-1-0.448-1-1s0.448-1 1-1h14c0.552 0 1 0.448 1 1s-0.448 1-1 1z\"></path>\n",
       "<path d=\"M23 18h-14c-0.552 0-1-0.448-1-1s0.448-1 1-1h14c0.552 0 1 0.448 1 1s-0.448 1-1 1z\"></path>\n",
       "</symbol>\n",
       "</defs>\n",
       "</svg>\n",
       "<style>/* CSS stylesheet for displaying xarray objects in jupyterlab.\n",
       " *\n",
       " */\n",
       "\n",
       ":root {\n",
       "  --xr-font-color0: var(--jp-content-font-color0, rgba(0, 0, 0, 1));\n",
       "  --xr-font-color2: var(--jp-content-font-color2, rgba(0, 0, 0, 0.54));\n",
       "  --xr-font-color3: var(--jp-content-font-color3, rgba(0, 0, 0, 0.38));\n",
       "  --xr-border-color: var(--jp-border-color2, #e0e0e0);\n",
       "  --xr-disabled-color: var(--jp-layout-color3, #bdbdbd);\n",
       "  --xr-background-color: var(--jp-layout-color0, white);\n",
       "  --xr-background-color-row-even: var(--jp-layout-color1, white);\n",
       "  --xr-background-color-row-odd: var(--jp-layout-color2, #eeeeee);\n",
       "}\n",
       "\n",
       "html[theme=dark],\n",
       "body.vscode-dark {\n",
       "  --xr-font-color0: rgba(255, 255, 255, 1);\n",
       "  --xr-font-color2: rgba(255, 255, 255, 0.54);\n",
       "  --xr-font-color3: rgba(255, 255, 255, 0.38);\n",
       "  --xr-border-color: #1F1F1F;\n",
       "  --xr-disabled-color: #515151;\n",
       "  --xr-background-color: #111111;\n",
       "  --xr-background-color-row-even: #111111;\n",
       "  --xr-background-color-row-odd: #313131;\n",
       "}\n",
       "\n",
       ".xr-wrap {\n",
       "  display: block !important;\n",
       "  min-width: 300px;\n",
       "  max-width: 700px;\n",
       "}\n",
       "\n",
       ".xr-text-repr-fallback {\n",
       "  /* fallback to plain text repr when CSS is not injected (untrusted notebook) */\n",
       "  display: none;\n",
       "}\n",
       "\n",
       ".xr-header {\n",
       "  padding-top: 6px;\n",
       "  padding-bottom: 6px;\n",
       "  margin-bottom: 4px;\n",
       "  border-bottom: solid 1px var(--xr-border-color);\n",
       "}\n",
       "\n",
       ".xr-header > div,\n",
       ".xr-header > ul {\n",
       "  display: inline;\n",
       "  margin-top: 0;\n",
       "  margin-bottom: 0;\n",
       "}\n",
       "\n",
       ".xr-obj-type,\n",
       ".xr-array-name {\n",
       "  margin-left: 2px;\n",
       "  margin-right: 10px;\n",
       "}\n",
       "\n",
       ".xr-obj-type {\n",
       "  color: var(--xr-font-color2);\n",
       "}\n",
       "\n",
       ".xr-sections {\n",
       "  padding-left: 0 !important;\n",
       "  display: grid;\n",
       "  grid-template-columns: 150px auto auto 1fr 20px 20px;\n",
       "}\n",
       "\n",
       ".xr-section-item {\n",
       "  display: contents;\n",
       "}\n",
       "\n",
       ".xr-section-item input {\n",
       "  display: none;\n",
       "}\n",
       "\n",
       ".xr-section-item input + label {\n",
       "  color: var(--xr-disabled-color);\n",
       "}\n",
       "\n",
       ".xr-section-item input:enabled + label {\n",
       "  cursor: pointer;\n",
       "  color: var(--xr-font-color2);\n",
       "}\n",
       "\n",
       ".xr-section-item input:enabled + label:hover {\n",
       "  color: var(--xr-font-color0);\n",
       "}\n",
       "\n",
       ".xr-section-summary {\n",
       "  grid-column: 1;\n",
       "  color: var(--xr-font-color2);\n",
       "  font-weight: 500;\n",
       "}\n",
       "\n",
       ".xr-section-summary > span {\n",
       "  display: inline-block;\n",
       "  padding-left: 0.5em;\n",
       "}\n",
       "\n",
       ".xr-section-summary-in:disabled + label {\n",
       "  color: var(--xr-font-color2);\n",
       "}\n",
       "\n",
       ".xr-section-summary-in + label:before {\n",
       "  display: inline-block;\n",
       "  content: '►';\n",
       "  font-size: 11px;\n",
       "  width: 15px;\n",
       "  text-align: center;\n",
       "}\n",
       "\n",
       ".xr-section-summary-in:disabled + label:before {\n",
       "  color: var(--xr-disabled-color);\n",
       "}\n",
       "\n",
       ".xr-section-summary-in:checked + label:before {\n",
       "  content: '▼';\n",
       "}\n",
       "\n",
       ".xr-section-summary-in:checked + label > span {\n",
       "  display: none;\n",
       "}\n",
       "\n",
       ".xr-section-summary,\n",
       ".xr-section-inline-details {\n",
       "  padding-top: 4px;\n",
       "  padding-bottom: 4px;\n",
       "}\n",
       "\n",
       ".xr-section-inline-details {\n",
       "  grid-column: 2 / -1;\n",
       "}\n",
       "\n",
       ".xr-section-details {\n",
       "  display: none;\n",
       "  grid-column: 1 / -1;\n",
       "  margin-bottom: 5px;\n",
       "}\n",
       "\n",
       ".xr-section-summary-in:checked ~ .xr-section-details {\n",
       "  display: contents;\n",
       "}\n",
       "\n",
       ".xr-array-wrap {\n",
       "  grid-column: 1 / -1;\n",
       "  display: grid;\n",
       "  grid-template-columns: 20px auto;\n",
       "}\n",
       "\n",
       ".xr-array-wrap > label {\n",
       "  grid-column: 1;\n",
       "  vertical-align: top;\n",
       "}\n",
       "\n",
       ".xr-preview {\n",
       "  color: var(--xr-font-color3);\n",
       "}\n",
       "\n",
       ".xr-array-preview,\n",
       ".xr-array-data {\n",
       "  padding: 0 5px !important;\n",
       "  grid-column: 2;\n",
       "}\n",
       "\n",
       ".xr-array-data,\n",
       ".xr-array-in:checked ~ .xr-array-preview {\n",
       "  display: none;\n",
       "}\n",
       "\n",
       ".xr-array-in:checked ~ .xr-array-data,\n",
       ".xr-array-preview {\n",
       "  display: inline-block;\n",
       "}\n",
       "\n",
       ".xr-dim-list {\n",
       "  display: inline-block !important;\n",
       "  list-style: none;\n",
       "  padding: 0 !important;\n",
       "  margin: 0;\n",
       "}\n",
       "\n",
       ".xr-dim-list li {\n",
       "  display: inline-block;\n",
       "  padding: 0;\n",
       "  margin: 0;\n",
       "}\n",
       "\n",
       ".xr-dim-list:before {\n",
       "  content: '(';\n",
       "}\n",
       "\n",
       ".xr-dim-list:after {\n",
       "  content: ')';\n",
       "}\n",
       "\n",
       ".xr-dim-list li:not(:last-child):after {\n",
       "  content: ',';\n",
       "  padding-right: 5px;\n",
       "}\n",
       "\n",
       ".xr-has-index {\n",
       "  font-weight: bold;\n",
       "}\n",
       "\n",
       ".xr-var-list,\n",
       ".xr-var-item {\n",
       "  display: contents;\n",
       "}\n",
       "\n",
       ".xr-var-item > div,\n",
       ".xr-var-item label,\n",
       ".xr-var-item > .xr-var-name span {\n",
       "  background-color: var(--xr-background-color-row-even);\n",
       "  margin-bottom: 0;\n",
       "}\n",
       "\n",
       ".xr-var-item > .xr-var-name:hover span {\n",
       "  padding-right: 5px;\n",
       "}\n",
       "\n",
       ".xr-var-list > li:nth-child(odd) > div,\n",
       ".xr-var-list > li:nth-child(odd) > label,\n",
       ".xr-var-list > li:nth-child(odd) > .xr-var-name span {\n",
       "  background-color: var(--xr-background-color-row-odd);\n",
       "}\n",
       "\n",
       ".xr-var-name {\n",
       "  grid-column: 1;\n",
       "}\n",
       "\n",
       ".xr-var-dims {\n",
       "  grid-column: 2;\n",
       "}\n",
       "\n",
       ".xr-var-dtype {\n",
       "  grid-column: 3;\n",
       "  text-align: right;\n",
       "  color: var(--xr-font-color2);\n",
       "}\n",
       "\n",
       ".xr-var-preview {\n",
       "  grid-column: 4;\n",
       "}\n",
       "\n",
       ".xr-var-name,\n",
       ".xr-var-dims,\n",
       ".xr-var-dtype,\n",
       ".xr-preview,\n",
       ".xr-attrs dt {\n",
       "  white-space: nowrap;\n",
       "  overflow: hidden;\n",
       "  text-overflow: ellipsis;\n",
       "  padding-right: 10px;\n",
       "}\n",
       "\n",
       ".xr-var-name:hover,\n",
       ".xr-var-dims:hover,\n",
       ".xr-var-dtype:hover,\n",
       ".xr-attrs dt:hover {\n",
       "  overflow: visible;\n",
       "  width: auto;\n",
       "  z-index: 1;\n",
       "}\n",
       "\n",
       ".xr-var-attrs,\n",
       ".xr-var-data {\n",
       "  display: none;\n",
       "  background-color: var(--xr-background-color) !important;\n",
       "  padding-bottom: 5px !important;\n",
       "}\n",
       "\n",
       ".xr-var-attrs-in:checked ~ .xr-var-attrs,\n",
       ".xr-var-data-in:checked ~ .xr-var-data {\n",
       "  display: block;\n",
       "}\n",
       "\n",
       ".xr-var-data > table {\n",
       "  float: right;\n",
       "}\n",
       "\n",
       ".xr-var-name span,\n",
       ".xr-var-data,\n",
       ".xr-attrs {\n",
       "  padding-left: 25px !important;\n",
       "}\n",
       "\n",
       ".xr-attrs,\n",
       ".xr-var-attrs,\n",
       ".xr-var-data {\n",
       "  grid-column: 1 / -1;\n",
       "}\n",
       "\n",
       "dl.xr-attrs {\n",
       "  padding: 0;\n",
       "  margin: 0;\n",
       "  display: grid;\n",
       "  grid-template-columns: 125px auto;\n",
       "}\n",
       "\n",
       ".xr-attrs dt,\n",
       ".xr-attrs dd {\n",
       "  padding: 0;\n",
       "  margin: 0;\n",
       "  float: left;\n",
       "  padding-right: 10px;\n",
       "  width: auto;\n",
       "}\n",
       "\n",
       ".xr-attrs dt {\n",
       "  font-weight: normal;\n",
       "  grid-column: 1;\n",
       "}\n",
       "\n",
       ".xr-attrs dt:hover span {\n",
       "  display: inline-block;\n",
       "  background: var(--xr-background-color);\n",
       "  padding-right: 10px;\n",
       "}\n",
       "\n",
       ".xr-attrs dd {\n",
       "  grid-column: 2;\n",
       "  white-space: pre-wrap;\n",
       "  word-break: break-all;\n",
       "}\n",
       "\n",
       ".xr-icon-database,\n",
       ".xr-icon-file-text2 {\n",
       "  display: inline-block;\n",
       "  vertical-align: middle;\n",
       "  width: 1em;\n",
       "  height: 1.5em !important;\n",
       "  stroke-width: 0;\n",
       "  stroke: currentColor;\n",
       "  fill: currentColor;\n",
       "}\n",
       "</style><pre class='xr-text-repr-fallback'>&lt;xarray.Variable (time: 2029, lat: 32, lon: 64)&gt;\n",
       "[4155392 values with dtype=float32]\n",
       "Attributes:\n",
       "    long_name:      Total precipitation\n",
       "    units:          kg/m2/s\n",
       "    cell_methods:   time: mean\n",
       "    time_avg_info:  average_T1,average_T2,average_DT</pre><div class='xr-wrap' style='display:none'><div class='xr-header'><div class='xr-obj-type'>xarray.Variable</div><div class='xr-array-name'></div><ul class='xr-dim-list'><li><span>time</span>: 2029</li><li><span>lat</span>: 32</li><li><span>lon</span>: 64</li></ul></div><ul class='xr-sections'><li class='xr-section-item'><div class='xr-array-wrap'><input id='section-01286f05-7795-4dee-8bac-33563e4c80b3' class='xr-array-in' type='checkbox' checked><label for='section-01286f05-7795-4dee-8bac-33563e4c80b3' title='Show/hide data repr'><svg class='icon xr-icon-database'><use xlink:href='#icon-database'></use></svg></label><div class='xr-array-preview xr-preview'><span>...</span></div><div class='xr-array-data'><pre>[4155392 values with dtype=float32]</pre></div></div></li><li class='xr-section-item'><input id='section-a4618804-0650-4e69-a754-26b075bc0e3f' class='xr-section-summary-in' type='checkbox'  checked><label for='section-a4618804-0650-4e69-a754-26b075bc0e3f' class='xr-section-summary' >Attributes: <span>(4)</span></label><div class='xr-section-inline-details'></div><div class='xr-section-details'><dl class='xr-attrs'><dt><span>long_name :</span></dt><dd>Total precipitation</dd><dt><span>units :</span></dt><dd>kg/m2/s</dd><dt><span>cell_methods :</span></dt><dd>time: mean</dd><dt><span>time_avg_info :</span></dt><dd>average_T1,average_T2,average_DT</dd></dl></div></li></ul></div></div>"
      ],
      "text/plain": [
       "<xarray.Variable (time: 2029, lat: 32, lon: 64)>\n",
       "[4155392 values with dtype=float32]\n",
       "Attributes:\n",
       "    long_name:      Total precipitation\n",
       "    units:          kg/m2/s\n",
       "    cell_methods:   time: mean\n",
       "    time_avg_info:  average_T1,average_T2,average_DT"
      ]
     },
     "execution_count": 4,
     "metadata": {},
     "output_type": "execute_result"
    }
   ],
   "source": [
    "ds1.variables['precip']"
   ]
  },
  {
   "cell_type": "code",
   "execution_count": 5,
   "id": "c5a28d84",
   "metadata": {},
   "outputs": [
    {
     "data": {
      "text/html": [
       "<div><svg style=\"position: absolute; width: 0; height: 0; overflow: hidden\">\n",
       "<defs>\n",
       "<symbol id=\"icon-database\" viewBox=\"0 0 32 32\">\n",
       "<path d=\"M16 0c-8.837 0-16 2.239-16 5v4c0 2.761 7.163 5 16 5s16-2.239 16-5v-4c0-2.761-7.163-5-16-5z\"></path>\n",
       "<path d=\"M16 17c-8.837 0-16-2.239-16-5v6c0 2.761 7.163 5 16 5s16-2.239 16-5v-6c0 2.761-7.163 5-16 5z\"></path>\n",
       "<path d=\"M16 26c-8.837 0-16-2.239-16-5v6c0 2.761 7.163 5 16 5s16-2.239 16-5v-6c0 2.761-7.163 5-16 5z\"></path>\n",
       "</symbol>\n",
       "<symbol id=\"icon-file-text2\" viewBox=\"0 0 32 32\">\n",
       "<path d=\"M28.681 7.159c-0.694-0.947-1.662-2.053-2.724-3.116s-2.169-2.030-3.116-2.724c-1.612-1.182-2.393-1.319-2.841-1.319h-15.5c-1.378 0-2.5 1.121-2.5 2.5v27c0 1.378 1.122 2.5 2.5 2.5h23c1.378 0 2.5-1.122 2.5-2.5v-19.5c0-0.448-0.137-1.23-1.319-2.841zM24.543 5.457c0.959 0.959 1.712 1.825 2.268 2.543h-4.811v-4.811c0.718 0.556 1.584 1.309 2.543 2.268zM28 29.5c0 0.271-0.229 0.5-0.5 0.5h-23c-0.271 0-0.5-0.229-0.5-0.5v-27c0-0.271 0.229-0.5 0.5-0.5 0 0 15.499-0 15.5 0v7c0 0.552 0.448 1 1 1h7v19.5z\"></path>\n",
       "<path d=\"M23 26h-14c-0.552 0-1-0.448-1-1s0.448-1 1-1h14c0.552 0 1 0.448 1 1s-0.448 1-1 1z\"></path>\n",
       "<path d=\"M23 22h-14c-0.552 0-1-0.448-1-1s0.448-1 1-1h14c0.552 0 1 0.448 1 1s-0.448 1-1 1z\"></path>\n",
       "<path d=\"M23 18h-14c-0.552 0-1-0.448-1-1s0.448-1 1-1h14c0.552 0 1 0.448 1 1s-0.448 1-1 1z\"></path>\n",
       "</symbol>\n",
       "</defs>\n",
       "</svg>\n",
       "<style>/* CSS stylesheet for displaying xarray objects in jupyterlab.\n",
       " *\n",
       " */\n",
       "\n",
       ":root {\n",
       "  --xr-font-color0: var(--jp-content-font-color0, rgba(0, 0, 0, 1));\n",
       "  --xr-font-color2: var(--jp-content-font-color2, rgba(0, 0, 0, 0.54));\n",
       "  --xr-font-color3: var(--jp-content-font-color3, rgba(0, 0, 0, 0.38));\n",
       "  --xr-border-color: var(--jp-border-color2, #e0e0e0);\n",
       "  --xr-disabled-color: var(--jp-layout-color3, #bdbdbd);\n",
       "  --xr-background-color: var(--jp-layout-color0, white);\n",
       "  --xr-background-color-row-even: var(--jp-layout-color1, white);\n",
       "  --xr-background-color-row-odd: var(--jp-layout-color2, #eeeeee);\n",
       "}\n",
       "\n",
       "html[theme=dark],\n",
       "body.vscode-dark {\n",
       "  --xr-font-color0: rgba(255, 255, 255, 1);\n",
       "  --xr-font-color2: rgba(255, 255, 255, 0.54);\n",
       "  --xr-font-color3: rgba(255, 255, 255, 0.38);\n",
       "  --xr-border-color: #1F1F1F;\n",
       "  --xr-disabled-color: #515151;\n",
       "  --xr-background-color: #111111;\n",
       "  --xr-background-color-row-even: #111111;\n",
       "  --xr-background-color-row-odd: #313131;\n",
       "}\n",
       "\n",
       ".xr-wrap {\n",
       "  display: block !important;\n",
       "  min-width: 300px;\n",
       "  max-width: 700px;\n",
       "}\n",
       "\n",
       ".xr-text-repr-fallback {\n",
       "  /* fallback to plain text repr when CSS is not injected (untrusted notebook) */\n",
       "  display: none;\n",
       "}\n",
       "\n",
       ".xr-header {\n",
       "  padding-top: 6px;\n",
       "  padding-bottom: 6px;\n",
       "  margin-bottom: 4px;\n",
       "  border-bottom: solid 1px var(--xr-border-color);\n",
       "}\n",
       "\n",
       ".xr-header > div,\n",
       ".xr-header > ul {\n",
       "  display: inline;\n",
       "  margin-top: 0;\n",
       "  margin-bottom: 0;\n",
       "}\n",
       "\n",
       ".xr-obj-type,\n",
       ".xr-array-name {\n",
       "  margin-left: 2px;\n",
       "  margin-right: 10px;\n",
       "}\n",
       "\n",
       ".xr-obj-type {\n",
       "  color: var(--xr-font-color2);\n",
       "}\n",
       "\n",
       ".xr-sections {\n",
       "  padding-left: 0 !important;\n",
       "  display: grid;\n",
       "  grid-template-columns: 150px auto auto 1fr 20px 20px;\n",
       "}\n",
       "\n",
       ".xr-section-item {\n",
       "  display: contents;\n",
       "}\n",
       "\n",
       ".xr-section-item input {\n",
       "  display: none;\n",
       "}\n",
       "\n",
       ".xr-section-item input + label {\n",
       "  color: var(--xr-disabled-color);\n",
       "}\n",
       "\n",
       ".xr-section-item input:enabled + label {\n",
       "  cursor: pointer;\n",
       "  color: var(--xr-font-color2);\n",
       "}\n",
       "\n",
       ".xr-section-item input:enabled + label:hover {\n",
       "  color: var(--xr-font-color0);\n",
       "}\n",
       "\n",
       ".xr-section-summary {\n",
       "  grid-column: 1;\n",
       "  color: var(--xr-font-color2);\n",
       "  font-weight: 500;\n",
       "}\n",
       "\n",
       ".xr-section-summary > span {\n",
       "  display: inline-block;\n",
       "  padding-left: 0.5em;\n",
       "}\n",
       "\n",
       ".xr-section-summary-in:disabled + label {\n",
       "  color: var(--xr-font-color2);\n",
       "}\n",
       "\n",
       ".xr-section-summary-in + label:before {\n",
       "  display: inline-block;\n",
       "  content: '►';\n",
       "  font-size: 11px;\n",
       "  width: 15px;\n",
       "  text-align: center;\n",
       "}\n",
       "\n",
       ".xr-section-summary-in:disabled + label:before {\n",
       "  color: var(--xr-disabled-color);\n",
       "}\n",
       "\n",
       ".xr-section-summary-in:checked + label:before {\n",
       "  content: '▼';\n",
       "}\n",
       "\n",
       ".xr-section-summary-in:checked + label > span {\n",
       "  display: none;\n",
       "}\n",
       "\n",
       ".xr-section-summary,\n",
       ".xr-section-inline-details {\n",
       "  padding-top: 4px;\n",
       "  padding-bottom: 4px;\n",
       "}\n",
       "\n",
       ".xr-section-inline-details {\n",
       "  grid-column: 2 / -1;\n",
       "}\n",
       "\n",
       ".xr-section-details {\n",
       "  display: none;\n",
       "  grid-column: 1 / -1;\n",
       "  margin-bottom: 5px;\n",
       "}\n",
       "\n",
       ".xr-section-summary-in:checked ~ .xr-section-details {\n",
       "  display: contents;\n",
       "}\n",
       "\n",
       ".xr-array-wrap {\n",
       "  grid-column: 1 / -1;\n",
       "  display: grid;\n",
       "  grid-template-columns: 20px auto;\n",
       "}\n",
       "\n",
       ".xr-array-wrap > label {\n",
       "  grid-column: 1;\n",
       "  vertical-align: top;\n",
       "}\n",
       "\n",
       ".xr-preview {\n",
       "  color: var(--xr-font-color3);\n",
       "}\n",
       "\n",
       ".xr-array-preview,\n",
       ".xr-array-data {\n",
       "  padding: 0 5px !important;\n",
       "  grid-column: 2;\n",
       "}\n",
       "\n",
       ".xr-array-data,\n",
       ".xr-array-in:checked ~ .xr-array-preview {\n",
       "  display: none;\n",
       "}\n",
       "\n",
       ".xr-array-in:checked ~ .xr-array-data,\n",
       ".xr-array-preview {\n",
       "  display: inline-block;\n",
       "}\n",
       "\n",
       ".xr-dim-list {\n",
       "  display: inline-block !important;\n",
       "  list-style: none;\n",
       "  padding: 0 !important;\n",
       "  margin: 0;\n",
       "}\n",
       "\n",
       ".xr-dim-list li {\n",
       "  display: inline-block;\n",
       "  padding: 0;\n",
       "  margin: 0;\n",
       "}\n",
       "\n",
       ".xr-dim-list:before {\n",
       "  content: '(';\n",
       "}\n",
       "\n",
       ".xr-dim-list:after {\n",
       "  content: ')';\n",
       "}\n",
       "\n",
       ".xr-dim-list li:not(:last-child):after {\n",
       "  content: ',';\n",
       "  padding-right: 5px;\n",
       "}\n",
       "\n",
       ".xr-has-index {\n",
       "  font-weight: bold;\n",
       "}\n",
       "\n",
       ".xr-var-list,\n",
       ".xr-var-item {\n",
       "  display: contents;\n",
       "}\n",
       "\n",
       ".xr-var-item > div,\n",
       ".xr-var-item label,\n",
       ".xr-var-item > .xr-var-name span {\n",
       "  background-color: var(--xr-background-color-row-even);\n",
       "  margin-bottom: 0;\n",
       "}\n",
       "\n",
       ".xr-var-item > .xr-var-name:hover span {\n",
       "  padding-right: 5px;\n",
       "}\n",
       "\n",
       ".xr-var-list > li:nth-child(odd) > div,\n",
       ".xr-var-list > li:nth-child(odd) > label,\n",
       ".xr-var-list > li:nth-child(odd) > .xr-var-name span {\n",
       "  background-color: var(--xr-background-color-row-odd);\n",
       "}\n",
       "\n",
       ".xr-var-name {\n",
       "  grid-column: 1;\n",
       "}\n",
       "\n",
       ".xr-var-dims {\n",
       "  grid-column: 2;\n",
       "}\n",
       "\n",
       ".xr-var-dtype {\n",
       "  grid-column: 3;\n",
       "  text-align: right;\n",
       "  color: var(--xr-font-color2);\n",
       "}\n",
       "\n",
       ".xr-var-preview {\n",
       "  grid-column: 4;\n",
       "}\n",
       "\n",
       ".xr-var-name,\n",
       ".xr-var-dims,\n",
       ".xr-var-dtype,\n",
       ".xr-preview,\n",
       ".xr-attrs dt {\n",
       "  white-space: nowrap;\n",
       "  overflow: hidden;\n",
       "  text-overflow: ellipsis;\n",
       "  padding-right: 10px;\n",
       "}\n",
       "\n",
       ".xr-var-name:hover,\n",
       ".xr-var-dims:hover,\n",
       ".xr-var-dtype:hover,\n",
       ".xr-attrs dt:hover {\n",
       "  overflow: visible;\n",
       "  width: auto;\n",
       "  z-index: 1;\n",
       "}\n",
       "\n",
       ".xr-var-attrs,\n",
       ".xr-var-data {\n",
       "  display: none;\n",
       "  background-color: var(--xr-background-color) !important;\n",
       "  padding-bottom: 5px !important;\n",
       "}\n",
       "\n",
       ".xr-var-attrs-in:checked ~ .xr-var-attrs,\n",
       ".xr-var-data-in:checked ~ .xr-var-data {\n",
       "  display: block;\n",
       "}\n",
       "\n",
       ".xr-var-data > table {\n",
       "  float: right;\n",
       "}\n",
       "\n",
       ".xr-var-name span,\n",
       ".xr-var-data,\n",
       ".xr-attrs {\n",
       "  padding-left: 25px !important;\n",
       "}\n",
       "\n",
       ".xr-attrs,\n",
       ".xr-var-attrs,\n",
       ".xr-var-data {\n",
       "  grid-column: 1 / -1;\n",
       "}\n",
       "\n",
       "dl.xr-attrs {\n",
       "  padding: 0;\n",
       "  margin: 0;\n",
       "  display: grid;\n",
       "  grid-template-columns: 125px auto;\n",
       "}\n",
       "\n",
       ".xr-attrs dt,\n",
       ".xr-attrs dd {\n",
       "  padding: 0;\n",
       "  margin: 0;\n",
       "  float: left;\n",
       "  padding-right: 10px;\n",
       "  width: auto;\n",
       "}\n",
       "\n",
       ".xr-attrs dt {\n",
       "  font-weight: normal;\n",
       "  grid-column: 1;\n",
       "}\n",
       "\n",
       ".xr-attrs dt:hover span {\n",
       "  display: inline-block;\n",
       "  background: var(--xr-background-color);\n",
       "  padding-right: 10px;\n",
       "}\n",
       "\n",
       ".xr-attrs dd {\n",
       "  grid-column: 2;\n",
       "  white-space: pre-wrap;\n",
       "  word-break: break-all;\n",
       "}\n",
       "\n",
       ".xr-icon-database,\n",
       ".xr-icon-file-text2 {\n",
       "  display: inline-block;\n",
       "  vertical-align: middle;\n",
       "  width: 1em;\n",
       "  height: 1.5em !important;\n",
       "  stroke-width: 0;\n",
       "  stroke: currentColor;\n",
       "  fill: currentColor;\n",
       "}\n",
       "</style><pre class='xr-text-repr-fallback'>&lt;xarray.Variable (time: 2029, lat: 32, lon: 64)&gt;\n",
       "[4155392 values with dtype=float32]\n",
       "Attributes:\n",
       "    long_name:      Total precipitation\n",
       "    units:          kg/m2/s\n",
       "    cell_methods:   time: mean\n",
       "    time_avg_info:  average_T1,average_T2,average_DT</pre><div class='xr-wrap' style='display:none'><div class='xr-header'><div class='xr-obj-type'>xarray.Variable</div><div class='xr-array-name'></div><ul class='xr-dim-list'><li><span>time</span>: 2029</li><li><span>lat</span>: 32</li><li><span>lon</span>: 64</li></ul></div><ul class='xr-sections'><li class='xr-section-item'><div class='xr-array-wrap'><input id='section-42195f36-8fe4-4e9b-b005-c22832bb2df7' class='xr-array-in' type='checkbox' checked><label for='section-42195f36-8fe4-4e9b-b005-c22832bb2df7' title='Show/hide data repr'><svg class='icon xr-icon-database'><use xlink:href='#icon-database'></use></svg></label><div class='xr-array-preview xr-preview'><span>...</span></div><div class='xr-array-data'><pre>[4155392 values with dtype=float32]</pre></div></div></li><li class='xr-section-item'><input id='section-770d23d6-b181-49c3-a756-67af56782fb4' class='xr-section-summary-in' type='checkbox'  checked><label for='section-770d23d6-b181-49c3-a756-67af56782fb4' class='xr-section-summary' >Attributes: <span>(4)</span></label><div class='xr-section-inline-details'></div><div class='xr-section-details'><dl class='xr-attrs'><dt><span>long_name :</span></dt><dd>Total precipitation</dd><dt><span>units :</span></dt><dd>kg/m2/s</dd><dt><span>cell_methods :</span></dt><dd>time: mean</dd><dt><span>time_avg_info :</span></dt><dd>average_T1,average_T2,average_DT</dd></dl></div></li></ul></div></div>"
      ],
      "text/plain": [
       "<xarray.Variable (time: 2029, lat: 32, lon: 64)>\n",
       "[4155392 values with dtype=float32]\n",
       "Attributes:\n",
       "    long_name:      Total precipitation\n",
       "    units:          kg/m2/s\n",
       "    cell_methods:   time: mean\n",
       "    time_avg_info:  average_T1,average_T2,average_DT"
      ]
     },
     "execution_count": 5,
     "metadata": {},
     "output_type": "execute_result"
    }
   ],
   "source": [
    "ds2.variables['precip']"
   ]
  },
  {
   "cell_type": "code",
   "execution_count": 6,
   "id": "0cfffa3e",
   "metadata": {},
   "outputs": [
    {
     "name": "stdout",
     "output_type": "stream",
     "text": [
      "ds1_min_lat =  <xarray.Variable ()>\n",
      "array(-85.76059, dtype=float32)\n",
      "Attributes:\n",
      "    long_name:       latitude\n",
      "    units:           degrees_N\n",
      "    cartesian_axis:  Y\n",
      "    edges:           latb\n",
      "ds1_max_lat =  <xarray.Variable ()>\n",
      "array(85.76059, dtype=float32)\n",
      "Attributes:\n",
      "    long_name:       latitude\n",
      "    units:           degrees_N\n",
      "    cartesian_axis:  Y\n",
      "    edges:           latb\n",
      "ds1_min_lon =  <xarray.Variable ()>\n",
      "array(0., dtype=float32)\n",
      "Attributes:\n",
      "    long_name:       longitude\n",
      "    units:           degrees_E\n",
      "    cartesian_axis:  X\n",
      "    edges:           lonb\n",
      "ds1_max_lon =  <xarray.Variable ()>\n",
      "array(354.375, dtype=float32)\n",
      "Attributes:\n",
      "    long_name:       longitude\n",
      "    units:           degrees_E\n",
      "    cartesian_axis:  X\n",
      "    edges:           lonb\n",
      "ds2_min_lat =  <xarray.Variable ()>\n",
      "array(-85.76059, dtype=float32)\n",
      "Attributes:\n",
      "    long_name:       latitude\n",
      "    units:           degrees_N\n",
      "    cartesian_axis:  Y\n",
      "    edges:           latb\n",
      "ds2_max_lat =  <xarray.Variable ()>\n",
      "array(85.76059, dtype=float32)\n",
      "Attributes:\n",
      "    long_name:       latitude\n",
      "    units:           degrees_N\n",
      "    cartesian_axis:  Y\n",
      "    edges:           latb\n",
      "ds2_min_lon =  <xarray.Variable ()>\n",
      "array(0., dtype=float32)\n",
      "Attributes:\n",
      "    long_name:       longitude\n",
      "    units:           degrees_E\n",
      "    cartesian_axis:  X\n",
      "    edges:           lonb\n",
      "ds2_max_lon =  <xarray.Variable ()>\n",
      "array(354.375, dtype=float32)\n",
      "Attributes:\n",
      "    long_name:       longitude\n",
      "    units:           degrees_E\n",
      "    cartesian_axis:  X\n",
      "    edges:           lonb\n"
     ]
    }
   ],
   "source": [
    "print (\"ds1_min_lat = \", min(ds1.variables['lat']))\n",
    "print (\"ds1_max_lat = \", max(ds1.variables['lat']))\n",
    "print (\"ds1_min_lon = \", min(ds1.variables['lon']))\n",
    "print (\"ds1_max_lon = \", max(ds1.variables['lon']))\n",
    "print (\"ds2_min_lat = \", min(ds2.variables['lat']))\n",
    "print (\"ds2_max_lat = \", max(ds2.variables['lat']))\n",
    "print (\"ds2_min_lon = \", min(ds2.variables['lon']))\n",
    "print (\"ds2_max_lon = \", max(ds2.variables['lon']))"
   ]
  },
  {
   "cell_type": "markdown",
   "id": "417fde7c",
   "metadata": {},
   "source": [
    "Here we are plotting the data on a x,y axis"
   ]
  },
  {
   "cell_type": "code",
   "execution_count": 7,
   "id": "60199a27",
   "metadata": {},
   "outputs": [
    {
     "data": {
      "image/png": "[encoded data removed]",
      "text/plain": [
       "<Figure size 432x288 with 2 Axes>"
      ]
     },
     "metadata": {
      "needs_background": "light"
     },
     "output_type": "display_data"
    }
   ],
   "source": [
    "ds1timestep = ds1.variables['precip'][0]\n",
    "\n",
    "plt.imshow(ds1timestep)\n",
    "plt.colorbar()\n",
    "plt.show()"
   ]
  },
  {
   "cell_type": "code",
   "execution_count": 8,
   "id": "bd696fd1",
   "metadata": {},
   "outputs": [
    {
     "data": {
      "image/png": "[encoded data removed]",
      "text/plain": [
       "<Figure size 432x288 with 2 Axes>"
      ]
     },
     "metadata": {
      "needs_background": "light"
     },
     "output_type": "display_data"
    }
   ],
   "source": [
    "ds1time_averaged = np.mean(ds1.variables['precip'], axis = 0)\n",
    "\n",
    "plt.imshow(ds1time_averaged)\n",
    "plt.colorbar()\n",
    "plt.show()"
   ]
  },
  {
   "cell_type": "code",
   "execution_count": 9,
   "id": "d02a78bb",
   "metadata": {},
   "outputs": [
    {
     "data": {
      "image/png": "[encoded data removed]",
      "text/plain": [
       "<Figure size 432x288 with 2 Axes>"
      ]
     },
     "metadata": {
      "needs_background": "light"
     },
     "output_type": "display_data"
    }
   ],
   "source": [
    "ds2timestep = ds2.variables['precip'][0]\n",
    "\n",
    "plt.imshow(ds2timestep)\n",
    "plt.colorbar()\n",
    "plt.show()"
   ]
  },
  {
   "cell_type": "code",
   "execution_count": 10,
   "id": "7787e38f",
   "metadata": {},
   "outputs": [
    {
     "data": {
      "image/png": "[encoded data removed]",
      "text/plain": [
       "<Figure size 432x288 with 2 Axes>"
      ]
     },
     "metadata": {
      "needs_background": "light"
     },
     "output_type": "display_data"
    }
   ],
   "source": [
    "ds2time_averaged = np.mean(ds2.variables['precip'], axis = 0)\n",
    "\n",
    "plt.imshow(ds2time_averaged)\n",
    "plt.colorbar()\n",
    "plt.show()"
   ]
  },
  {
   "cell_type": "code",
   "execution_count": 11,
   "id": "ac85066a",
   "metadata": {},
   "outputs": [
    {
     "data": {
      "text/html": [
       "<div><svg style=\"position: absolute; width: 0; height: 0; overflow: hidden\">\n",
       "<defs>\n",
       "<symbol id=\"icon-database\" viewBox=\"0 0 32 32\">\n",
       "<path d=\"M16 0c-8.837 0-16 2.239-16 5v4c0 2.761 7.163 5 16 5s16-2.239 16-5v-4c0-2.761-7.163-5-16-5z\"></path>\n",
       "<path d=\"M16 17c-8.837 0-16-2.239-16-5v6c0 2.761 7.163 5 16 5s16-2.239 16-5v-6c0 2.761-7.163 5-16 5z\"></path>\n",
       "<path d=\"M16 26c-8.837 0-16-2.239-16-5v6c0 2.761 7.163 5 16 5s16-2.239 16-5v-6c0 2.761-7.163 5-16 5z\"></path>\n",
       "</symbol>\n",
       "<symbol id=\"icon-file-text2\" viewBox=\"0 0 32 32\">\n",
       "<path d=\"M28.681 7.159c-0.694-0.947-1.662-2.053-2.724-3.116s-2.169-2.030-3.116-2.724c-1.612-1.182-2.393-1.319-2.841-1.319h-15.5c-1.378 0-2.5 1.121-2.5 2.5v27c0 1.378 1.122 2.5 2.5 2.5h23c1.378 0 2.5-1.122 2.5-2.5v-19.5c0-0.448-0.137-1.23-1.319-2.841zM24.543 5.457c0.959 0.959 1.712 1.825 2.268 2.543h-4.811v-4.811c0.718 0.556 1.584 1.309 2.543 2.268zM28 29.5c0 0.271-0.229 0.5-0.5 0.5h-23c-0.271 0-0.5-0.229-0.5-0.5v-27c0-0.271 0.229-0.5 0.5-0.5 0 0 15.499-0 15.5 0v7c0 0.552 0.448 1 1 1h7v19.5z\"></path>\n",
       "<path d=\"M23 26h-14c-0.552 0-1-0.448-1-1s0.448-1 1-1h14c0.552 0 1 0.448 1 1s-0.448 1-1 1z\"></path>\n",
       "<path d=\"M23 22h-14c-0.552 0-1-0.448-1-1s0.448-1 1-1h14c0.552 0 1 0.448 1 1s-0.448 1-1 1z\"></path>\n",
       "<path d=\"M23 18h-14c-0.552 0-1-0.448-1-1s0.448-1 1-1h14c0.552 0 1 0.448 1 1s-0.448 1-1 1z\"></path>\n",
       "</symbol>\n",
       "</defs>\n",
       "</svg>\n",
       "<style>/* CSS stylesheet for displaying xarray objects in jupyterlab.\n",
       " *\n",
       " */\n",
       "\n",
       ":root {\n",
       "  --xr-font-color0: var(--jp-content-font-color0, rgba(0, 0, 0, 1));\n",
       "  --xr-font-color2: var(--jp-content-font-color2, rgba(0, 0, 0, 0.54));\n",
       "  --xr-font-color3: var(--jp-content-font-color3, rgba(0, 0, 0, 0.38));\n",
       "  --xr-border-color: var(--jp-border-color2, #e0e0e0);\n",
       "  --xr-disabled-color: var(--jp-layout-color3, #bdbdbd);\n",
       "  --xr-background-color: var(--jp-layout-color0, white);\n",
       "  --xr-background-color-row-even: var(--jp-layout-color1, white);\n",
       "  --xr-background-color-row-odd: var(--jp-layout-color2, #eeeeee);\n",
       "}\n",
       "\n",
       "html[theme=dark],\n",
       "body.vscode-dark {\n",
       "  --xr-font-color0: rgba(255, 255, 255, 1);\n",
       "  --xr-font-color2: rgba(255, 255, 255, 0.54);\n",
       "  --xr-font-color3: rgba(255, 255, 255, 0.38);\n",
       "  --xr-border-color: #1F1F1F;\n",
       "  --xr-disabled-color: #515151;\n",
       "  --xr-background-color: #111111;\n",
       "  --xr-background-color-row-even: #111111;\n",
       "  --xr-background-color-row-odd: #313131;\n",
       "}\n",
       "\n",
       ".xr-wrap {\n",
       "  display: block !important;\n",
       "  min-width: 300px;\n",
       "  max-width: 700px;\n",
       "}\n",
       "\n",
       ".xr-text-repr-fallback {\n",
       "  /* fallback to plain text repr when CSS is not injected (untrusted notebook) */\n",
       "  display: none;\n",
       "}\n",
       "\n",
       ".xr-header {\n",
       "  padding-top: 6px;\n",
       "  padding-bottom: 6px;\n",
       "  margin-bottom: 4px;\n",
       "  border-bottom: solid 1px var(--xr-border-color);\n",
       "}\n",
       "\n",
       ".xr-header > div,\n",
       ".xr-header > ul {\n",
       "  display: inline;\n",
       "  margin-top: 0;\n",
       "  margin-bottom: 0;\n",
       "}\n",
       "\n",
       ".xr-obj-type,\n",
       ".xr-array-name {\n",
       "  margin-left: 2px;\n",
       "  margin-right: 10px;\n",
       "}\n",
       "\n",
       ".xr-obj-type {\n",
       "  color: var(--xr-font-color2);\n",
       "}\n",
       "\n",
       ".xr-sections {\n",
       "  padding-left: 0 !important;\n",
       "  display: grid;\n",
       "  grid-template-columns: 150px auto auto 1fr 20px 20px;\n",
       "}\n",
       "\n",
       ".xr-section-item {\n",
       "  display: contents;\n",
       "}\n",
       "\n",
       ".xr-section-item input {\n",
       "  display: none;\n",
       "}\n",
       "\n",
       ".xr-section-item input + label {\n",
       "  color: var(--xr-disabled-color);\n",
       "}\n",
       "\n",
       ".xr-section-item input:enabled + label {\n",
       "  cursor: pointer;\n",
       "  color: var(--xr-font-color2);\n",
       "}\n",
       "\n",
       ".xr-section-item input:enabled + label:hover {\n",
       "  color: var(--xr-font-color0);\n",
       "}\n",
       "\n",
       ".xr-section-summary {\n",
       "  grid-column: 1;\n",
       "  color: var(--xr-font-color2);\n",
       "  font-weight: 500;\n",
       "}\n",
       "\n",
       ".xr-section-summary > span {\n",
       "  display: inline-block;\n",
       "  padding-left: 0.5em;\n",
       "}\n",
       "\n",
       ".xr-section-summary-in:disabled + label {\n",
       "  color: var(--xr-font-color2);\n",
       "}\n",
       "\n",
       ".xr-section-summary-in + label:before {\n",
       "  display: inline-block;\n",
       "  content: '►';\n",
       "  font-size: 11px;\n",
       "  width: 15px;\n",
       "  text-align: center;\n",
       "}\n",
       "\n",
       ".xr-section-summary-in:disabled + label:before {\n",
       "  color: var(--xr-disabled-color);\n",
       "}\n",
       "\n",
       ".xr-section-summary-in:checked + label:before {\n",
       "  content: '▼';\n",
       "}\n",
       "\n",
       ".xr-section-summary-in:checked + label > span {\n",
       "  display: none;\n",
       "}\n",
       "\n",
       ".xr-section-summary,\n",
       ".xr-section-inline-details {\n",
       "  padding-top: 4px;\n",
       "  padding-bottom: 4px;\n",
       "}\n",
       "\n",
       ".xr-section-inline-details {\n",
       "  grid-column: 2 / -1;\n",
       "}\n",
       "\n",
       ".xr-section-details {\n",
       "  display: none;\n",
       "  grid-column: 1 / -1;\n",
       "  margin-bottom: 5px;\n",
       "}\n",
       "\n",
       ".xr-section-summary-in:checked ~ .xr-section-details {\n",
       "  display: contents;\n",
       "}\n",
       "\n",
       ".xr-array-wrap {\n",
       "  grid-column: 1 / -1;\n",
       "  display: grid;\n",
       "  grid-template-columns: 20px auto;\n",
       "}\n",
       "\n",
       ".xr-array-wrap > label {\n",
       "  grid-column: 1;\n",
       "  vertical-align: top;\n",
       "}\n",
       "\n",
       ".xr-preview {\n",
       "  color: var(--xr-font-color3);\n",
       "}\n",
       "\n",
       ".xr-array-preview,\n",
       ".xr-array-data {\n",
       "  padding: 0 5px !important;\n",
       "  grid-column: 2;\n",
       "}\n",
       "\n",
       ".xr-array-data,\n",
       ".xr-array-in:checked ~ .xr-array-preview {\n",
       "  display: none;\n",
       "}\n",
       "\n",
       ".xr-array-in:checked ~ .xr-array-data,\n",
       ".xr-array-preview {\n",
       "  display: inline-block;\n",
       "}\n",
       "\n",
       ".xr-dim-list {\n",
       "  display: inline-block !important;\n",
       "  list-style: none;\n",
       "  padding: 0 !important;\n",
       "  margin: 0;\n",
       "}\n",
       "\n",
       ".xr-dim-list li {\n",
       "  display: inline-block;\n",
       "  padding: 0;\n",
       "  margin: 0;\n",
       "}\n",
       "\n",
       ".xr-dim-list:before {\n",
       "  content: '(';\n",
       "}\n",
       "\n",
       ".xr-dim-list:after {\n",
       "  content: ')';\n",
       "}\n",
       "\n",
       ".xr-dim-list li:not(:last-child):after {\n",
       "  content: ',';\n",
       "  padding-right: 5px;\n",
       "}\n",
       "\n",
       ".xr-has-index {\n",
       "  font-weight: bold;\n",
       "}\n",
       "\n",
       ".xr-var-list,\n",
       ".xr-var-item {\n",
       "  display: contents;\n",
       "}\n",
       "\n",
       ".xr-var-item > div,\n",
       ".xr-var-item label,\n",
       ".xr-var-item > .xr-var-name span {\n",
       "  background-color: var(--xr-background-color-row-even);\n",
       "  margin-bottom: 0;\n",
       "}\n",
       "\n",
       ".xr-var-item > .xr-var-name:hover span {\n",
       "  padding-right: 5px;\n",
       "}\n",
       "\n",
       ".xr-var-list > li:nth-child(odd) > div,\n",
       ".xr-var-list > li:nth-child(odd) > label,\n",
       ".xr-var-list > li:nth-child(odd) > .xr-var-name span {\n",
       "  background-color: var(--xr-background-color-row-odd);\n",
       "}\n",
       "\n",
       ".xr-var-name {\n",
       "  grid-column: 1;\n",
       "}\n",
       "\n",
       ".xr-var-dims {\n",
       "  grid-column: 2;\n",
       "}\n",
       "\n",
       ".xr-var-dtype {\n",
       "  grid-column: 3;\n",
       "  text-align: right;\n",
       "  color: var(--xr-font-color2);\n",
       "}\n",
       "\n",
       ".xr-var-preview {\n",
       "  grid-column: 4;\n",
       "}\n",
       "\n",
       ".xr-var-name,\n",
       ".xr-var-dims,\n",
       ".xr-var-dtype,\n",
       ".xr-preview,\n",
       ".xr-attrs dt {\n",
       "  white-space: nowrap;\n",
       "  overflow: hidden;\n",
       "  text-overflow: ellipsis;\n",
       "  padding-right: 10px;\n",
       "}\n",
       "\n",
       ".xr-var-name:hover,\n",
       ".xr-var-dims:hover,\n",
       ".xr-var-dtype:hover,\n",
       ".xr-attrs dt:hover {\n",
       "  overflow: visible;\n",
       "  width: auto;\n",
       "  z-index: 1;\n",
       "}\n",
       "\n",
       ".xr-var-attrs,\n",
       ".xr-var-data {\n",
       "  display: none;\n",
       "  background-color: var(--xr-background-color) !important;\n",
       "  padding-bottom: 5px !important;\n",
       "}\n",
       "\n",
       ".xr-var-attrs-in:checked ~ .xr-var-attrs,\n",
       ".xr-var-data-in:checked ~ .xr-var-data {\n",
       "  display: block;\n",
       "}\n",
       "\n",
       ".xr-var-data > table {\n",
       "  float: right;\n",
       "}\n",
       "\n",
       ".xr-var-name span,\n",
       ".xr-var-data,\n",
       ".xr-attrs {\n",
       "  padding-left: 25px !important;\n",
       "}\n",
       "\n",
       ".xr-attrs,\n",
       ".xr-var-attrs,\n",
       ".xr-var-data {\n",
       "  grid-column: 1 / -1;\n",
       "}\n",
       "\n",
       "dl.xr-attrs {\n",
       "  padding: 0;\n",
       "  margin: 0;\n",
       "  display: grid;\n",
       "  grid-template-columns: 125px auto;\n",
       "}\n",
       "\n",
       ".xr-attrs dt,\n",
       ".xr-attrs dd {\n",
       "  padding: 0;\n",
       "  margin: 0;\n",
       "  float: left;\n",
       "  padding-right: 10px;\n",
       "  width: auto;\n",
       "}\n",
       "\n",
       ".xr-attrs dt {\n",
       "  font-weight: normal;\n",
       "  grid-column: 1;\n",
       "}\n",
       "\n",
       ".xr-attrs dt:hover span {\n",
       "  display: inline-block;\n",
       "  background: var(--xr-background-color);\n",
       "  padding-right: 10px;\n",
       "}\n",
       "\n",
       ".xr-attrs dd {\n",
       "  grid-column: 2;\n",
       "  white-space: pre-wrap;\n",
       "  word-break: break-all;\n",
       "}\n",
       "\n",
       ".xr-icon-database,\n",
       ".xr-icon-file-text2 {\n",
       "  display: inline-block;\n",
       "  vertical-align: middle;\n",
       "  width: 1em;\n",
       "  height: 1.5em !important;\n",
       "  stroke-width: 0;\n",
       "  stroke: currentColor;\n",
       "  fill: currentColor;\n",
       "}\n",
       "</style><pre class='xr-text-repr-fallback'>&lt;xarray.Variable ()&gt;\n",
       "array(8.919066e-09, dtype=float32)</pre><div class='xr-wrap' style='display:none'><div class='xr-header'><div class='xr-obj-type'>xarray.Variable</div><div class='xr-array-name'></div></div><ul class='xr-sections'><li class='xr-section-item'><div class='xr-array-wrap'><input id='section-eff6e1c9-bee1-4d55-9f8d-64d4c96c15f6' class='xr-array-in' type='checkbox' checked><label for='section-eff6e1c9-bee1-4d55-9f8d-64d4c96c15f6' title='Show/hide data repr'><svg class='icon xr-icon-database'><use xlink:href='#icon-database'></use></svg></label><div class='xr-array-preview xr-preview'><span>8.919e-09</span></div><div class='xr-array-data'><pre>array(8.919066e-09, dtype=float32)</pre></div></div></li><li class='xr-section-item'><input id='section-78e9ed7b-1a51-488e-8d95-0478a1cb42b4' class='xr-section-summary-in' type='checkbox' disabled ><label for='section-78e9ed7b-1a51-488e-8d95-0478a1cb42b4' class='xr-section-summary'  title='Expand/collapse section'>Attributes: <span>(0)</span></label><div class='xr-section-inline-details'></div><div class='xr-section-details'><dl class='xr-attrs'></dl></div></li></ul></div></div>"
      ],
      "text/plain": [
       "<xarray.Variable ()>\n",
       "array(8.919066e-09, dtype=float32)"
      ]
     },
     "execution_count": 11,
     "metadata": {},
     "output_type": "execute_result"
    },
    {
     "data": {
      "image/png": "[encoded data removed]",
      "text/plain": [
       "<Figure size 432x288 with 2 Axes>"
      ]
     },
     "metadata": {
      "needs_background": "light"
     },
     "output_type": "display_data"
    }
   ],
   "source": [
    "plt.contourf(ds1time_averaged)\n",
    "plt.colorbar()\n",
    "\n",
    "ds1time_averaged[15,5]"
   ]
  },
  {
   "cell_type": "markdown",
   "id": "93e68765",
   "metadata": {},
   "source": [
    "The formatted data merges into a an average over the 20-Titan-year period"
   ]
  },
  {
   "cell_type": "code",
   "execution_count": 12,
   "id": "dbc7a28c",
   "metadata": {},
   "outputs": [
    {
     "data": {
      "image/png": "[encoded data removed]",
      "text/plain": [
       "<Figure size 432x288 with 2 Axes>"
      ]
     },
     "metadata": {
      "needs_background": "light"
     },
     "output_type": "display_data"
    }
   ],
   "source": [
    "import matplotlib as mpl\n",
    "yearavg = np.mean(np.array([ds1time_averaged, ds2time_averaged]), axis=0 )\n",
    "\n",
    "cmap = mpl.cm.GnBu\n",
    "\n",
    "plt.imshow(yearavg, cmap = 'GnBu')\n",
    "plt.colorbar(mpl.cm.ScalarMappable(cmap=cmap),orientation = 'horizontal', label = 'Precipitation (kg/m2/s)')\n",
    "plt.show()"
   ]
  },
  {
   "cell_type": "code",
   "execution_count": 14,
   "id": "6f771b81",
   "metadata": {},
   "outputs": [
    {
     "data": {
      "text/plain": [
       "<matplotlib.image.AxesImage at 0x24214cea5e0>"
      ]
     },
     "execution_count": 14,
     "metadata": {},
     "output_type": "execute_result"
    },
    {
     "data": {
      "image/png": "[encoded data removed]",
      "text/plain": [
       "<Figure size 432x288 with 1 Axes>"
      ]
     },
     "metadata": {
      "needs_background": "light"
     },
     "output_type": "display_data"
    }
   ],
   "source": [
    "plt.imshow(yearavg)"
   ]
  },
  {
   "cell_type": "code",
   "execution_count": 15,
   "id": "b6cdbc84",
   "metadata": {},
   "outputs": [
    {
     "data": {
      "text/plain": [
       "(32, 64)"
      ]
     },
     "execution_count": 15,
     "metadata": {},
     "output_type": "execute_result"
    }
   ],
   "source": [
    "np.shape(yearavg)"
   ]
  },
  {
   "cell_type": "markdown",
   "id": "480a42b8",
   "metadata": {},
   "source": [
    "Here, the process followed the following steps:\n",
    "     \n",
    "     - Firstly, latitudinal and longitudinal bands were converted into coordinates. This was accomplished by dividing 360 by          65 for the longitude to give us 5.53 degree increments, and dividing 180 by 33 for the latitude to give us 5.45                degree increments. \n",
    "     \n",
    "     - Secondly, the geometric center for each TSS fluvial network was extracted.\n",
    "     \n",
    "     - Finally, the coordinates were applied to give us the dimensions on the graph which allowed for extracting the                  corresponding precipitation value.\n",
    "\n",
    "Next, the precipitation values were converted from kg/m2/s to mm/d-1 then to mm/y-1:\n",
    "    \n",
    "    - First the kg/m2 was reduced by dividing the value by 450 (relating to the density of liquid methane on Titan (0.45g/cc).\n",
    "    \n",
    "    - Next m/s value was multiplied by 1000 to convert the measurement from meters to millimeters.\n",
    "    \n",
    "    - Then, the value (mm/s) was multiplied by 86400 to convert it to mm/d-1.\n",
    "    \n",
    "    - Finally the value was multiplied by 15.945 to convert values from days to years (A year on Titan is 15 days, 22 hours           and 41 seconds). This is the length of time that Titan takes for 1 full orbit of Saturn."
   ]
  },
  {
   "cell_type": "code",
   "execution_count": 16,
   "id": "9478c965",
   "metadata": {},
   "outputs": [
    {
     "data": {
      "text/plain": [
       "2.1681831e-07"
      ]
     },
     "execution_count": 16,
     "metadata": {},
     "output_type": "execute_result"
    }
   ],
   "source": [
    "#B1\n",
    "B1 = yearavg[27,39]\n",
    "yearavg[27,39]"
   ]
  },
  {
   "cell_type": "code",
   "execution_count": 103,
   "id": "1052db2c",
   "metadata": {},
   "outputs": [
    {
     "data": {
      "text/plain": [
       "0.6637762387254043"
      ]
     },
     "execution_count": 103,
     "metadata": {},
     "output_type": "execute_result"
    }
   ],
   "source": [
    "((((B1/450)*1000)*86400)*15.945)"
   ]
  },
  {
   "cell_type": "code",
   "execution_count": 108,
   "id": "31d7ee25",
   "metadata": {},
   "outputs": [
    {
     "data": {
      "text/plain": [
       "2.4800477e-07"
      ]
     },
     "execution_count": 108,
     "metadata": {},
     "output_type": "execute_result"
    }
   ],
   "source": [
    "#B3\n",
    "B3 = yearavg[28,38]\n",
    "yearavg[28,38]"
   ]
  },
  {
   "cell_type": "code",
   "execution_count": 106,
   "id": "30bb4786",
   "metadata": {},
   "outputs": [
    {
     "data": {
      "text/plain": [
       "0.7592517137163668"
      ]
     },
     "execution_count": 106,
     "metadata": {},
     "output_type": "execute_result"
    }
   ],
   "source": [
    "((((B3/450)*1000)*86400)*15.945)"
   ]
  },
  {
   "cell_type": "code",
   "execution_count": 107,
   "id": "9abfd435",
   "metadata": {},
   "outputs": [
    {
     "data": {
      "text/plain": [
       "3.067599e-07"
      ]
     },
     "execution_count": 107,
     "metadata": {},
     "output_type": "execute_result"
    }
   ],
   "source": [
    "#C1\n",
    "C1 = yearavg[28,27]\n",
    "yearavg[28,27]"
   ]
  },
  {
   "cell_type": "code",
   "execution_count": 110,
   "id": "8787288a",
   "metadata": {},
   "outputs": [
    {
     "data": {
      "text/plain": [
       "0.9391269879233732"
      ]
     },
     "execution_count": 110,
     "metadata": {},
     "output_type": "execute_result"
    }
   ],
   "source": [
    "((((C1/450)*1000)*86400)*15.945)"
   ]
  },
  {
   "cell_type": "code",
   "execution_count": 111,
   "id": "260f75e4",
   "metadata": {},
   "outputs": [
    {
     "data": {
      "text/plain": [
       "5.4269393e-08"
      ]
     },
     "execution_count": 111,
     "metadata": {},
     "output_type": "execute_result"
    }
   ],
   "source": [
    "#E1\n",
    "E1 = yearavg[22,51]\n",
    "yearavg[22,51]"
   ]
  },
  {
   "cell_type": "code",
   "execution_count": 112,
   "id": "f9349338",
   "metadata": {},
   "outputs": [
    {
     "data": {
      "text/plain": [
       "0.16614248908354057"
      ]
     },
     "execution_count": 112,
     "metadata": {},
     "output_type": "execute_result"
    }
   ],
   "source": [
    "((((E1/450)*1000)*86400)*15.945)"
   ]
  },
  {
   "cell_type": "code",
   "execution_count": 113,
   "id": "4b650ac8",
   "metadata": {},
   "outputs": [
    {
     "data": {
      "text/plain": [
       "5.0056382e-08"
      ]
     },
     "execution_count": 113,
     "metadata": {},
     "output_type": "execute_result"
    }
   ],
   "source": [
    "#E3\n",
    "E3 = yearavg[22,53]\n",
    "yearavg[22,53]"
   ]
  },
  {
   "cell_type": "code",
   "execution_count": 114,
   "id": "64605fbd",
   "metadata": {},
   "outputs": [
    {
     "data": {
      "text/plain": [
       "0.1532446105704821"
      ]
     },
     "execution_count": 114,
     "metadata": {},
     "output_type": "execute_result"
    }
   ],
   "source": [
    "((((E3/450)*1000)*86400)*15.945)"
   ]
  },
  {
   "cell_type": "code",
   "execution_count": 115,
   "id": "f4850019",
   "metadata": {},
   "outputs": [
    {
     "data": {
      "text/plain": [
       "2.1779375e-08"
      ]
     },
     "execution_count": 115,
     "metadata": {},
     "output_type": "execute_result"
    }
   ],
   "source": [
    "#E4\n",
    "E4 = yearavg[21,53]\n",
    "yearavg[21,53]"
   ]
  },
  {
   "cell_type": "code",
   "execution_count": 116,
   "id": "64cb9bbf",
   "metadata": {},
   "outputs": [
    {
     "data": {
      "text/plain": [
       "0.06667624902888747"
      ]
     },
     "execution_count": 116,
     "metadata": {},
     "output_type": "execute_result"
    }
   ],
   "source": [
    "((((E4/450)*1000)*86400)*15.945)"
   ]
  },
  {
   "cell_type": "code",
   "execution_count": null,
   "id": "625f3b4d",
   "metadata": {},
   "outputs": [],
   "source": []
  },
  {
   "cell_type": "code",
   "execution_count": null,
   "id": "4a9c3008",
   "metadata": {},
   "outputs": [],
   "source": []
  },
  {
   "cell_type": "code",
   "execution_count": 119,
   "id": "2645d64b",
   "metadata": {},
   "outputs": [
    {
     "data": {
      "text/plain": [
       "2.1360451e-08"
      ]
     },
     "execution_count": 119,
     "metadata": {},
     "output_type": "execute_result"
    }
   ],
   "source": [
    "#E6\n",
    "E6 = yearavg[19,52]\n",
    "yearavg[19,52]"
   ]
  },
  {
   "cell_type": "code",
   "execution_count": 120,
   "id": "4a50d5c8",
   "metadata": {},
   "outputs": [
    {
     "data": {
      "text/plain": [
       "0.06539373967768825"
      ]
     },
     "execution_count": 120,
     "metadata": {},
     "output_type": "execute_result"
    }
   ],
   "source": [
    "((((E6/450)*1000)*86400)*15.945)"
   ]
  },
  {
   "cell_type": "code",
   "execution_count": 121,
   "id": "97194cd9",
   "metadata": {},
   "outputs": [
    {
     "data": {
      "text/plain": [
       "1.1027549e-08"
      ]
     },
     "execution_count": 121,
     "metadata": {},
     "output_type": "execute_result"
    }
   ],
   "source": [
    "#E8\n",
    "E8 = yearavg[18,52]\n",
    "yearavg[18,52]"
   ]
  },
  {
   "cell_type": "code",
   "execution_count": 122,
   "id": "c85ab1f9",
   "metadata": {},
   "outputs": [
    {
     "data": {
      "text/plain": [
       "0.033760178545207964"
      ]
     },
     "execution_count": 122,
     "metadata": {},
     "output_type": "execute_result"
    }
   ],
   "source": [
    "((((E8/450)*1000)*86400)*15.945)"
   ]
  },
  {
   "cell_type": "code",
   "execution_count": 123,
   "id": "0d7403ee",
   "metadata": {},
   "outputs": [
    {
     "data": {
      "text/plain": [
       "3.08196e-08"
      ]
     },
     "execution_count": 123,
     "metadata": {},
     "output_type": "execute_result"
    }
   ],
   "source": [
    "#G1\n",
    "G1 = yearavg[19,43]\n",
    "yearavg[19,43]"
   ]
  },
  {
   "cell_type": "code",
   "execution_count": 124,
   "id": "9af16a4d",
   "metadata": {},
   "outputs": [
    {
     "data": {
      "text/plain": [
       "0.09435235413320699"
      ]
     },
     "execution_count": 124,
     "metadata": {},
     "output_type": "execute_result"
    }
   ],
   "source": [
    "((((G1/450)*1000)*86400)*15.945)"
   ]
  },
  {
   "cell_type": "code",
   "execution_count": 126,
   "id": "23ca21a2",
   "metadata": {},
   "outputs": [
    {
     "data": {
      "text/plain": [
       "3.4234127e-08"
      ]
     },
     "execution_count": 126,
     "metadata": {},
     "output_type": "execute_result"
    }
   ],
   "source": [
    "#G2\n",
    "G2 = yearavg[18,44]\n",
    "yearavg[18,44]"
   ]
  },
  {
   "cell_type": "code",
   "execution_count": 127,
   "id": "4cfc6517",
   "metadata": {},
   "outputs": [
    {
     "data": {
      "text/plain": [
       "0.10480572467486127"
      ]
     },
     "execution_count": 127,
     "metadata": {},
     "output_type": "execute_result"
    }
   ],
   "source": [
    "((((G2/450)*1000)*86400)*15.945)"
   ]
  },
  {
   "cell_type": "code",
   "execution_count": 128,
   "id": "df1925cf",
   "metadata": {},
   "outputs": [
    {
     "data": {
      "text/plain": [
       "4.2412875e-08"
      ]
     },
     "execution_count": 128,
     "metadata": {},
     "output_type": "execute_result"
    }
   ],
   "source": [
    "#G4\n",
    "G4 = yearavg[18,42]\n",
    "yearavg[18,42]"
   ]
  },
  {
   "cell_type": "code",
   "execution_count": 129,
   "id": "8dbda8b7",
   "metadata": {},
   "outputs": [
    {
     "data": {
      "text/plain": [
       "0.12984447200892646"
      ]
     },
     "execution_count": 129,
     "metadata": {},
     "output_type": "execute_result"
    }
   ],
   "source": [
    "((((G4/450)*1000)*86400)*15.945)"
   ]
  },
  {
   "cell_type": "code",
   "execution_count": 130,
   "id": "94db8ea0",
   "metadata": {},
   "outputs": [
    {
     "data": {
      "text/plain": [
       "1.9152218e-08"
      ]
     },
     "execution_count": 130,
     "metadata": {},
     "output_type": "execute_result"
    }
   ],
   "source": [
    "#G6\n",
    "G6 = yearavg[17,40]\n",
    "yearavg[17,40]"
   ]
  },
  {
   "cell_type": "code",
   "execution_count": 131,
   "id": "63a4c0a6",
   "metadata": {},
   "outputs": [
    {
     "data": {
      "text/plain": [
       "0.058633365017612966"
      ]
     },
     "execution_count": 131,
     "metadata": {},
     "output_type": "execute_result"
    }
   ],
   "source": [
    "((((G6/450)*1000)*86400)*15.945)"
   ]
  },
  {
   "cell_type": "code",
   "execution_count": null,
   "id": "d80d9aca",
   "metadata": {},
   "outputs": [],
   "source": []
  },
  {
   "cell_type": "code",
   "execution_count": null,
   "id": "6ad2ee62",
   "metadata": {},
   "outputs": [],
   "source": []
  },
  {
   "cell_type": "code",
   "execution_count": 134,
   "id": "5e4d9a0a",
   "metadata": {},
   "outputs": [
    {
     "data": {
      "text/plain": [
       "6.3133063e-09"
      ]
     },
     "execution_count": 134,
     "metadata": {},
     "output_type": "execute_result"
    }
   ],
   "source": [
    "#J1\n",
    "J1 = yearavg[13,51]\n",
    "yearavg[13,51]"
   ]
  },
  {
   "cell_type": "code",
   "execution_count": 135,
   "id": "3f0804fc",
   "metadata": {},
   "outputs": [
    {
     "data": {
      "text/plain": [
       "0.01932780850694371"
      ]
     },
     "execution_count": 135,
     "metadata": {},
     "output_type": "execute_result"
    }
   ],
   "source": [
    "((((J1/450)*1000)*86400)*15.945)"
   ]
  },
  {
   "cell_type": "code",
   "execution_count": 136,
   "id": "a36a281f",
   "metadata": {},
   "outputs": [
    {
     "data": {
      "text/plain": [
       "1.0014273e-08"
      ]
     },
     "execution_count": 136,
     "metadata": {},
     "output_type": "execute_result"
    }
   ],
   "source": [
    "#K1\n",
    "K1 = yearavg[14,49]\n",
    "yearavg[14,49]"
   ]
  },
  {
   "cell_type": "code",
   "execution_count": 138,
   "id": "e05a8eff",
   "metadata": {},
   "outputs": [
    {
     "data": {
      "text/plain": [
       "0.03065809583034707"
      ]
     },
     "execution_count": 138,
     "metadata": {},
     "output_type": "execute_result"
    }
   ],
   "source": [
    "((((K1/450)*1000)*86400)*15.945)"
   ]
  },
  {
   "cell_type": "code",
   "execution_count": 18,
   "id": "96b87824",
   "metadata": {},
   "outputs": [
    {
     "data": {
      "text/plain": [
       "1.5390383e-07"
      ]
     },
     "execution_count": 18,
     "metadata": {},
     "output_type": "execute_result"
    }
   ],
   "source": [
    "#A3\n",
    "A3 = yearavg[26,63]\n",
    "yearavg[26,63]"
   ]
  },
  {
   "cell_type": "code",
   "execution_count": 19,
   "id": "716235f4",
   "metadata": {},
   "outputs": [
    {
     "data": {
      "text/plain": [
       "0.47116733082020806"
      ]
     },
     "execution_count": 19,
     "metadata": {},
     "output_type": "execute_result"
    }
   ],
   "source": [
    "((((A3/450)*1000)*86400)*15.945)"
   ]
  },
  {
   "cell_type": "code",
   "execution_count": null,
   "id": "b5b99f72",
   "metadata": {},
   "outputs": [],
   "source": []
  },
  {
   "cell_type": "code",
   "execution_count": null,
   "id": "5df1b858",
   "metadata": {},
   "outputs": [],
   "source": []
  },
  {
   "cell_type": "code",
   "execution_count": 22,
   "id": "fa6c267f",
   "metadata": {},
   "outputs": [
    {
     "data": {
      "text/plain": [
       "5.0056382e-08"
      ]
     },
     "execution_count": 22,
     "metadata": {},
     "output_type": "execute_result"
    }
   ],
   "source": [
    "#E5\n",
    "E5 = yearavg[22,53]\n",
    "yearavg[22,53]"
   ]
  },
  {
   "cell_type": "code",
   "execution_count": 23,
   "id": "47c8dcdf",
   "metadata": {},
   "outputs": [
    {
     "data": {
      "text/plain": [
       "0.1532446105704821"
      ]
     },
     "execution_count": 23,
     "metadata": {},
     "output_type": "execute_result"
    }
   ],
   "source": [
    "((((E5/450)*1000)*86400)*15.945)"
   ]
  },
  {
   "cell_type": "code",
   "execution_count": 24,
   "id": "e5f5ec54",
   "metadata": {},
   "outputs": [
    {
     "data": {
      "text/plain": [
       "2.1360451e-08"
      ]
     },
     "execution_count": 24,
     "metadata": {},
     "output_type": "execute_result"
    }
   ],
   "source": [
    "#E6\n",
    "E6 = yearavg[19,52]\n",
    "yearavg[19,52]"
   ]
  },
  {
   "cell_type": "code",
   "execution_count": 25,
   "id": "ae98b851",
   "metadata": {},
   "outputs": [
    {
     "data": {
      "text/plain": [
       "0.06539373967768825"
      ]
     },
     "execution_count": 25,
     "metadata": {},
     "output_type": "execute_result"
    }
   ],
   "source": [
    "((((E6/450)*1000)*86400)*15.945)"
   ]
  },
  {
   "cell_type": "code",
   "execution_count": 27,
   "id": "be845a0c",
   "metadata": {},
   "outputs": [
    {
     "data": {
      "text/plain": [
       "3.3466147e-08"
      ]
     },
     "execution_count": 27,
     "metadata": {},
     "output_type": "execute_result"
    }
   ],
   "source": [
    "#G5\n",
    "G5 = yearavg[18,41]\n",
    "yearavg[18,41]"
   ]
  },
  {
   "cell_type": "code",
   "execution_count": 28,
   "id": "f0a22217",
   "metadata": {},
   "outputs": [
    {
     "data": {
      "text/plain": [
       "0.10245460164355791"
      ]
     },
     "execution_count": 28,
     "metadata": {},
     "output_type": "execute_result"
    }
   ],
   "source": [
    "((((G5/450)*1000)*86400)*15.945)"
   ]
  },
  {
   "cell_type": "code",
   "execution_count": 29,
   "id": "2f00e250",
   "metadata": {},
   "outputs": [
    {
     "data": {
      "text/plain": [
       "2.7337764e-08"
      ]
     },
     "execution_count": 29,
     "metadata": {},
     "output_type": "execute_result"
    }
   ],
   "source": [
    "#G8\n",
    "G8 = yearavg[19,42]\n",
    "yearavg[19,42]"
   ]
  },
  {
   "cell_type": "code",
   "execution_count": 30,
   "id": "201e3262",
   "metadata": {},
   "outputs": [
    {
     "data": {
      "text/plain": [
       "0.08369292438089815"
      ]
     },
     "execution_count": 30,
     "metadata": {},
     "output_type": "execute_result"
    }
   ],
   "source": [
    "((((G8/450)*1000)*86400)*15.945)"
   ]
  },
  {
   "cell_type": "code",
   "execution_count": 31,
   "id": "baf11ad0",
   "metadata": {},
   "outputs": [
    {
     "data": {
      "text/plain": [
       "7.5991125e-09"
      ]
     },
     "execution_count": 31,
     "metadata": {},
     "output_type": "execute_result"
    }
   ],
   "source": [
    "#L1\n",
    "L1 = yearavg[15,6]\n",
    "yearavg[15,6]"
   ]
  },
  {
   "cell_type": "code",
   "execution_count": 32,
   "id": "3f921d5e",
   "metadata": {},
   "outputs": [
    {
     "data": {
      "text/plain": [
       "0.023264226820174375"
      ]
     },
     "execution_count": 32,
     "metadata": {},
     "output_type": "execute_result"
    }
   ],
   "source": [
    "((((L1/450)*1000)*86400)*15.945)"
   ]
  },
  {
   "cell_type": "code",
   "execution_count": 35,
   "id": "0104a9cc",
   "metadata": {},
   "outputs": [
    {
     "name": "stderr",
     "output_type": "stream",
     "text": [
      "C:\\Users\\Alexz\\anaconda3\\lib\\site-packages\\seaborn\\_decorators.py:36: FutureWarning: Pass the following variables as keyword args: x, y. From version 0.12, the only valid positional argument will be `data`, and passing other arguments without an explicit keyword will result in an error or misinterpretation.\n",
      "  warnings.warn(\n"
     ]
    },
    {
     "data": {
      "image/png": "[encoded data removed]",
      "text/plain": [
       "<Figure size 432x288 with 1 Axes>"
      ]
     },
     "metadata": {
      "needs_background": "light"
     },
     "output_type": "display_data"
    }
   ],
   "source": [
    "# Defining the libraries\n",
    "import numpy as np #A libary used for working with arrays.\n",
    "import matplotlib.pyplot as plt # A libary used for plotting graphs.\n",
    "import pandas as pd # A libary used for faster data analysis, works in conjunction with the numpy libary.\n",
    "import seaborn as sns\n",
    "from matplotlib.patches import Patch # Used to customise legend.\n",
    "from matplotlib.lines import Line2D # Used to customise legend.\n",
    "from sklearn.linear_model import LinearRegression # A pre-defined linear regression model.\n",
    "from scipy import stats #Importing a statistic libary.\n",
    "# The following command allows for the storing of created plots in the notebook document for the readers convenience.\n",
    "%matplotlib inline\n",
    "\n",
    "# Creates Linear Regression\n",
    "\n",
    "x = np.array([1.16, 2.51, 1.15, 1.52, 1.11, 1.84, 1.07, 3, 2, 1.71, 0.48, 1.85, 1.32, 1.17, 1.48, 2.59, 1.67, 1.91, 1.5])\n",
    "y = np.array([0.471167331, 0.663776239, 0.759251714, 0.939126988, 0.166142489, 0.153244611, 0.066676249,\n",
    "              0.153244611, 0.06539374, 0.033760179, 0.094352354, 0.104805725, 0.129844472, 0.102454602,\n",
    "              0.058633365, 0.083692924, 0.019327809, 0.030658096, 0.023264227])\n",
    "\n",
    "sns.regplot(x, y, color = 'black', marker = '.', line_kws = {'color': 'red', 'ls': '-'}, ci = None)\n",
    "plt.xlabel('c', style = 'italic')\n",
    "plt.ylabel('Precipitation (mmyr⁻¹)')\n",
    "plt.xlim(0, 3.5)\n",
    "plt.ylim(0, 1)\n",
    "plt.title('Confidence Threshold: 0.1')\n",
    "plt.tight_layout()\n",
    "plt.savefig('prec0.1.png')"
   ]
  },
  {
   "cell_type": "code",
   "execution_count": 39,
   "id": "27503a7a",
   "metadata": {},
   "outputs": [
    {
     "name": "stderr",
     "output_type": "stream",
     "text": [
      "C:\\Users\\Alexz\\anaconda3\\lib\\site-packages\\seaborn\\_decorators.py:36: FutureWarning: Pass the following variables as keyword args: x, y. From version 0.12, the only valid positional argument will be `data`, and passing other arguments without an explicit keyword will result in an error or misinterpretation.\n",
      "  warnings.warn(\n"
     ]
    },
    {
     "data": {
      "image/png": "[encoded data removed]",
      "text/plain": [
       "<Figure size 432x288 with 1 Axes>"
      ]
     },
     "metadata": {
      "needs_background": "light"
     },
     "output_type": "display_data"
    }
   ],
   "source": [
    "# Defining the libraries\n",
    "import numpy as np #A libary used for working with arrays.\n",
    "import matplotlib.pyplot as plt # A libary used for plotting graphs.\n",
    "import pandas as pd # A libary used for faster data analysis, works in conjunction with the numpy libary.\n",
    "import seaborn as sns\n",
    "from matplotlib.patches import Patch # Used to customise legend.\n",
    "from matplotlib.lines import Line2D # Used to customise legend.\n",
    "from sklearn.linear_model import LinearRegression # A pre-defined linear regression model.\n",
    "from scipy import stats #Importing a statistic libary.\n",
    "# The following command allows for the storing of created plots in the notebook document for the readers convenience.\n",
    "%matplotlib inline\n",
    "\n",
    "# Creates Linear Regression\n",
    "\n",
    "x = np.array([2.51, 1.52, 1.84, 3, 1.71, 0.48, 1.85, 1.48, 2.59, 1.67])\n",
    "\n",
    "y = np.array([0.663776239, 0.939126988, 0.153244611, 0.153244611, 0.033760179, 0.094352354,\n",
    "                0.104805725, 0.058633365, 0.083692924, 0.019327809])\n",
    "\n",
    "sns.regplot(x, y, color = 'black', marker = '.', line_kws = {'color': 'red', 'ls': '-'}, ci = None)\n",
    "plt.xlabel('c', style = 'italic')\n",
    "plt.ylabel('Precipitation (mmyr⁻¹)')\n",
    "plt.xlim(0, 3.5)\n",
    "plt.ylim(0, 1)\n",
    "plt.title('Confidence Threshold: 0.3')\n",
    "plt.tight_layout()\n",
    "plt.savefig('prec0.3.png')"
   ]
  },
  {
   "cell_type": "code",
   "execution_count": 40,
   "id": "e7fa617d",
   "metadata": {},
   "outputs": [
    {
     "name": "stderr",
     "output_type": "stream",
     "text": [
      "C:\\Users\\Alexz\\anaconda3\\lib\\site-packages\\seaborn\\_decorators.py:36: FutureWarning: Pass the following variables as keyword args: x, y. From version 0.12, the only valid positional argument will be `data`, and passing other arguments without an explicit keyword will result in an error or misinterpretation.\n",
      "  warnings.warn(\n"
     ]
    },
    {
     "data": {
      "image/png": "[encoded data removed]",
      "text/plain": [
       "<Figure size 432x288 with 1 Axes>"
      ]
     },
     "metadata": {
      "needs_background": "light"
     },
     "output_type": "display_data"
    }
   ],
   "source": [
    "# Defining the libraries\n",
    "import numpy as np #A libary used for working with arrays.\n",
    "import matplotlib.pyplot as plt # A libary used for plotting graphs.\n",
    "import pandas as pd # A libary used for faster data analysis, works in conjunction with the numpy libary.\n",
    "import seaborn as sns\n",
    "from matplotlib.patches import Patch # Used to customise legend.\n",
    "from matplotlib.lines import Line2D # Used to customise legend.\n",
    "from sklearn.linear_model import LinearRegression # A pre-defined linear regression model.\n",
    "from scipy import stats #Importing a statistic libary.\n",
    "# The following command allows for the storing of created plots in the notebook document for the readers convenience.\n",
    "%matplotlib inline\n",
    "\n",
    "# Creates Linear Regression\n",
    "\n",
    "x = np.array([2.51, 1.84, 3, 0.48, 1.85, 2.59, 1.67])\n",
    "y = np.array([0.663776239, 0.153244611, 0.153244611, 0.094352354, 0.104805725, 0.083692924, 0.019327809])\n",
    "\n",
    "sns.regplot(x, y, color = 'black', marker = '.', line_kws = {'color': 'red', 'ls': '-'}, ci = None)\n",
    "plt.xlabel('c', style = 'italic')\n",
    "plt.ylabel('Precipitation (mmyr⁻¹)')\n",
    "plt.xlim(0, 3.5)\n",
    "plt.ylim(0, 1)\n",
    "plt.title('Confidence Threshold: 0.5')\n",
    "plt.tight_layout()\n",
    "plt.savefig('prec0.5.png')"
   ]
  },
  {
   "cell_type": "code",
   "execution_count": 5,
   "id": "411827e3",
   "metadata": {},
   "outputs": [
    {
     "data": {
      "text/plain": [
       "LinregressResult(slope=0.0888379428236391, intercept=0.004863335719781592, rvalue=0.3367967326414731, pvalue=0.46010481213136367, stderr=0.11107124444014968, intercept_stderr=0.2368694967695236)"
      ]
     },
     "execution_count": 5,
     "metadata": {},
     "output_type": "execute_result"
    }
   ],
   "source": [
    "# Pearsons correlation coefficent calculation\n",
    "x = [2.51, 1.84, 3, 0.48, 1.85, 2.59, 1.67]\n",
    "y = [0.663776239, 0.153244611, 0.153244611, 0.094352354, 0.104805725, 0.083692924, 0.019327809]\n",
    "from scipy.stats import linregress\n",
    "linregress(x,y)"
   ]
  }
 ],
 "metadata": {
  "kernelspec": {
   "display_name": "Python 3",
   "language": "python",
   "name": "python3"
  },
  "language_info": {
   "codemirror_mode": {
    "name": "ipython",
    "version": 3
   },
   "file_extension": ".py",
   "mimetype": "text/x-python",
   "name": "python",
   "nbconvert_exporter": "python",
   "pygments_lexer": "ipython3",
   "version": "3.8.8"
  }
 },
 "nbformat": 4,
 "nbformat_minor": 5
}
