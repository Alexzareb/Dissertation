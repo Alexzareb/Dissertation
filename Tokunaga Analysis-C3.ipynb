{
 "cells": [
  {
   "cell_type": "code",
   "execution_count": 1,
   "metadata": {},
   "outputs": [],
   "source": [
    "import tokunaga_fns as toku\n",
    "import numpy as np\n",
    "import matplotlib.pyplot as plt"
   ]
  },
  {
   "cell_type": "code",
   "execution_count": 18,
   "metadata": {
    "collapsed": true,
    "scrolled": true
   },
   "outputs": [],
   "source": [
    "# Lets load some of our data and see if there is any variation in c values between the basins in this dataset\n",
    "\n",
    "# empty list to store our c values\n",
    "Cs = []\n",
    "\n",
    "# we have 7 basins in this dataset, labelled 0 through 6\n",
    "for i in range(7):\n",
    "    filename = 'TokunagaData_OCR_{}.csv'.format(i)\n",
    "\n",
    "    toku_data, strahler_data, lengths = toku.read_toku_data(filename)\n",
    "\n",
    "    r_sq, a, c = toku.fit_a_and_c(toku_data, strahler_data)\n",
    "    Cs.append(c)\n",
    "    "
   ]
  },
  {
   "cell_type": "code",
   "execution_count": 19,
   "metadata": {},
   "outputs": [
    {
     "data": {
      "text/plain": [
       "{'whiskers': [<matplotlib.lines.Line2D at 0x12d752e80>,\n",
       "  <matplotlib.lines.Line2D at 0x12d75c208>],\n",
       " 'caps': [<matplotlib.lines.Line2D at 0x12d75c550>,\n",
       "  <matplotlib.lines.Line2D at 0x12d75c898>],\n",
       " 'boxes': [<matplotlib.lines.Line2D at 0x12d752d30>],\n",
       " 'medians': [<matplotlib.lines.Line2D at 0x12d75cbe0>],\n",
       " 'fliers': [<matplotlib.lines.Line2D at 0x12d75cf28>],\n",
       " 'means': []}"
      ]
     },
     "execution_count": 19,
     "metadata": {},
     "output_type": "execute_result"
    },
    {
     "data": {
      "image/png": "[encoded data removed]",
      "text/plain": [
       "<Figure size 432x288 with 1 Axes>"
      ]
     },
     "metadata": {
      "needs_background": "light"
     },
     "output_type": "display_data"
    }
   ],
   "source": [
    "# Lets make a quick boxplot of our c values to see the variability in this part of the landscape\n",
    "# In reality we need more than 7 values for this to be a useful metric on its own\n",
    "\n",
    "plt.boxplot(Cs)"
   ]
  },
  {
   "cell_type": "code",
   "execution_count": 2,
   "metadata": {},
   "outputs": [
    {
     "name": "stderr",
     "output_type": "stream",
     "text": [
      "C:\\Users\\Alexz\\Desktop\\Titan Scrubbed Dataset\\tokunaga_fns.py:41: RuntimeWarning: invalid value encountered in power\n",
      "  return a * np.power(c, k - 1)\n"
     ]
    },
    {
     "data": {
      "text/plain": [
       "Text(0, 0.5, '$T_k$')"
      ]
     },
     "execution_count": 2,
     "metadata": {},
     "output_type": "execute_result"
    },
    {
     "data": {
      "image/png": "[encoded data removed]",
      "text/plain": [
       "<Figure size 432x288 with 1 Axes>"
      ]
     },
     "metadata": {
      "needs_background": "light"
     },
     "output_type": "display_data"
    }
   ],
   "source": [
    "# Plot and style an example of the fitting process to compute the c and a values\n",
    "\n",
    "filename = 'South/C/C3.csv'\n",
    "toku_data, strahler_data, lengths = toku.read_toku_data(filename)\n",
    "# is this correct as the data in the csv files is strahler, \n",
    "# tokunaga and finally lengths.\n",
    "r_sq, a, c, x, y = toku.fit_a_and_c_x_y(toku_data, strahler_data)\n",
    "\n",
    "model_x = np.linspace(1,6,100)\n",
    "model_y = toku.f(model_x, a, c)\n",
    "\n",
    "annotation1 = '$T_{k} = a c^{k-1}$'\n",
    "annotation2 = '$a = ' + str(round(a, 2)) + '$ $c = ' + str(round(c, 2)) + '$'\n",
    "annotation3 = '$R^2 = ' + str(round(r_sq, 2)) + '$'\n",
    "\n",
    "plt.text(0.5, 1.70, annotation1, fontsize='18')\n",
    "plt.text(0.5, 1.5, annotation2, fontsize='12')\n",
    "plt.text(0.5, 1.25, annotation3, fontsize='12')\n",
    "\n",
    "plt.xlim(0, 7)\n",
    "plt.yscale('log')\n",
    "plt.plot(x, y, '.b')\n",
    "plt.plot(model_x, model_y, 'k--')\n",
    "plt.xlabel('$k$')\n",
    "plt.ylabel('$T_k$')"
   ]
  },
  {
   "cell_type": "code",
   "execution_count": null,
   "metadata": {
    "collapsed": true
   },
   "outputs": [],
   "source": []
  }
 ],
 "metadata": {
  "kernelspec": {
   "display_name": "Python 3",
   "language": "python",
   "name": "python3"
  },
  "language_info": {
   "codemirror_mode": {
    "name": "ipython",
    "version": 3
   },
   "file_extension": ".py",
   "mimetype": "text/x-python",
   "name": "python",
   "nbconvert_exporter": "python",
   "pygments_lexer": "ipython3",
   "version": "3.8.8"
  }
 },
 "nbformat": 4,
 "nbformat_minor": 2
}
