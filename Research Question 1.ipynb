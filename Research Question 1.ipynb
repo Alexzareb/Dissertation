{
 "cells": [
  {
   "cell_type": "markdown",
   "id": "4b8a1f15",
   "metadata": {},
   "source": [
    "# Research Question 1"
   ]
  },
  {
   "cell_type": "markdown",
   "id": "13d80129",
   "metadata": {},
   "source": [
    "Part 1: Tokunaga Self-Similarity"
   ]
  },
  {
   "cell_type": "code",
   "execution_count": 1,
   "id": "6091e571",
   "metadata": {},
   "outputs": [],
   "source": [
    "# This is a list of R2 values taken from the RQ1.csv,\n",
    "# showing how self-similar each network is; \n",
    "# based on the Tk and k relationship for each network.\n",
    "R2 = [0.93, 0.2, 0.05, 0.05, 0.58, 0.12, 0.35, 0.2, 0.88,\n",
    "      0.13, 0.25, 0.25, 0.77, 0.25, 0.57, 0.25, 0.75, 0.48, \n",
    "      0.05, 0.25, 0.98, 0.69, 0.62, 0.25, 0.13, 0.06, 0.32, \n",
    "      1, 0.53, 0, 1, 0.57, 0.1, 0.08]"
   ]
  },
  {
   "cell_type": "code",
   "execution_count": 2,
   "id": "20a1fbb7",
   "metadata": {
    "scrolled": true
   },
   "outputs": [
    {
     "name": "stdout",
     "output_type": "stream",
     "text": [
      "[0.93, 0.2, 0.05, 0.05, 0.58, 0.12, 0.35, 0.2, 0.88, 0.13, 0.25, 0.25, 0.77, 0.25, 0.57, 0.25, 0.75, 0.48, 0.05, 0.25, 0.98, 0.69, 0.62, 0.25, 0.13, 0.06, 0.32, 1, 0.53, 0, 1, 0.57, 0.1, 0.08]\n"
     ]
    }
   ],
   "source": [
    "# Checks that all values have been entered into the list correctly.\n",
    "print(R2)"
   ]
  },
  {
   "cell_type": "code",
   "execution_count": 3,
   "id": "a718bb2e",
   "metadata": {},
   "outputs": [],
   "source": [
    "# Based on the Example_Tokunaga Analysis-**, any networks which:\n",
    "# a) lacked a line of best fit, or b) had a negative correlation,\n",
    "# were filtered out.\n",
    "R2_filt = [0.05, 0.58, 0.12, 0.35, 0.25, 0.57, 0.25, 0.48, 0.69, 0.62, 0.13, 0.06, 0.32, 0.53, 0.57, 0.1, 0.08]"
   ]
  },
  {
   "cell_type": "code",
   "execution_count": 4,
   "id": "d4614ecb",
   "metadata": {},
   "outputs": [
    {
     "name": "stdout",
     "output_type": "stream",
     "text": [
      "[0.05, 0.58, 0.12, 0.35, 0.25, 0.57, 0.25, 0.48, 0.69, 0.62, 0.13, 0.06, 0.32, 0.53, 0.57, 0.1, 0.08]\n"
     ]
    }
   ],
   "source": [
    "# Checks that all values have been entered into the list correctly.\n",
    "print(R2_filt)"
   ]
  },
  {
   "cell_type": "code",
   "execution_count": 5,
   "id": "7ac6db18",
   "metadata": {},
   "outputs": [],
   "source": [
    "# Catagorising R2 values according to the network order\n",
    "# i.e. an order 3 network value gets input into the data3 list etc.\n",
    "# Calculated by looking at individual .csv files of networks and taking maximum order.\n",
    "data3 = [0.25, 0.77, 0.25, 0.57, 0.25, 0.48, 0.69, 0.62, 0.57, 0.08]\n",
    "data4 = [0.05, 0.58, 0.12, 0.35, 0.13, 0.06, 0.32, 0.53, 0.1]"
   ]
  },
  {
   "cell_type": "code",
   "execution_count": 6,
   "id": "7e87974d",
   "metadata": {},
   "outputs": [
    {
     "name": "stdout",
     "output_type": "stream",
     "text": [
      "[0.25, 0.77, 0.25, 0.57, 0.25, 0.48, 0.69, 0.62, 0.57, 0.08]\n",
      "[0.05, 0.58, 0.12, 0.35, 0.13, 0.06, 0.32, 0.53, 0.1]\n"
     ]
    }
   ],
   "source": [
    "print(data3)\n",
    "print(data4)"
   ]
  },
  {
   "cell_type": "code",
   "execution_count": 8,
   "id": "f7eebdae",
   "metadata": {},
   "outputs": [
    {
     "data": {
      "image/png": "[encoded data removed]",
      "text/plain": [
       "<Figure size 432x288 with 1 Axes>"
      ]
     },
     "metadata": {
      "needs_background": "light"
     },
     "output_type": "display_data"
    }
   ],
   "source": [
    "# Defining the libraries\n",
    "import numpy as np #A libary used for working with arrays.\n",
    "import matplotlib.pyplot as plt # A libary used for plotting graphs.\n",
    "import pandas as pd # A libary used for faster data analysis, works in conjunction with the numpy libary.\n",
    "from matplotlib.patches import Patch # Used to customise legend.\n",
    "from matplotlib.lines import Line2D # Used to customise legend.\n",
    "# The following command allows for the storing of created plots in the notebook document for the readers convenience.\n",
    "%matplotlib inline\n",
    "\n",
    "# Number of datapoints used.\n",
    "N3 = 10\n",
    "N4 = 9\n",
    "\n",
    "# Sorts the data in ascending order;\n",
    "# data is kept in groups according to the order of the network.\n",
    "xorder3 = np.sort(data3)\n",
    "xorder4 = np.sort(data4)\n",
    "\n",
    "# Getting the CSF value of y.\n",
    "y3 = np.arange(N3)/ float(N3)\n",
    "y4 = np.arange(N4)/ float(N4)\n",
    "\n",
    "# Setting Acceptance threshold x values.\n",
    "acc_thresh_vertical = [0, 0.2, 0.4, 0.6, 0.8, 1]\n",
    "acc_thresh_horizontal = [0.1, 0.1, 0.1, 0.1, 0.1, 0.1]\n",
    "\n",
    "# Plotting the ECDF graph.\n",
    "plt.xlabel('R\\u00b2')\n",
    "plt.ylabel('NON-EXCEEDING FREQ.')\n",
    "plt.title('TOKUNAGA SELF-SIMILARITY')\n",
    "plt.xlim(0, 1)\n",
    "plt.ylim(0, 1)\n",
    "plt.plot(xorder3, y3, linestyle = '-', color= 'black', lw = 1, label = 'ORDER 3')\n",
    "plt.plot(xorder4, y4, linestyle = '--', color = 'black', lw = 1, label = 'ORDER 4')\n",
    "plt.plot(acc_thresh_horizontal, acc_thresh_vertical, linestyle = '-.', color = 'black', lw = 1, label = 'ACC. THRESH.' )\n",
    "legend_elements = [Line2D([0], [0], color = 'black', linestyle = '-', lw = 1, label = 'Order 3'),\n",
    "                   Line2D([0], [0], color = 'black', linestyle = '--', lw = 1, label = 'Order 4'),\n",
    "                   Line2D([0], [0], color = 'black', linestyle = '-.', lw = 1, label = 'Acc. Thresh.')]\n",
    "plt.legend(handles = legend_elements, markerfirst = True, frameon = False, loc = 'center right')\n",
    "plt.tight_layout()\n",
    "plt.savefig('ECDF TSS.png')"
   ]
  },
  {
   "cell_type": "markdown",
   "id": "28598677",
   "metadata": {},
   "source": [
    "Part 2: Tokunaga Parameter Relationships"
   ]
  },
  {
   "cell_type": "code",
   "execution_count": 12,
   "id": "e3b54984",
   "metadata": {},
   "outputs": [],
   "source": [
    "# This is a list of all a and c parameters taken from the RQ1.csv,\n",
    "# calculated from the tokunaga_fns.py.\n",
    "a = [0.65, 0.21, 0.3, 0.28, 0.15, 0, 0.31, 0.22, \n",
    "     0.42, 0.55, 0.35, 0.45, 0.36, 0.34, 0.4, 0.17, \n",
    "     0.25, 0.38, 0.35, 0.27, 0.5, 0.61, 0.52, 0.27, \n",
    "     0.33, 0.26, 0.32, 0.28, 0.61, 0.09, 0.26, 0.68, \n",
    "     0.38, 0.14, 0.33]\n",
    "c = [0, 0, 1.16, 0.82, 2.51, 2.4, 1.15, 1.52, 0.59,\n",
    "     0, 0.71, 1.11, 0, 1.84, 1.17, 3, 2, 0, 1.71, \n",
    "     0.73, 0.8, 0, 0.48, 1.85, 0, 1.32, 1.17, 1.48, \n",
    "     0.33, 2.59, 0.98, 0, 1.67, 1.91, 1.5]"
   ]
  },
  {
   "cell_type": "code",
   "execution_count": 14,
   "id": "e2944295",
   "metadata": {},
   "outputs": [
    {
     "name": "stdout",
     "output_type": "stream",
     "text": [
      "[0.65, 0.21, 0.3, 0.28, 0.15, 0, 0.31, 0.22, 0.42, 0.55, 0.35, 0.45, 0.36, 0.34, 0.4, 0.17, 0.25, 0.38, 0.35, 0.27, 0.5, 0.61, 0.52, 0.27, 0.33, 0.26, 0.32, 0.28, 0.61, 0.09, 0.26, 0.68, 0.38, 0.14, 0.33]\n",
      "[0, 0, 1.16, 0.82, 2.51, 2.4, 1.15, 1.52, 0.59, 0, 0.71, 1.11, 0, 1.84, 1.17, 3, 2, 0, 1.71, 0.73, 0.8, 0, 0.48, 1.85, 0, 1.32, 1.17, 1.48, 0.33, 2.59, 0.98, 0, 1.67, 1.91, 1.5]\n"
     ]
    }
   ],
   "source": [
    "# Checks that all values have been entered into the list correctly.\n",
    "print(a)\n",
    "print(c)"
   ]
  },
  {
   "cell_type": "code",
   "execution_count": 9,
   "id": "677908aa",
   "metadata": {},
   "outputs": [],
   "source": [
    "# Based on the Example Tokunaga Analysis-**, any networks which:\n",
    "# a) lacked a line of best fit, b) had a negative correlation, or c) did not meet the acceptance threshold\n",
    "# were filtered out (not TSS).\n",
    "a_filt = [0.3, 0.15, 0.31, 0.22, 0.45, 0.34, 0.4, 0.17, 0.25, 0.35, 0.52, 0.27, 0.26, 0.32, 0.28, 0.09, 0.38, 0.14, 0.33]\n",
    "c_filt = [1.16, 2.51, 1.15, 1.52, 1.11, 1.84, 1.07, 3, 2, 1.71, 0.48, 1.85, 1.32, 1.17, 1.48, 2.59, 1.67, 1.91, 1.5]"
   ]
  },
  {
   "cell_type": "code",
   "execution_count": 15,
   "id": "b99620fc",
   "metadata": {},
   "outputs": [
    {
     "name": "stdout",
     "output_type": "stream",
     "text": [
      "[0.3, 0.15, 0.31, 0.22, 0.45, 0.34, 0.4, 0.17, 0.25, 0.35, 0.52, 0.27, 0.26, 0.32, 0.28, 0.09, 0.38, 0.14, 0.33]\n",
      "[1.16, 2.51, 1.15, 1.52, 1.11, 1.84, 1.07, 3, 2, 1.71, 0.48, 1.85, 1.32, 1.17, 1.48, 2.59, 1.67, 1.91, 1.5]\n"
     ]
    }
   ],
   "source": [
    "# Checks that all values have been entered into the list correctly.\n",
    "print(a_filt)\n",
    "print(c_filt)"
   ]
  },
  {
   "cell_type": "code",
   "execution_count": 10,
   "id": "09ccc89f",
   "metadata": {},
   "outputs": [],
   "source": [
    "# Catagorising a and c parameters according to the network order\n",
    "# i.e. an order 3 network value gets input into both (a/c)_filt_3 lists etc.\n",
    "# Calculated by looking at individual .csv files of networks and taking maximum order.\n",
    "a_filt_3 = [0.45, 0.34, 0.4, 0.17, 0.25, 0.35, 0.52, 0.27, 0.38, 0.33]\n",
    "c_filt_3 = [1.11, 1.84, 1.07, 3, 2, 1.71, 0.48, 1.85, 1.67, 1.5]\n",
    "a_filt_4 = [0.3, 0.15, 0.31, 0.22, 0.26, 0.32, 0.28, 0.09, 0.14]\n",
    "c_filt_4 = [1.16, 2.51, 1.15, 1.52, 1.32, 1.17, 1.48, 2.59, 1.91]"
   ]
  },
  {
   "cell_type": "code",
   "execution_count": 11,
   "id": "cc9e1d75",
   "metadata": {},
   "outputs": [],
   "source": [
    "# R2 values for each river network examined.\n",
    "R2order3 = [0.25, 0.77, 0.25, 0.57, 0.25, 0.48, 0.69, 0.62, 0.57, 0.08]\n",
    "R2order4 = [0.05, 0.58, 0.12, 0.35, 0.13, 0.06, 0.32, 0.53, 0.1]"
   ]
  },
  {
   "cell_type": "code",
   "execution_count": 12,
   "id": "ae9ffb54",
   "metadata": {},
   "outputs": [
    {
     "data": {
      "image/png": "[encoded data removed]",
      "text/plain": [
       "<Figure size 432x288 with 1 Axes>"
      ]
     },
     "metadata": {
      "needs_background": "light"
     },
     "output_type": "display_data"
    }
   ],
   "source": [
    "# Plotting a against c parameter, seperated into invidivual orders.\n",
    "from matplotlib.patches import Patch # Used to customise legend.\n",
    "from matplotlib.lines import Line2D # Used to customise legend.\n",
    "plt.scatter(x = a_filt_3, y = c_filt_3, marker = 'x', color = 'black', label = 'ORDER 3')\n",
    "plt.scatter(x = a_filt_4, y = c_filt_4, marker = 's', color = 'black', label = 'ORDER 4')\n",
    "plt.xlabel('a', style = 'italic')\n",
    "plt.ylabel('c', style = 'italic')\n",
    "plt.title('TOKUNAGA PARAMETERS')\n",
    "plt.legend(markerfirst = True, frameon = False, loc='upper right')\n",
    "plt.tight_layout()\n",
    "plt.savefig('a+c parameters.png')"
   ]
  },
  {
   "cell_type": "code",
   "execution_count": 108,
   "id": "137357ed",
   "metadata": {
    "scrolled": true
   },
   "outputs": [
    {
     "data": {
      "image/png": "[encoded data removed]",
      "text/plain": [
       "<Figure size 432x288 with 2 Axes>"
      ]
     },
     "metadata": {
      "needs_background": "light"
     },
     "output_type": "display_data"
    }
   ],
   "source": [
    "# Exploratory analysis of parameter relationships with consideration to R2.\n",
    "plt.scatter(x = a_filt_3, y = c_filt_3, c = R2order3 , marker = 'x', label = 'ORDER 3')\n",
    "plt.scatter(x = a_filt_4, y = c_filt_4, c = R2order4 , marker = 's', label = 'ORDER 4')\n",
    "colorbar = plt.colorbar()\n",
    "colorbar.set_label('R\\u00b2')\n",
    "plt.xlabel('a', style = 'italic')\n",
    "plt.ylabel('c', style = 'italic')\n",
    "plt.title('TOKUNAGA PARAMETERS')\n",
    "legend_elements = [Line2D([0], [0], marker = 'X', color = 'w', label = 'Order 3',\n",
    "                          markerfacecolor = 'black', markersize = 10),\n",
    "                   Line2D([0], [0], marker = 's', color = 'w', label = 'Order 4',\n",
    "                          markerfacecolor = 'black', markersize = 10)]\n",
    "plt.legend(handles = legend_elements, markerfirst = True, frameon = False, loc = 'upper right')\n",
    "plt.tight_layout()\n",
    "plt.savefig('a+c parameters with r2.png')"
   ]
  },
  {
   "cell_type": "code",
   "execution_count": null,
   "id": "e7f07bc6",
   "metadata": {},
   "outputs": [],
   "source": []
  },
  {
   "cell_type": "code",
   "execution_count": null,
   "id": "4a21a828",
   "metadata": {},
   "outputs": [],
   "source": []
  },
  {
   "cell_type": "code",
   "execution_count": null,
   "id": "ebedfbfe",
   "metadata": {},
   "outputs": [],
   "source": []
  },
  {
   "cell_type": "code",
   "execution_count": null,
   "id": "1d4a3264",
   "metadata": {},
   "outputs": [],
   "source": []
  },
  {
   "cell_type": "code",
   "execution_count": null,
   "id": "a0100a02",
   "metadata": {},
   "outputs": [],
   "source": []
  },
  {
   "cell_type": "code",
   "execution_count": null,
   "id": "ed0b34c8",
   "metadata": {},
   "outputs": [],
   "source": []
  },
  {
   "cell_type": "code",
   "execution_count": null,
   "id": "5e15ac30",
   "metadata": {},
   "outputs": [],
   "source": []
  }
 ],
 "metadata": {
  "kernelspec": {
   "display_name": "Python 3",
   "language": "python",
   "name": "python3"
  },
  "language_info": {
   "codemirror_mode": {
    "name": "ipython",
    "version": 3
   },
   "file_extension": ".py",
   "mimetype": "text/x-python",
   "name": "python",
   "nbconvert_exporter": "python",
   "pygments_lexer": "ipython3",
   "version": "3.8.8"
  }
 },
 "nbformat": 4,
 "nbformat_minor": 5
}
